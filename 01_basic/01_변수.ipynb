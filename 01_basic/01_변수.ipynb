{
 "cells": [
  {
   "cell_type": "markdown",
   "id": "4ab89ee2-33d8-4294-b50c-6e5bd7ad147b",
   "metadata": {},
   "source": [
    "# 변수선언"
   ]
  },
  {
   "cell_type": "code",
   "execution_count": 1,
   "id": "8d4b3581-1812-45ca-bd48-5b42365bd94a",
   "metadata": {},
   "outputs": [],
   "source": [
    "professor = \"choi\""
   ]
  },
  {
   "cell_type": "code",
   "execution_count": 2,
   "id": "905c2a72-f12a-45ae-af4d-6b2f1d3971d4",
   "metadata": {},
   "outputs": [
    {
     "data": {
      "text/plain": [
       "'choi'"
      ]
     },
     "execution_count": 2,
     "metadata": {},
     "output_type": "execute_result"
    }
   ],
   "source": [
    "professor"
   ]
  },
  {
   "cell_type": "code",
   "execution_count": 4,
   "id": "b1e7f6ab-328c-474e-a3a5-99a579a94dbe",
   "metadata": {},
   "outputs": [
    {
     "name": "stdout",
     "output_type": "stream",
     "text": [
      "choi\n"
     ]
    }
   ],
   "source": [
    "print(professor)"
   ]
  },
  {
   "cell_type": "code",
   "execution_count": 6,
   "id": "3d0d21b2-acc1-45d9-94c6-99379eeeb010",
   "metadata": {},
   "outputs": [
    {
     "data": {
      "text/plain": [
       "7"
      ]
     },
     "execution_count": 6,
     "metadata": {},
     "output_type": "execute_result"
    }
   ],
   "source": [
    "a = 7\n",
    "a"
   ]
  },
  {
   "cell_type": "code",
   "execution_count": 9,
   "id": "6cbce8c9-41c8-4c88-82f4-3de00ec19a13",
   "metadata": {},
   "outputs": [
    {
     "data": {
      "text/plain": [
       "5"
      ]
     },
     "execution_count": 9,
     "metadata": {},
     "output_type": "execute_result"
    }
   ],
   "source": [
    "b = 5\n",
    "a\n",
    "b"
   ]
  },
  {
   "cell_type": "code",
   "execution_count": 10,
   "id": "52eb8f3e-6282-4e1a-bc3c-03fd4c65d369",
   "metadata": {},
   "outputs": [
    {
     "data": {
      "text/plain": [
       "1"
      ]
     },
     "execution_count": 10,
     "metadata": {},
     "output_type": "execute_result"
    }
   ],
   "source": [
    "a=1\n",
    "a"
   ]
  },
  {
   "cell_type": "code",
   "execution_count": 11,
   "id": "a6caca1e-1f21-4ab1-87e9-587da3fca184",
   "metadata": {},
   "outputs": [
    {
     "data": {
      "text/plain": [
       "int"
      ]
     },
     "execution_count": 11,
     "metadata": {},
     "output_type": "execute_result"
    }
   ],
   "source": [
    "type(a)"
   ]
  },
  {
   "cell_type": "code",
   "execution_count": 12,
   "id": "63da0b2e-b194-4279-a7ef-0caddc12b422",
   "metadata": {},
   "outputs": [
    {
     "data": {
      "text/plain": [
       "1.1"
      ]
     },
     "execution_count": 12,
     "metadata": {},
     "output_type": "execute_result"
    }
   ],
   "source": [
    "a = 1.1\n",
    "a"
   ]
  },
  {
   "cell_type": "code",
   "execution_count": 13,
   "id": "f54838b0-6aec-4be9-af4c-1fb8981b117c",
   "metadata": {},
   "outputs": [
    {
     "data": {
      "text/plain": [
       "float"
      ]
     },
     "execution_count": 13,
     "metadata": {},
     "output_type": "execute_result"
    }
   ],
   "source": [
    "type(a)"
   ]
  },
  {
   "cell_type": "code",
   "execution_count": 25,
   "id": "c9a42d1a-3785-4f78-8bda-224213380319",
   "metadata": {},
   "outputs": [
    {
     "data": {
      "text/plain": [
       "'한 글'"
      ]
     },
     "execution_count": 25,
     "metadata": {},
     "output_type": "execute_result"
    }
   ],
   "source": [
    "a = '한 글'\n",
    "a"
   ]
  },
  {
   "cell_type": "code",
   "execution_count": 26,
   "id": "59116a9d-2dfa-4310-a6f6-60a1591814ad",
   "metadata": {},
   "outputs": [
    {
     "data": {
      "text/plain": [
       "str"
      ]
     },
     "execution_count": 26,
     "metadata": {},
     "output_type": "execute_result"
    }
   ],
   "source": [
    "type(a)"
   ]
  },
  {
   "cell_type": "code",
   "execution_count": 27,
   "id": "32afd326-44e5-4db3-af35-4417bde7bcd4",
   "metadata": {},
   "outputs": [
    {
     "data": {
      "text/plain": [
       "True"
      ]
     },
     "execution_count": 27,
     "metadata": {},
     "output_type": "execute_result"
    }
   ],
   "source": [
    "a = True\n",
    "a"
   ]
  },
  {
   "cell_type": "code",
   "execution_count": 29,
   "id": "9c7c04eb-46cb-4b4f-a44b-375d2e0e4e00",
   "metadata": {},
   "outputs": [
    {
     "data": {
      "text/plain": [
       "bool"
      ]
     },
     "execution_count": 29,
     "metadata": {},
     "output_type": "execute_result"
    }
   ],
   "source": [
    "type(a)"
   ]
  },
  {
   "cell_type": "code",
   "execution_count": 33,
   "id": "b7a669ee-ee64-438d-a908-5caf4695622e",
   "metadata": {},
   "outputs": [
    {
     "data": {
      "text/plain": [
       "8"
      ]
     },
     "execution_count": 33,
     "metadata": {},
     "output_type": "execute_result"
    }
   ],
   "source": [
    "_up7 = 8\n",
    "_up7"
   ]
  },
  {
   "cell_type": "code",
   "execution_count": 35,
   "id": "ec91154c-e0b6-4498-826a-463f6ae81a3a",
   "metadata": {},
   "outputs": [
    {
     "data": {
      "text/plain": [
       "'ㅁㅁㅁ'"
      ]
     },
     "execution_count": 35,
     "metadata": {},
     "output_type": "execute_result"
    }
   ],
   "source": [
    "한글 = 'ㅁㅁㅁ'\n",
    "한글"
   ]
  },
  {
   "cell_type": "code",
   "execution_count": 38,
   "id": "d2c01310-f809-4b35-bd4d-2ca953d96bd4",
   "metadata": {},
   "outputs": [
    {
     "data": {
      "text/plain": [
       "(7, 9)"
      ]
     },
     "execution_count": 38,
     "metadata": {},
     "output_type": "execute_result"
    }
   ],
   "source": [
    "AAA = 7\n",
    "aaa =9\n",
    "AAA,aaa"
   ]
  },
  {
   "cell_type": "code",
   "execution_count": 40,
   "id": "7303c461-60ff-4f82-9fd6-c71aff6798ff",
   "metadata": {},
   "outputs": [
    {
     "data": {
      "text/plain": [
       "\" kim's  'hh'\""
      ]
     },
     "execution_count": 40,
     "metadata": {},
     "output_type": "execute_result"
    }
   ],
   "source": [
    "text = \" kim's  'hh'\"\n",
    "text"
   ]
  },
  {
   "cell_type": "code",
   "execution_count": 44,
   "id": "0a6556a6-543f-43a9-acaf-7aafcedaa02a",
   "metadata": {},
   "outputs": [
    {
     "name": "stdout",
     "output_type": "stream",
     "text": [
      "True,5, kim's  'hh' 줄바꿈\n"
     ]
    }
   ],
   "source": [
    "print(a,b,text,sep=',',end=' ')\n",
    "print('줄바꿈')"
   ]
  },
  {
   "cell_type": "code",
   "execution_count": 46,
   "id": "38ab7948-5028-40d5-bfdf-d918d86a5569",
   "metadata": {},
   "outputs": [
    {
     "name": "stdin",
     "output_type": "stream",
     "text": [
      "숫자를 입력하세요 >>>  9\n"
     ]
    }
   ],
   "source": [
    "a = input('숫자를 입력하세요 >>> ')"
   ]
  },
  {
   "cell_type": "code",
   "execution_count": 48,
   "id": "cff82630-837b-408a-a4f6-6923a96bedc4",
   "metadata": {},
   "outputs": [
    {
     "data": {
      "text/plain": [
       "9"
      ]
     },
     "execution_count": 48,
     "metadata": {},
     "output_type": "execute_result"
    }
   ],
   "source": [
    "a = int(a)\n",
    "a"
   ]
  },
  {
   "cell_type": "code",
   "execution_count": 49,
   "id": "bf7d31a4-98ee-4f84-aa84-7c07f480072f",
   "metadata": {},
   "outputs": [
    {
     "data": {
      "text/plain": [
       "int"
      ]
     },
     "execution_count": 49,
     "metadata": {},
     "output_type": "execute_result"
    }
   ],
   "source": [
    "type(a)"
   ]
  },
  {
   "cell_type": "code",
   "execution_count": 50,
   "id": "25226779-0d37-449b-ad45-e72038c5c35f",
   "metadata": {},
   "outputs": [],
   "source": [
    "# 과일을 상자에 담으려고 합니다.\n",
    "# 한상자에 들어가는 과일의 갯수와, 총 과일의 수의 입력받아서\n",
    "# 몇박스 몇개가 나오는지 출력하세요"
   ]
  },
  {
   "cell_type": "code",
   "execution_count": 51,
   "id": "34978dda-83bd-40ac-b60d-fd7616467871",
   "metadata": {},
   "outputs": [
    {
     "name": "stdin",
     "output_type": "stream",
     "text": [
      "box에 들어가는 과일의 수 >>> 6\n",
      "총갯수 >>>  45\n"
     ]
    },
    {
     "name": "stdout",
     "output_type": "stream",
     "text": [
      "7 박스 3 개\n"
     ]
    }
   ],
   "source": [
    "box = int(input('box에 들어가는 과일의 수 >>>'))\n",
    "total = int(input('총갯수 >>> '))\n",
    "print(total//box,'박스',total%box,'개')"
   ]
  },
  {
   "cell_type": "code",
   "execution_count": 52,
   "id": "f66e5635-6eab-4a5b-8d03-9f7d2256acae",
   "metadata": {},
   "outputs": [],
   "source": [
    "colors = ['red','blue','green',1,1.2,[1,2,3]]"
   ]
  },
  {
   "cell_type": "code",
   "execution_count": 53,
   "id": "d4251b5e-ad7a-46a8-9943-47663e77d7de",
   "metadata": {},
   "outputs": [
    {
     "data": {
      "text/plain": [
       "list"
      ]
     },
     "execution_count": 53,
     "metadata": {},
     "output_type": "execute_result"
    }
   ],
   "source": [
    "type(colors)"
   ]
  },
  {
   "cell_type": "code",
   "execution_count": 55,
   "id": "f0e4c939-ce91-44af-8cab-99a4dc23fb9e",
   "metadata": {},
   "outputs": [
    {
     "data": {
      "text/plain": [
       "'green'"
      ]
     },
     "execution_count": 55,
     "metadata": {},
     "output_type": "execute_result"
    }
   ],
   "source": [
    "colors[2]"
   ]
  },
  {
   "cell_type": "code",
   "execution_count": 56,
   "id": "b9a0e364-18c3-48bb-bc45-cf0601099d67",
   "metadata": {},
   "outputs": [
    {
     "data": {
      "text/plain": [
       "str"
      ]
     },
     "execution_count": 56,
     "metadata": {},
     "output_type": "execute_result"
    }
   ],
   "source": [
    "type(colors[2])"
   ]
  },
  {
   "cell_type": "code",
   "execution_count": 57,
   "id": "edc949b6-8837-4c9b-aaa7-0d7cf65e1b32",
   "metadata": {},
   "outputs": [
    {
     "data": {
      "text/plain": [
       "[1, 2, 3]"
      ]
     },
     "execution_count": 57,
     "metadata": {},
     "output_type": "execute_result"
    }
   ],
   "source": [
    "colors[5]"
   ]
  },
  {
   "cell_type": "code",
   "execution_count": 58,
   "id": "a2dfc4ef-9a83-434b-b285-3ed940516dfc",
   "metadata": {},
   "outputs": [
    {
     "data": {
      "text/plain": [
       "2"
      ]
     },
     "execution_count": 58,
     "metadata": {},
     "output_type": "execute_result"
    }
   ],
   "source": [
    "colors[5][1]"
   ]
  },
  {
   "cell_type": "code",
   "execution_count": 60,
   "id": "e3981a02-c7ba-49ed-bd62-6b640bca5d3c",
   "metadata": {},
   "outputs": [
    {
     "data": {
      "text/plain": [
       "['blue', 'green']"
      ]
     },
     "execution_count": 60,
     "metadata": {},
     "output_type": "execute_result"
    }
   ],
   "source": [
    "colors[1:3]"
   ]
  },
  {
   "cell_type": "code",
   "execution_count": 61,
   "id": "ba082cb5-5cda-44d6-a409-008ee08beba4",
   "metadata": {},
   "outputs": [],
   "source": [
    "colors = ['red','blue','green',1,1.2,[1,2,3]]\n",
    "cities = ['서울','부산','광주']"
   ]
  },
  {
   "cell_type": "code",
   "execution_count": 66,
   "id": "106b7547-5065-4db7-b298-8b332135e22e",
   "metadata": {
    "collapsed": true,
    "jupyter": {
     "outputs_hidden": true
    },
    "tags": []
   },
   "outputs": [
    {
     "data": {
      "text/plain": [
       "['red',\n",
       " 'blue',\n",
       " 'green',\n",
       " 1,\n",
       " 1.2,\n",
       " [1, 2, 3],\n",
       " 'red',\n",
       " 'blue',\n",
       " 'green',\n",
       " 1,\n",
       " 1.2,\n",
       " [1, 2, 3],\n",
       " 'red',\n",
       " 'blue',\n",
       " 'green',\n",
       " 1,\n",
       " 1.2,\n",
       " [1, 2, 3]]"
      ]
     },
     "execution_count": 66,
     "metadata": {},
     "output_type": "execute_result"
    }
   ],
   "source": [
    "colors * 3"
   ]
  },
  {
   "cell_type": "code",
   "execution_count": 68,
   "id": "33412a3d-f986-438f-84e2-9d717d7e00e5",
   "metadata": {},
   "outputs": [
    {
     "data": {
      "text/plain": [
       "2.1"
      ]
     },
     "execution_count": 68,
     "metadata": {},
     "output_type": "execute_result"
    }
   ],
   "source": [
    "1.1 + 1"
   ]
  },
  {
   "cell_type": "code",
   "execution_count": 69,
   "id": "369e6b02-a42f-4cd8-81f5-d5de789717a5",
   "metadata": {},
   "outputs": [
    {
     "data": {
      "text/plain": [
       "True"
      ]
     },
     "execution_count": 69,
     "metadata": {},
     "output_type": "execute_result"
    }
   ],
   "source": [
    "'blue' in colors"
   ]
  }
 ],
 "metadata": {
  "kernelspec": {
   "display_name": "Python 3 (ipykernel)",
   "language": "python",
   "name": "python3"
  },
  "language_info": {
   "codemirror_mode": {
    "name": "ipython",
    "version": 3
   },
   "file_extension": ".py",
   "mimetype": "text/x-python",
   "name": "python",
   "nbconvert_exporter": "python",
   "pygments_lexer": "ipython3",
   "version": "3.9.13"
  }
 },
 "nbformat": 4,
 "nbformat_minor": 5
}
