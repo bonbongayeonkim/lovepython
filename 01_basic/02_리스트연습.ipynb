{
 "cells": [
  {
   "cell_type": "code",
   "execution_count": 3,
   "id": "742cea08-667b-41e7-a369-5d0958684aea",
   "metadata": {},
   "outputs": [
    {
     "data": {
      "text/plain": [
       "[1, 2, 3, 4, 5, [1, 2, 3]]"
      ]
     },
     "execution_count": 3,
     "metadata": {},
     "output_type": "execute_result"
    }
   ],
   "source": [
    "data_list = [1,2,3,4,5,[1,2,3]]\n",
    "data_list"
   ]
  },
  {
   "cell_type": "code",
   "execution_count": 4,
   "id": "4a3346ba-52bd-4b2c-a0f8-ba6218644ddf",
   "metadata": {},
   "outputs": [
    {
     "data": {
      "text/plain": [
       "6"
      ]
     },
     "execution_count": 4,
     "metadata": {},
     "output_type": "execute_result"
    }
   ],
   "source": [
    "len(data_list)"
   ]
  },
  {
   "cell_type": "code",
   "execution_count": 5,
   "id": "7da94475-0c03-4ef0-9ac2-e3366439558b",
   "metadata": {},
   "outputs": [
    {
     "data": {
      "text/plain": [
       "3"
      ]
     },
     "execution_count": 5,
     "metadata": {},
     "output_type": "execute_result"
    }
   ],
   "source": [
    "len(data_list[5])"
   ]
  },
  {
   "cell_type": "code",
   "execution_count": 7,
   "id": "9c52a255-a685-449b-976e-9f91c73a66a9",
   "metadata": {},
   "outputs": [
    {
     "data": {
      "text/plain": [
       "1"
      ]
     },
     "execution_count": 7,
     "metadata": {},
     "output_type": "execute_result"
    }
   ],
   "source": [
    "min(data_list[5])"
   ]
  },
  {
   "cell_type": "code",
   "execution_count": 8,
   "id": "7fd33de8-44ba-4644-ba8b-01f8d1fd9473",
   "metadata": {},
   "outputs": [
    {
     "ename": "SyntaxError",
     "evalue": "invalid syntax (1328338408.py, line 1)",
     "output_type": "error",
     "traceback": [
      "\u001b[1;36m  File \u001b[1;32m\"C:\\Users\\admin\\AppData\\Local\\Temp\\ipykernel_7232\\1328338408.py\"\u001b[1;36m, line \u001b[1;32m1\u001b[0m\n\u001b[1;33m    1.count(data_list)\u001b[0m\n\u001b[1;37m      ^\u001b[0m\n\u001b[1;31mSyntaxError\u001b[0m\u001b[1;31m:\u001b[0m invalid syntax\n"
     ]
    }
   ],
   "source": []
  },
  {
   "cell_type": "code",
   "execution_count": 9,
   "id": "2ae97c0d-0544-49a6-9fff-fe7c774240ac",
   "metadata": {},
   "outputs": [
    {
     "data": {
      "text/plain": [
       "[3, 2, 6, 1, 9]"
      ]
     },
     "execution_count": 9,
     "metadata": {},
     "output_type": "execute_result"
    }
   ],
   "source": [
    "data1 = [3,2,6,1,9]\n",
    "data1"
   ]
  },
  {
   "cell_type": "code",
   "execution_count": 10,
   "id": "b0955dc3-b8c2-4f41-9168-b44985fd46c4",
   "metadata": {},
   "outputs": [],
   "source": [
    "data1.sort()"
   ]
  },
  {
   "cell_type": "code",
   "execution_count": 11,
   "id": "1aaccbde-c010-41d9-a9fe-8343f98dcf53",
   "metadata": {},
   "outputs": [
    {
     "data": {
      "text/plain": [
       "[1, 2, 3, 6, 9]"
      ]
     },
     "execution_count": 11,
     "metadata": {},
     "output_type": "execute_result"
    }
   ],
   "source": [
    "data1"
   ]
  },
  {
   "cell_type": "code",
   "execution_count": 12,
   "id": "947f1d2f-54e6-4b12-bf57-dd4624c9e066",
   "metadata": {},
   "outputs": [],
   "source": [
    "data1.sort(reverse=True)"
   ]
  },
  {
   "cell_type": "code",
   "execution_count": 13,
   "id": "dde43758-05ad-422c-80f8-131fc668d2b8",
   "metadata": {},
   "outputs": [
    {
     "data": {
      "text/plain": [
       "[9, 6, 3, 2, 1]"
      ]
     },
     "execution_count": 13,
     "metadata": {},
     "output_type": "execute_result"
    }
   ],
   "source": [
    "data1"
   ]
  },
  {
   "cell_type": "code",
   "execution_count": 14,
   "id": "a38e1146-7985-40fb-a62a-f80901f1929e",
   "metadata": {},
   "outputs": [],
   "source": [
    "data1[0] = 10"
   ]
  },
  {
   "cell_type": "code",
   "execution_count": 16,
   "id": "884236e0-10ff-412f-b52a-41f52a882d7d",
   "metadata": {},
   "outputs": [
    {
     "data": {
      "text/plain": [
       "[10, 6, 3, 2, 1]"
      ]
     },
     "execution_count": 16,
     "metadata": {},
     "output_type": "execute_result"
    }
   ],
   "source": [
    "data1"
   ]
  },
  {
   "cell_type": "code",
   "execution_count": 20,
   "id": "10f4f47d-4423-4abf-974d-f0865ec82f60",
   "metadata": {},
   "outputs": [],
   "source": [
    "data1[1:3] = [2,2,3,4]"
   ]
  },
  {
   "cell_type": "code",
   "execution_count": 21,
   "id": "43d4e39f-f246-4725-8274-95a727e85062",
   "metadata": {},
   "outputs": [
    {
     "data": {
      "text/plain": [
       "[10, 2, 2, 3, 4, 2, 1]"
      ]
     },
     "execution_count": 21,
     "metadata": {},
     "output_type": "execute_result"
    }
   ],
   "source": [
    "data1"
   ]
  },
  {
   "cell_type": "code",
   "execution_count": 22,
   "id": "67d8475e-e7fd-4404-9962-61f8790d57a6",
   "metadata": {},
   "outputs": [],
   "source": [
    "del data1[2]"
   ]
  },
  {
   "cell_type": "code",
   "execution_count": 23,
   "id": "bad8b1e6-b0fc-4691-87c4-375201d5e0df",
   "metadata": {},
   "outputs": [
    {
     "data": {
      "text/plain": [
       "[10, 2, 3, 4, 2, 1]"
      ]
     },
     "execution_count": 23,
     "metadata": {},
     "output_type": "execute_result"
    }
   ],
   "source": [
    "data1"
   ]
  },
  {
   "cell_type": "code",
   "execution_count": 24,
   "id": "13b2c2b6-9028-4db6-968b-3b08a9ca32ad",
   "metadata": {},
   "outputs": [],
   "source": [
    "del data1"
   ]
  },
  {
   "cell_type": "code",
   "execution_count": 25,
   "id": "c4735d7b-3012-4b30-aae6-07a8b3f49018",
   "metadata": {},
   "outputs": [
    {
     "ename": "NameError",
     "evalue": "name 'data1' is not defined",
     "output_type": "error",
     "traceback": [
      "\u001b[1;31m---------------------------------------------------------------------------\u001b[0m",
      "\u001b[1;31mNameError\u001b[0m                                 Traceback (most recent call last)",
      "\u001b[1;32m~\\AppData\\Local\\Temp\\ipykernel_7232\\2296849294.py\u001b[0m in \u001b[0;36m<module>\u001b[1;34m\u001b[0m\n\u001b[1;32m----> 1\u001b[1;33m \u001b[0mdata1\u001b[0m\u001b[1;33m\u001b[0m\u001b[1;33m\u001b[0m\u001b[0m\n\u001b[0m",
      "\u001b[1;31mNameError\u001b[0m: name 'data1' is not defined"
     ]
    }
   ],
   "source": [
    "data1"
   ]
  },
  {
   "cell_type": "code",
   "execution_count": 26,
   "id": "aca83995-2b3b-45b1-b4fd-c1f90fdb5c2e",
   "metadata": {},
   "outputs": [
    {
     "data": {
      "text/plain": [
       "[1, 2, 3]"
      ]
     },
     "execution_count": 26,
     "metadata": {},
     "output_type": "execute_result"
    }
   ],
   "source": [
    "data1 = [1,2,3]\n",
    "data1"
   ]
  },
  {
   "cell_type": "code",
   "execution_count": 27,
   "id": "460d570c-0a29-484f-ad4e-61d9dd8cd4c9",
   "metadata": {},
   "outputs": [],
   "source": [
    "data1.append(6)"
   ]
  },
  {
   "cell_type": "code",
   "execution_count": 28,
   "id": "28569f88-f379-4340-ac72-14def03562eb",
   "metadata": {},
   "outputs": [
    {
     "data": {
      "text/plain": [
       "[1, 2, 3, 6]"
      ]
     },
     "execution_count": 28,
     "metadata": {},
     "output_type": "execute_result"
    }
   ],
   "source": [
    "data1"
   ]
  },
  {
   "cell_type": "code",
   "execution_count": 29,
   "id": "92f2fd70-0c0d-47fd-b268-a7dedb0d597e",
   "metadata": {},
   "outputs": [],
   "source": [
    "data1.clear()"
   ]
  },
  {
   "cell_type": "code",
   "execution_count": 30,
   "id": "e603b5b4-f91e-4d51-a5c1-766685f96526",
   "metadata": {},
   "outputs": [
    {
     "data": {
      "text/plain": [
       "[]"
      ]
     },
     "execution_count": 30,
     "metadata": {},
     "output_type": "execute_result"
    }
   ],
   "source": [
    "data1"
   ]
  },
  {
   "cell_type": "code",
   "execution_count": 31,
   "id": "1818f9df-e132-468a-b100-ec2dbbbbe651",
   "metadata": {},
   "outputs": [],
   "source": [
    "data1 = [1,2,3]\n",
    "data2 = data1.copy()"
   ]
  },
  {
   "cell_type": "code",
   "execution_count": 32,
   "id": "c02a5128-d618-4649-bf3d-263f9e41bd2f",
   "metadata": {},
   "outputs": [
    {
     "data": {
      "text/plain": [
       "[1, 2, 3]"
      ]
     },
     "execution_count": 32,
     "metadata": {},
     "output_type": "execute_result"
    }
   ],
   "source": [
    "data1"
   ]
  },
  {
   "cell_type": "code",
   "execution_count": 33,
   "id": "b7e7c0a4-a5ac-4efe-81cc-c999a23ef10e",
   "metadata": {},
   "outputs": [
    {
     "data": {
      "text/plain": [
       "[1, 2, 3]"
      ]
     },
     "execution_count": 33,
     "metadata": {},
     "output_type": "execute_result"
    }
   ],
   "source": [
    "data2"
   ]
  },
  {
   "cell_type": "code",
   "execution_count": 34,
   "id": "7ccc73be-f337-4601-82d8-dcfa750bac68",
   "metadata": {},
   "outputs": [],
   "source": [
    "data1[0]=100"
   ]
  },
  {
   "cell_type": "code",
   "execution_count": 35,
   "id": "d5d96a92-4c49-4359-aadd-0bc692c7b906",
   "metadata": {},
   "outputs": [
    {
     "data": {
      "text/plain": [
       "[100, 2, 3]"
      ]
     },
     "execution_count": 35,
     "metadata": {},
     "output_type": "execute_result"
    }
   ],
   "source": [
    "data1"
   ]
  },
  {
   "cell_type": "code",
   "execution_count": 36,
   "id": "0d0757fa-3d87-4b5f-abe6-8f44e24d1129",
   "metadata": {},
   "outputs": [
    {
     "data": {
      "text/plain": [
       "[1, 2, 3]"
      ]
     },
     "execution_count": 36,
     "metadata": {},
     "output_type": "execute_result"
    }
   ],
   "source": [
    "data2"
   ]
  },
  {
   "cell_type": "code",
   "execution_count": 37,
   "id": "5c03af34-f2b7-4657-b2b3-b7c763ea0858",
   "metadata": {},
   "outputs": [],
   "source": [
    "data3 = data1"
   ]
  },
  {
   "cell_type": "code",
   "execution_count": 38,
   "id": "846f3d0a-ec74-42fd-961b-a4a986dde50b",
   "metadata": {},
   "outputs": [
    {
     "data": {
      "text/plain": [
       "[100, 2, 3]"
      ]
     },
     "execution_count": 38,
     "metadata": {},
     "output_type": "execute_result"
    }
   ],
   "source": [
    "data1"
   ]
  },
  {
   "cell_type": "code",
   "execution_count": 39,
   "id": "24c10d20-f24e-4c73-911b-a73513aa98ad",
   "metadata": {},
   "outputs": [
    {
     "data": {
      "text/plain": [
       "[100, 2, 3]"
      ]
     },
     "execution_count": 39,
     "metadata": {},
     "output_type": "execute_result"
    }
   ],
   "source": [
    "data3"
   ]
  },
  {
   "cell_type": "code",
   "execution_count": 40,
   "id": "586256c4-443c-46dd-afab-0e14dfeed929",
   "metadata": {},
   "outputs": [],
   "source": [
    "data1[0]=1"
   ]
  },
  {
   "cell_type": "code",
   "execution_count": 41,
   "id": "e08757a1-2f1f-4b20-ad3c-346f8a325a75",
   "metadata": {},
   "outputs": [
    {
     "data": {
      "text/plain": [
       "[1, 2, 3]"
      ]
     },
     "execution_count": 41,
     "metadata": {},
     "output_type": "execute_result"
    }
   ],
   "source": [
    "data1"
   ]
  },
  {
   "cell_type": "code",
   "execution_count": 42,
   "id": "17668633-360b-479c-85a6-360c29158165",
   "metadata": {},
   "outputs": [
    {
     "data": {
      "text/plain": [
       "[1, 2, 3]"
      ]
     },
     "execution_count": 42,
     "metadata": {},
     "output_type": "execute_result"
    }
   ],
   "source": [
    "data3"
   ]
  },
  {
   "cell_type": "code",
   "execution_count": null,
   "id": "d60bfb8d-843a-4a30-838c-ef859a6ab242",
   "metadata": {},
   "outputs": [],
   "source": []
  },
  {
   "cell_type": "code",
   "execution_count": 52,
   "id": "bb3ff9f9-5e22-4004-82ba-4259ecb6bff1",
   "metadata": {},
   "outputs": [
    {
     "data": {
      "text/plain": [
       "[1, 2, 3, [4, 5, 6]]"
      ]
     },
     "execution_count": 52,
     "metadata": {},
     "output_type": "execute_result"
    }
   ],
   "source": [
    "data1 = [1,2,3]\n",
    "data2 = [4,5,6]\n",
    "data1.append(data2)\n",
    "data1"
   ]
  },
  {
   "cell_type": "code",
   "execution_count": 51,
   "id": "8a6d860a-8b98-422a-86ea-be54577193c3",
   "metadata": {},
   "outputs": [
    {
     "data": {
      "text/plain": [
       "[1, 2, 3, 4, 5, 6]"
      ]
     },
     "execution_count": 51,
     "metadata": {},
     "output_type": "execute_result"
    }
   ],
   "source": [
    "data1 = [1,2,3]\n",
    "data2 = [4,5,6]\n",
    "data1.extend(data2)\n",
    "data1"
   ]
  },
  {
   "cell_type": "code",
   "execution_count": 53,
   "id": "d9875289-83ba-4f9e-984d-2c2a4e729d2f",
   "metadata": {},
   "outputs": [
    {
     "data": {
      "text/plain": [
       "[1, 2, 3, 4, 5, 6]"
      ]
     },
     "execution_count": 53,
     "metadata": {},
     "output_type": "execute_result"
    }
   ],
   "source": [
    "data1 = [1,2,3]\n",
    "data2 = [4,5,6]\n",
    "data1+data2"
   ]
  },
  {
   "cell_type": "code",
   "execution_count": 54,
   "id": "623f4e67-6763-4e27-9337-ac9c2f1af44f",
   "metadata": {},
   "outputs": [
    {
     "data": {
      "text/plain": [
       "[1, 2, 3]"
      ]
     },
     "execution_count": 54,
     "metadata": {},
     "output_type": "execute_result"
    }
   ],
   "source": [
    "data1"
   ]
  },
  {
   "cell_type": "code",
   "execution_count": 55,
   "id": "498b7042-ae57-437b-863a-db4fedcc897a",
   "metadata": {},
   "outputs": [
    {
     "data": {
      "text/plain": [
       "[6, 1, 2, 3]"
      ]
     },
     "execution_count": 55,
     "metadata": {},
     "output_type": "execute_result"
    }
   ],
   "source": [
    "data1.insert(0,6)\n",
    "data1"
   ]
  },
  {
   "cell_type": "code",
   "execution_count": 58,
   "id": "aa9c8bdb-b3be-4781-b63a-fb3275cb9c72",
   "metadata": {},
   "outputs": [],
   "source": [
    "data1=[2,3,6,2,8,2]"
   ]
  },
  {
   "cell_type": "code",
   "execution_count": 59,
   "id": "a32e86b6-2b56-4f73-9110-b2e678d7523b",
   "metadata": {},
   "outputs": [
    {
     "data": {
      "text/plain": [
       "[3, 6, 2, 8, 2]"
      ]
     },
     "execution_count": 59,
     "metadata": {},
     "output_type": "execute_result"
    }
   ],
   "source": [
    "data1.remove(2)\n",
    "data1"
   ]
  },
  {
   "cell_type": "code",
   "execution_count": 60,
   "id": "236b49ac-aae1-4f06-b819-3c602b2d99ed",
   "metadata": {},
   "outputs": [
    {
     "data": {
      "text/plain": [
       "[3, 6, 2, 8, 2]"
      ]
     },
     "execution_count": 60,
     "metadata": {},
     "output_type": "execute_result"
    }
   ],
   "source": [
    "data1"
   ]
  },
  {
   "cell_type": "code",
   "execution_count": 61,
   "id": "21d52ec4-72ef-4a5c-a68d-c926bad7d0cf",
   "metadata": {},
   "outputs": [
    {
     "data": {
      "text/plain": [
       "2"
      ]
     },
     "execution_count": 61,
     "metadata": {},
     "output_type": "execute_result"
    }
   ],
   "source": [
    "a = data1.pop()\n",
    "a"
   ]
  },
  {
   "cell_type": "code",
   "execution_count": 62,
   "id": "3a2a89de-97cf-48c8-a0ec-c36f04da17c8",
   "metadata": {},
   "outputs": [
    {
     "data": {
      "text/plain": [
       "[3, 6, 2, 8]"
      ]
     },
     "execution_count": 62,
     "metadata": {},
     "output_type": "execute_result"
    }
   ],
   "source": [
    "data1"
   ]
  },
  {
   "cell_type": "code",
   "execution_count": 63,
   "id": "104f402d-1a17-4ddc-85e6-5145a0c17ec9",
   "metadata": {},
   "outputs": [],
   "source": [
    "data1.reverse()"
   ]
  },
  {
   "cell_type": "code",
   "execution_count": 64,
   "id": "9680f3cd-e0da-4f9b-86e1-e2c212ae133e",
   "metadata": {},
   "outputs": [
    {
     "data": {
      "text/plain": [
       "[8, 2, 6, 3]"
      ]
     },
     "execution_count": 64,
     "metadata": {},
     "output_type": "execute_result"
    }
   ],
   "source": [
    "data1"
   ]
  },
  {
   "cell_type": "code",
   "execution_count": 65,
   "id": "718b6c1d-f5dc-48a1-a3b0-43c5f1518315",
   "metadata": {},
   "outputs": [],
   "source": [
    "data1 = [1,2,3,4]\n",
    "data2 = data1[1:]\n",
    "data1[1]=200"
   ]
  },
  {
   "cell_type": "code",
   "execution_count": 66,
   "id": "55e66668-1385-48f1-b581-c82718384ae2",
   "metadata": {},
   "outputs": [
    {
     "data": {
      "text/plain": [
       "[1, 200, 3, 4]"
      ]
     },
     "execution_count": 66,
     "metadata": {},
     "output_type": "execute_result"
    }
   ],
   "source": [
    "data1"
   ]
  },
  {
   "cell_type": "code",
   "execution_count": 67,
   "id": "d4c79a97-27ca-4ab2-9e1c-8249179fee1f",
   "metadata": {},
   "outputs": [
    {
     "data": {
      "text/plain": [
       "[2, 3, 4]"
      ]
     },
     "execution_count": 67,
     "metadata": {},
     "output_type": "execute_result"
    }
   ],
   "source": [
    "data2"
   ]
  },
  {
   "cell_type": "code",
   "execution_count": 68,
   "id": "1c1d533a-c8cb-4d7d-a652-e3f41c51c445",
   "metadata": {},
   "outputs": [],
   "source": [
    "t = [1,2,3]"
   ]
  },
  {
   "cell_type": "code",
   "execution_count": 74,
   "id": "42691b40-8efe-4145-9ba1-f6560c845671",
   "metadata": {},
   "outputs": [],
   "source": [
    "a,b,c = t"
   ]
  },
  {
   "cell_type": "code",
   "execution_count": 75,
   "id": "58cbe6a4-bf26-4eee-a05f-38503f56dfe0",
   "metadata": {},
   "outputs": [
    {
     "data": {
      "text/plain": [
       "(1, 2, 3)"
      ]
     },
     "execution_count": 75,
     "metadata": {},
     "output_type": "execute_result"
    }
   ],
   "source": [
    "a,b,c"
   ]
  },
  {
   "cell_type": "code",
   "execution_count": 72,
   "id": "b6c32a7b-bc72-4fde-8bdb-476bd097ee2f",
   "metadata": {},
   "outputs": [
    {
     "data": {
      "text/plain": [
       "2"
      ]
     },
     "execution_count": 72,
     "metadata": {},
     "output_type": "execute_result"
    }
   ],
   "source": [
    "b"
   ]
  },
  {
   "cell_type": "code",
   "execution_count": null,
   "id": "73007010-0b90-49c0-9549-50796ff08b7c",
   "metadata": {},
   "outputs": [],
   "source": [
    "data = [[],[],[]]"
   ]
  }
 ],
 "metadata": {
  "kernelspec": {
   "display_name": "Python 3 (ipykernel)",
   "language": "python",
   "name": "python3"
  },
  "language_info": {
   "codemirror_mode": {
    "name": "ipython",
    "version": 3
   },
   "file_extension": ".py",
   "mimetype": "text/x-python",
   "name": "python",
   "nbconvert_exporter": "python",
   "pygments_lexer": "ipython3",
   "version": "3.9.13"
  }
 },
 "nbformat": 4,
 "nbformat_minor": 5
}
