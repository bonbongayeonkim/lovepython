{
 "cells": [
  {
   "cell_type": "code",
   "execution_count": 7,
   "id": "130691ba-8c3e-4a31-9cc6-b56895c5fa01",
   "metadata": {},
   "outputs": [
    {
     "name": "stdin",
     "output_type": "stream",
     "text": [
      "tell me your age? \n",
      " 6\n"
     ]
    },
    {
     "name": "stdout",
     "output_type": "stream",
     "text": [
      "welcome to the club\n"
     ]
    }
   ],
   "source": [
    "# print('tell me your age?')\n",
    "myage = int(input('tell me your age? \\n'))\n",
    "if myage < 30 :\n",
    "    print('welcome to the club')\n",
    "else:\n",
    "    print('oh! no. you are not accepted.')"
   ]
  },
  {
   "cell_type": "code",
   "execution_count": 6,
   "id": "bc239acf-be4e-4172-8c1d-16104abf3bd1",
   "metadata": {},
   "outputs": [
    {
     "data": {
      "text/plain": [
       "int"
      ]
     },
     "execution_count": 6,
     "metadata": {},
     "output_type": "execute_result"
    }
   ],
   "source": [
    "type(myage)"
   ]
  },
  {
   "cell_type": "code",
   "execution_count": 8,
   "id": "e29a5c4c-68f4-4fc5-824c-3860fa3188a6",
   "metadata": {},
   "outputs": [],
   "source": [
    "# 주민번호를 입력받아서 생년월일(6자리)를 출력하고, 성별을 판별하여 출력하세요\n",
    "# str은 인덱싱과 슬라이싱이 가능합니다."
   ]
  },
  {
   "cell_type": "code",
   "execution_count": 10,
   "id": "c313d1bd-4a8d-4676-b9e5-1624a1212aa7",
   "metadata": {},
   "outputs": [
    {
     "name": "stdin",
     "output_type": "stream",
     "text": [
      "주민등록번호 입력(ex:230101-4123456) >>>  230101-4123456\n"
     ]
    },
    {
     "name": "stdout",
     "output_type": "stream",
     "text": [
      "생년월일 : 230101  성별:  여자\n"
     ]
    }
   ],
   "source": [
    "data = input('주민등록번호 입력(ex:230101-4123456) >>> ')\n",
    "if data[7] in ('1','3'):\n",
    "    data1 = '남자'\n",
    "elif data[7] in ('2','4'):\n",
    "    data1 = '여자'\n",
    "else:\n",
    "    data1 = '입력값오류'\n",
    "print('생년월일 :',data[:6],' 성별: ',data1)"
   ]
  },
  {
   "cell_type": "code",
   "execution_count": 12,
   "id": "2dd1fa80-45eb-4ebe-b7bf-96ce650bd692",
   "metadata": {
    "collapsed": true,
    "jupyter": {
     "outputs_hidden": true
    },
    "tags": []
   },
   "outputs": [
    {
     "name": "stdout",
     "output_type": "stream",
     "text": [
      "a\n",
      "2\n",
      "vvv\n",
      "3\n",
      "4\n",
      "5\n"
     ]
    }
   ],
   "source": [
    "data = ['a',2,'vvv',3,4,5]\n",
    "for i in data:\n",
    "    print(i)"
   ]
  },
  {
   "cell_type": "code",
   "execution_count": 13,
   "id": "59635688-c6e1-42b9-9e35-36b6eb21f3a9",
   "metadata": {
    "collapsed": true,
    "jupyter": {
     "outputs_hidden": true
    },
    "tags": []
   },
   "outputs": [
    {
     "name": "stdout",
     "output_type": "stream",
     "text": [
      "1\n",
      "2\n",
      "3\n",
      "4\n",
      "5\n",
      "6\n",
      "7\n",
      "8\n",
      "9\n",
      "10\n"
     ]
    }
   ],
   "source": [
    "for i in range(1,11,1):\n",
    "    print(i)"
   ]
  },
  {
   "cell_type": "code",
   "execution_count": 14,
   "id": "99a217c0-3043-41e1-90a7-bb0fc0a67822",
   "metadata": {},
   "outputs": [
    {
     "name": "stdout",
     "output_type": "stream",
     "text": [
      "0 a\n",
      "1 2\n",
      "2 vvv\n",
      "3 3\n",
      "4 4\n",
      "5 5\n"
     ]
    }
   ],
   "source": [
    "for i,item in enumerate(data):\n",
    "    print(i,item)"
   ]
  },
  {
   "cell_type": "code",
   "execution_count": 15,
   "id": "9ca57a7d-5a35-4318-a0e5-411835db1e65",
   "metadata": {},
   "outputs": [],
   "source": [
    "# 구구단 출력 2단부터 차례대로 출력하세요 "
   ]
  },
  {
   "cell_type": "code",
   "execution_count": 16,
   "id": "22bad7b6-dc2b-4ff6-9ee3-59fc5b133ba2",
   "metadata": {
    "collapsed": true,
    "jupyter": {
     "outputs_hidden": true
    },
    "tags": []
   },
   "outputs": [
    {
     "name": "stdout",
     "output_type": "stream",
     "text": [
      "\n",
      " ----- 2 단 --------\n",
      "2  *  1  =  2\n",
      "2  *  2  =  4\n",
      "2  *  3  =  6\n",
      "2  *  4  =  8\n",
      "2  *  5  =  10\n",
      "2  *  6  =  12\n",
      "2  *  7  =  14\n",
      "2  *  8  =  16\n",
      "2  *  9  =  18\n",
      "\n",
      " ----- 3 단 --------\n",
      "3  *  1  =  3\n",
      "3  *  2  =  6\n",
      "3  *  3  =  9\n",
      "3  *  4  =  12\n",
      "3  *  5  =  15\n",
      "3  *  6  =  18\n",
      "3  *  7  =  21\n",
      "3  *  8  =  24\n",
      "3  *  9  =  27\n",
      "\n",
      " ----- 4 단 --------\n",
      "4  *  1  =  4\n",
      "4  *  2  =  8\n",
      "4  *  3  =  12\n",
      "4  *  4  =  16\n",
      "4  *  5  =  20\n",
      "4  *  6  =  24\n",
      "4  *  7  =  28\n",
      "4  *  8  =  32\n",
      "4  *  9  =  36\n",
      "\n",
      " ----- 5 단 --------\n",
      "5  *  1  =  5\n",
      "5  *  2  =  10\n",
      "5  *  3  =  15\n",
      "5  *  4  =  20\n",
      "5  *  5  =  25\n",
      "5  *  6  =  30\n",
      "5  *  7  =  35\n",
      "5  *  8  =  40\n",
      "5  *  9  =  45\n",
      "\n",
      " ----- 6 단 --------\n",
      "6  *  1  =  6\n",
      "6  *  2  =  12\n",
      "6  *  3  =  18\n",
      "6  *  4  =  24\n",
      "6  *  5  =  30\n",
      "6  *  6  =  36\n",
      "6  *  7  =  42\n",
      "6  *  8  =  48\n",
      "6  *  9  =  54\n",
      "\n",
      " ----- 7 단 --------\n",
      "7  *  1  =  7\n",
      "7  *  2  =  14\n",
      "7  *  3  =  21\n",
      "7  *  4  =  28\n",
      "7  *  5  =  35\n",
      "7  *  6  =  42\n",
      "7  *  7  =  49\n",
      "7  *  8  =  56\n",
      "7  *  9  =  63\n",
      "\n",
      " ----- 8 단 --------\n",
      "8  *  1  =  8\n",
      "8  *  2  =  16\n",
      "8  *  3  =  24\n",
      "8  *  4  =  32\n",
      "8  *  5  =  40\n",
      "8  *  6  =  48\n",
      "8  *  7  =  56\n",
      "8  *  8  =  64\n",
      "8  *  9  =  72\n",
      "\n",
      " ----- 9 단 --------\n",
      "9  *  1  =  9\n",
      "9  *  2  =  18\n",
      "9  *  3  =  27\n",
      "9  *  4  =  36\n",
      "9  *  5  =  45\n",
      "9  *  6  =  54\n",
      "9  *  7  =  63\n",
      "9  *  8  =  72\n",
      "9  *  9  =  81\n"
     ]
    }
   ],
   "source": [
    "for x in range(2,10):\n",
    "    print('\\n -----',x,'단 --------')\n",
    "    for y in range(1,10):\n",
    "        print(x,' * ',y,' = ',x*y) "
   ]
  },
  {
   "cell_type": "code",
   "execution_count": 17,
   "id": "7d3d3228-4ddf-4165-90a0-9d4d88f40798",
   "metadata": {
    "collapsed": true,
    "jupyter": {
     "outputs_hidden": true
    },
    "tags": []
   },
   "outputs": [
    {
     "name": "stdout",
     "output_type": "stream",
     "text": [
      "2  *  1  =  2  3  *  1  =  3  4  *  1  =  4  5  *  1  =  5  6  *  1  =  6  7  *  1  =  7  8  *  1  =  8  9  *  1  =  9  \n",
      "2  *  2  =  4  3  *  2  =  6  4  *  2  =  8  5  *  2  =  10  6  *  2  =  12  7  *  2  =  14  8  *  2  =  16  9  *  2  =  18  \n",
      "2  *  3  =  6  3  *  3  =  9  4  *  3  =  12  5  *  3  =  15  6  *  3  =  18  7  *  3  =  21  8  *  3  =  24  9  *  3  =  27  \n",
      "2  *  4  =  8  3  *  4  =  12  4  *  4  =  16  5  *  4  =  20  6  *  4  =  24  7  *  4  =  28  8  *  4  =  32  9  *  4  =  36  \n",
      "2  *  5  =  10  3  *  5  =  15  4  *  5  =  20  5  *  5  =  25  6  *  5  =  30  7  *  5  =  35  8  *  5  =  40  9  *  5  =  45  \n",
      "2  *  6  =  12  3  *  6  =  18  4  *  6  =  24  5  *  6  =  30  6  *  6  =  36  7  *  6  =  42  8  *  6  =  48  9  *  6  =  54  \n",
      "2  *  7  =  14  3  *  7  =  21  4  *  7  =  28  5  *  7  =  35  6  *  7  =  42  7  *  7  =  49  8  *  7  =  56  9  *  7  =  63  \n",
      "2  *  8  =  16  3  *  8  =  24  4  *  8  =  32  5  *  8  =  40  6  *  8  =  48  7  *  8  =  56  8  *  8  =  64  9  *  8  =  72  \n",
      "2  *  9  =  18  3  *  9  =  27  4  *  9  =  36  5  *  9  =  45  6  *  9  =  54  7  *  9  =  63  8  *  9  =  72  9  *  9  =  81  \n"
     ]
    }
   ],
   "source": [
    "for x in range(1,10):\n",
    "    for y in range(2,10):\n",
    "        print(y,' * ',x,' = ',x*y, end='  ') \n",
    "    print()       "
   ]
  },
  {
   "cell_type": "code",
   "execution_count": 22,
   "id": "49d15862-d269-4500-b377-d23c0e80f9c5",
   "metadata": {},
   "outputs": [
    {
     "name": "stdout",
     "output_type": "stream",
     "text": [
      "\n",
      " ----- 2 단 --------\n",
      "2  *  1  =  2\n",
      "2  *  2  =  4\n",
      "2  *  3  =  6\n",
      "2  *  4  =  8\n",
      "\n",
      " ----- 3 단 --------\n",
      "3  *  1  =  3\n",
      "3  *  2  =  6\n",
      "3  *  3  =  9\n",
      "3  *  4  =  12\n",
      "\n",
      " ----- 4 단 --------\n",
      "4  *  1  =  4\n",
      "4  *  2  =  8\n",
      "4  *  3  =  12\n",
      "4  *  4  =  16\n",
      "\n",
      " ----- 5 단 --------\n",
      "5  *  1  =  5\n",
      "5  *  2  =  10\n",
      "5  *  3  =  15\n",
      "5  *  4  =  20\n",
      "\n",
      " ----- 6 단 --------\n",
      "6  *  1  =  6\n",
      "6  *  2  =  12\n",
      "6  *  3  =  18\n",
      "6  *  4  =  24\n",
      "\n",
      " ----- 7 단 --------\n",
      "7  *  1  =  7\n",
      "7  *  2  =  14\n",
      "7  *  3  =  21\n",
      "7  *  4  =  28\n",
      "\n",
      " ----- 8 단 --------\n",
      "8  *  1  =  8\n",
      "8  *  2  =  16\n",
      "8  *  3  =  24\n",
      "8  *  4  =  32\n",
      "\n",
      " ----- 9 단 --------\n",
      "9  *  1  =  9\n",
      "9  *  2  =  18\n",
      "9  *  3  =  27\n",
      "9  *  4  =  36\n"
     ]
    }
   ],
   "source": [
    "for x in range(2,10):\n",
    "    print('\\n -----',x,'단 --------')\n",
    "    for y in range(1,10):\n",
    "        if y == 5: \n",
    "            break\n",
    "        print(x,' * ',y,' = ',x*y) "
   ]
  },
  {
   "cell_type": "code",
   "execution_count": 23,
   "id": "01de41e5-9433-4d37-a078-4594176a7b04",
   "metadata": {
    "collapsed": true,
    "jupyter": {
     "outputs_hidden": true
    },
    "tags": []
   },
   "outputs": [
    {
     "name": "stdout",
     "output_type": "stream",
     "text": [
      "\n",
      " ----- 2 단 --------\n",
      "2  *  1  =  2\n",
      "2  *  2  =  4\n",
      "2  *  3  =  6\n",
      "2  *  4  =  8\n",
      "2  *  5  =  10\n",
      "2  *  6  =  12\n",
      "2  *  7  =  14\n",
      "2  *  8  =  16\n",
      "2  *  9  =  18\n",
      "\n",
      " ----- 3 단 --------\n",
      "3  *  1  =  3\n",
      "3  *  2  =  6\n",
      "3  *  3  =  9\n",
      "3  *  4  =  12\n",
      "3  *  5  =  15\n",
      "3  *  6  =  18\n",
      "3  *  7  =  21\n",
      "3  *  8  =  24\n",
      "3  *  9  =  27\n",
      "\n",
      " ----- 4 단 --------\n",
      "4  *  1  =  4\n",
      "4  *  2  =  8\n",
      "4  *  3  =  12\n",
      "4  *  4  =  16\n",
      "4  *  5  =  20\n",
      "4  *  6  =  24\n",
      "4  *  7  =  28\n",
      "4  *  8  =  32\n",
      "4  *  9  =  36\n",
      "\n",
      " ----- 6 단 --------\n",
      "6  *  1  =  6\n",
      "6  *  2  =  12\n",
      "6  *  3  =  18\n",
      "6  *  4  =  24\n",
      "6  *  5  =  30\n",
      "6  *  6  =  36\n",
      "6  *  7  =  42\n",
      "6  *  8  =  48\n",
      "6  *  9  =  54\n",
      "\n",
      " ----- 7 단 --------\n",
      "7  *  1  =  7\n",
      "7  *  2  =  14\n",
      "7  *  3  =  21\n",
      "7  *  4  =  28\n",
      "7  *  5  =  35\n",
      "7  *  6  =  42\n",
      "7  *  7  =  49\n",
      "7  *  8  =  56\n",
      "7  *  9  =  63\n",
      "\n",
      " ----- 8 단 --------\n",
      "8  *  1  =  8\n",
      "8  *  2  =  16\n",
      "8  *  3  =  24\n",
      "8  *  4  =  32\n",
      "8  *  5  =  40\n",
      "8  *  6  =  48\n",
      "8  *  7  =  56\n",
      "8  *  8  =  64\n",
      "8  *  9  =  72\n",
      "\n",
      " ----- 9 단 --------\n",
      "9  *  1  =  9\n",
      "9  *  2  =  18\n",
      "9  *  3  =  27\n",
      "9  *  4  =  36\n",
      "9  *  5  =  45\n",
      "9  *  6  =  54\n",
      "9  *  7  =  63\n",
      "9  *  8  =  72\n",
      "9  *  9  =  81\n"
     ]
    }
   ],
   "source": [
    "for x in range(2,10):\n",
    "    if x == 5: \n",
    "            continue\n",
    "    print('\\n -----',x,'단 --------')\n",
    "    for y in range(1,10):\n",
    "        print(x,' * ',y,' = ',x*y) "
   ]
  },
  {
   "cell_type": "code",
   "execution_count": 24,
   "id": "896c8b19-5615-4c05-b8e8-93c12991f0dc",
   "metadata": {},
   "outputs": [],
   "source": [
    "# 짝수단만 출력해보세요"
   ]
  },
  {
   "cell_type": "code",
   "execution_count": 26,
   "id": "1c7f246c-12c5-4b1a-834a-fa42f4ce8944",
   "metadata": {},
   "outputs": [
    {
     "name": "stdout",
     "output_type": "stream",
     "text": [
      "\n",
      " ----- 2 단 --------\n",
      "2  *  1  =  2\n",
      "2  *  2  =  4\n",
      "2  *  3  =  6\n",
      "2  *  4  =  8\n",
      "2  *  5  =  10\n",
      "2  *  6  =  12\n",
      "2  *  7  =  14\n",
      "2  *  8  =  16\n",
      "2  *  9  =  18\n",
      "\n",
      " ----- 4 단 --------\n",
      "4  *  1  =  4\n",
      "4  *  2  =  8\n",
      "4  *  3  =  12\n",
      "4  *  4  =  16\n",
      "4  *  5  =  20\n",
      "4  *  6  =  24\n",
      "4  *  7  =  28\n",
      "4  *  8  =  32\n",
      "4  *  9  =  36\n",
      "\n",
      " ----- 6 단 --------\n",
      "6  *  1  =  6\n",
      "6  *  2  =  12\n",
      "6  *  3  =  18\n",
      "6  *  4  =  24\n",
      "6  *  5  =  30\n",
      "6  *  6  =  36\n",
      "6  *  7  =  42\n",
      "6  *  8  =  48\n",
      "6  *  9  =  54\n",
      "\n",
      " ----- 8 단 --------\n",
      "8  *  1  =  8\n",
      "8  *  2  =  16\n",
      "8  *  3  =  24\n",
      "8  *  4  =  32\n",
      "8  *  5  =  40\n",
      "8  *  6  =  48\n",
      "8  *  7  =  56\n",
      "8  *  8  =  64\n",
      "8  *  9  =  72\n"
     ]
    }
   ],
   "source": [
    "for x in range(2,10):\n",
    "    if (x%2) == 1: \n",
    "            continue\n",
    "    print('\\n -----',x,'단 --------')\n",
    "    for y in range(1,10):\n",
    "        print(x,' * ',y,' = ',x*y) "
   ]
  },
  {
   "cell_type": "code",
   "execution_count": 2,
   "id": "2b88284d-76c0-4329-aab2-d7c82ad796e5",
   "metadata": {},
   "outputs": [
    {
     "name": "stdout",
     "output_type": "stream",
     "text": [
      "5\n",
      "4\n",
      "3\n",
      "2\n",
      "1\n"
     ]
    }
   ],
   "source": [
    "data = [1,2,3,4,5]\n",
    "while(data):\n",
    "    print(data.pop())"
   ]
  },
  {
   "cell_type": "code",
   "execution_count": 3,
   "id": "6ca79aa0-2c05-4de7-9c2a-85ea867d6310",
   "metadata": {},
   "outputs": [
    {
     "name": "stdin",
     "output_type": "stream",
     "text": [
      "1. 데이터 입력, 2. 데이터 수정  3.데이터 삭제 4.종료 >>> 1\n",
      "1. 데이터 입력, 2. 데이터 수정  3.데이터 삭제 4.종료 >>> 2\n",
      "1. 데이터 입력, 2. 데이터 수정  3.데이터 삭제 4.종료 >>> 3\n",
      "1. 데이터 입력, 2. 데이터 수정  3.데이터 삭제 4.종료 >>> 4\n"
     ]
    },
    {
     "name": "stdout",
     "output_type": "stream",
     "text": [
      "프로그램 종료\n"
     ]
    }
   ],
   "source": [
    "while(1):\n",
    "    menu = input('1. 데이터 입력, 2. 데이터 수정  3.데이터 삭제 4.종료 >>>')\n",
    "    if menu == '1':\n",
    "        pass\n",
    "    elif menu =='2':\n",
    "        pass\n",
    "    elif menu == '3':\n",
    "        pass\n",
    "    elif menu == '4':\n",
    "        print('프로그램 종료')\n",
    "        break"
   ]
  },
  {
   "cell_type": "code",
   "execution_count": 4,
   "id": "2abf3bcf-cacb-43ec-9570-ed3ca85bfb39",
   "metadata": {},
   "outputs": [],
   "source": [
    "import random"
   ]
  },
  {
   "cell_type": "code",
   "execution_count": 5,
   "id": "ffba4f04-b047-4eec-8886-6d3ed817e86b",
   "metadata": {
    "collapsed": true,
    "jupyter": {
     "outputs_hidden": true
    },
    "tags": []
   },
   "outputs": [
    {
     "name": "stdout",
     "output_type": "stream",
     "text": [
      "33\n"
     ]
    },
    {
     "name": "stdin",
     "output_type": "stream",
     "text": [
      "숫자를 맞춰보세요.(1~100) >>>  22\n"
     ]
    },
    {
     "name": "stdout",
     "output_type": "stream",
     "text": [
      "숫자가 너무 작습니다.\n"
     ]
    },
    {
     "name": "stdin",
     "output_type": "stream",
     "text": [
      "숫자를 맞춰보세요.(1~100) >>>  44\n"
     ]
    },
    {
     "name": "stdout",
     "output_type": "stream",
     "text": [
      "숫자가 너무 큽니다.\n"
     ]
    },
    {
     "name": "stdin",
     "output_type": "stream",
     "text": [
      "숫자를 맞춰보세요.(1~100) >>>  33\n"
     ]
    },
    {
     "name": "stdout",
     "output_type": "stream",
     "text": [
      "정답입니다. 입력한 숫자는  33\n"
     ]
    }
   ],
   "source": [
    "guess_number = random.randint(1,100)\n",
    "print(guess_number)\n",
    "users_input = int(input('숫자를 맞춰보세요.(1~100) >>> '))\n",
    "while(users_input is not guess_number):\n",
    "    if users_input > guess_number:\n",
    "        print('숫자가 너무 큽니다.')\n",
    "    else:\n",
    "        print('숫자가 너무 작습니다.')\n",
    "    users_input = int(input('숫자를 맞춰보세요.(1~100) >>> '))\n",
    "print('정답입니다. 입력한 숫자는 ',users_input)"
   ]
  },
  {
   "cell_type": "raw",
   "id": "e11a2765-07a1-452b-a5b1-234c39b4725d",
   "metadata": {},
   "source": [
    "## 로또 번호 생성\n",
    "5셋트의 번호를 추출합니다. \n",
    "1셋트에 번호는 6개를 추출합니다.(1~45범위에서 추출)\n",
    "6개의 번호는 중복되지 않습니다.\n",
    "추출후 번호는 오름차순으로 정렬해서 출력합니다"
   ]
  },
  {
   "cell_type": "code",
   "execution_count": 11,
   "id": "bc3bfb11-daf5-4275-98bf-31415037be85",
   "metadata": {
    "collapsed": true,
    "jupyter": {
     "outputs_hidden": true
    },
    "tags": []
   },
   "outputs": [
    {
     "name": "stdout",
     "output_type": "stream",
     "text": [
      "[3, 12, 14, 36, 40, 41]\n",
      "[2, 9, 11, 16, 32, 36]\n",
      "[9, 14, 18, 19, 25, 43]\n",
      "[7, 18, 22, 34, 37, 45]\n",
      "[12, 15, 16, 17, 21, 45]\n"
     ]
    }
   ],
   "source": [
    "result = []\n",
    "for i in range(5):\n",
    "    lotto = [0,0,0,0,0,0]\n",
    "    for x in range(6):\n",
    "        num = 0 \n",
    "        while(num in lotto):\n",
    "            num = random.randint(1,45)\n",
    "        lotto[x] = num\n",
    "    lotto.sort()\n",
    "    result.append(lotto)\n",
    "    print(lotto)"
   ]
  },
  {
   "cell_type": "code",
   "execution_count": 12,
   "id": "bea52ec4-1cdc-4d8b-9ed0-db975b789bbc",
   "metadata": {
    "collapsed": true,
    "jupyter": {
     "outputs_hidden": true
    },
    "tags": []
   },
   "outputs": [
    {
     "data": {
      "text/plain": [
       "[[3, 12, 14, 36, 40, 41],\n",
       " [2, 9, 11, 16, 32, 36],\n",
       " [9, 14, 18, 19, 25, 43],\n",
       " [7, 18, 22, 34, 37, 45],\n",
       " [12, 15, 16, 17, 21, 45]]"
      ]
     },
     "execution_count": 12,
     "metadata": {},
     "output_type": "execute_result"
    }
   ],
   "source": [
    "result"
   ]
  },
  {
   "cell_type": "code",
   "execution_count": 15,
   "id": "a26f211f-25c0-4651-ad37-255e788b77f0",
   "metadata": {},
   "outputs": [
    {
     "name": "stdout",
     "output_type": "stream",
     "text": [
      "[17, 31, 35, 38, 41, 42]\n",
      "[3, 4, 11, 18, 19, 38]\n",
      "[11, 17, 30, 34, 42, 45]\n",
      "[10, 11, 15, 18, 19, 38]\n",
      "[5, 7, 11, 16, 22, 37]\n"
     ]
    }
   ],
   "source": [
    "for i in range(5):\n",
    "    print(sorted(random.sample(range(1,46),6)))"
   ]
  },
  {
   "cell_type": "raw",
   "id": "beecdf44-46d4-4e3b-9cf3-4ad0736f193a",
   "metadata": {},
   "source": [
    "1. 야구게임\n",
    "중복되지 않는 3자리 숫자를 컴퓨터가 정하면 그 숫자를 맞출 때 까지 반복한다.(0은 제외)\n",
    "숫자와 자리 위치까지 일치하면 스트라이크\n",
    "숫자는 있는데 자리는 맞지 않다면 볼\n",
    "스트라이크가 3개가 되면 맞춘 것이므로 멈춘다.\n",
    "몇 번 만에 맞춘 것인지 횟수도 체크한다.\n",
    "\n",
    "컴퓨터 246    입력 128   1볼\n",
    "컴퓨터 246    입력 279   1스트라이크"
   ]
  },
  {
   "cell_type": "code",
   "execution_count": 2,
   "id": "1970be22-b603-40d6-93ad-ba0075da5a38",
   "metadata": {},
   "outputs": [
    {
     "name": "stdout",
     "output_type": "stream",
     "text": [
      "[4, 7, 8]\n",
      "시작!\n",
      "ERROR! Session/line number was not unique in database. History logging moved to new session 8\n"
     ]
    },
    {
     "name": "stdin",
     "output_type": "stream",
     "text": [
      "3자리 숫자를 입력하세요 >>> 592\n"
     ]
    },
    {
     "name": "stdout",
     "output_type": "stream",
     "text": [
      "['5', '9', '2']\n",
      "strike: 0  ball: 0  시도횟수: 1\n"
     ]
    },
    {
     "name": "stdin",
     "output_type": "stream",
     "text": [
      "3자리 숫자를 입력하세요 >>> 487\n"
     ]
    },
    {
     "name": "stdout",
     "output_type": "stream",
     "text": [
      "['4', '8', '7']\n",
      "strike: 1  ball: 2  시도횟수: 2\n"
     ]
    },
    {
     "name": "stdin",
     "output_type": "stream",
     "text": [
      "3자리 숫자를 입력하세요 >>> 478\n"
     ]
    },
    {
     "name": "stdout",
     "output_type": "stream",
     "text": [
      "['4', '7', '8']\n",
      "strike: 3  ball: 0  시도횟수: 3\n",
      "정답!\n"
     ]
    }
   ],
   "source": [
    "import random\n",
    "\n",
    "com = random.sample( range(1,10) , 3 )\n",
    "print(com)\n",
    "strike = 0\n",
    "count = 0\n",
    "print('시작!')\n",
    "while strike != 3:\n",
    "    strike = 0\n",
    "    ball = 0 \n",
    "    guess = list(input('3자리 숫자를 입력하세요 >>>'))\n",
    "    print(guess)\n",
    "    for a in guess:\n",
    "        for b in com:\n",
    "            if int(a) == b:\n",
    "                if guess.index(a) == com.index(b):\n",
    "                    strike += 1\n",
    "                else:\n",
    "                    ball += 1\n",
    "    count += 1\n",
    "    print('strike:',strike,' ball:',ball,' 시도횟수:',count)\n",
    "print('정답!')"
   ]
  },
  {
   "cell_type": "raw",
   "id": "7f534530-0c4c-492c-a063-d3459b01f410",
   "metadata": {},
   "source": [
    "2. 사칙연산게임\n",
    "컴퓨터가 사칙연산 문제를 내면 답을 맞추는 게임\n",
    "컴퓨터는 두 개의 숫자와 연산자를 무작위로 선택한다.\n",
    "숫자값은 1~50 범위에서 선택\n",
    "사칙연산만 가능, 나누기는 결과값을 정수로 변경 후 처리.\n",
    "\n",
    "컴퓨터 2 + 4 \n",
    "       5 - 8\n",
    "       3 * 4\n",
    "       8 / 3     -> 답은 2로 처리 "
   ]
  },
  {
   "cell_type": "code",
   "execution_count": 7,
   "id": "651a027f-11cb-4818-a6d4-b3d68465efc7",
   "metadata": {},
   "outputs": [
    {
     "name": "stdout",
     "output_type": "stream",
     "text": [
      "26 - 19 =\n"
     ]
    },
    {
     "name": "stdin",
     "output_type": "stream",
     "text": [
      "정답 >>>  0\n"
     ]
    },
    {
     "name": "stdout",
     "output_type": "stream",
     "text": [
      "오답!\n",
      "42 + 11 =\n"
     ]
    },
    {
     "name": "stdin",
     "output_type": "stream",
     "text": [
      "정답 >>>  53\n"
     ]
    },
    {
     "name": "stdout",
     "output_type": "stream",
     "text": [
      "정답\n",
      "25 - 14 =\n"
     ]
    },
    {
     "name": "stdin",
     "output_type": "stream",
     "text": [
      "정답 >>>  11\n"
     ]
    },
    {
     "name": "stdout",
     "output_type": "stream",
     "text": [
      "정답\n",
      "13 - 29 =\n"
     ]
    },
    {
     "name": "stdin",
     "output_type": "stream",
     "text": [
      "정답 >>>  1\n"
     ]
    },
    {
     "name": "stdout",
     "output_type": "stream",
     "text": [
      "오답!\n",
      "1 * 12 =\n"
     ]
    },
    {
     "name": "stdin",
     "output_type": "stream",
     "text": [
      "정답 >>>  12\n"
     ]
    },
    {
     "name": "stdout",
     "output_type": "stream",
     "text": [
      "정답\n",
      "3 개 맞음\n"
     ]
    }
   ],
   "source": [
    "import random\n",
    "\n",
    "oper = ['+','-','*','/']\n",
    "count = 0\n",
    "for x in range(5):\n",
    "    # count = 0\n",
    "    a = random.randint(1,50)\n",
    "    b = random.randint(1,50)\n",
    "    op = oper[random.randint(0,3)]\n",
    "    print(a,op,b,'=')\n",
    "    answer = int(input('정답 >>> '))\n",
    "    result = 0 \n",
    "    if op == '+':\n",
    "        result = a+b\n",
    "    elif op == '-':\n",
    "        result = a-b\n",
    "    elif op == '*':\n",
    "        result = a*b\n",
    "    elif op == '/':\n",
    "        result = int(a/b)\n",
    "    if answer == result:\n",
    "        print('정답')\n",
    "        count += 1\n",
    "    else:\n",
    "        print('오답!')\n",
    "print(count,'개 맞음')    "
   ]
  },
  {
   "cell_type": "code",
   "execution_count": 9,
   "id": "6fa776da-2ba0-41df-9a95-f63bb8111a11",
   "metadata": {},
   "outputs": [
    {
     "name": "stdout",
     "output_type": "stream",
     "text": [
      "48+16 =\n"
     ]
    },
    {
     "name": "stdin",
     "output_type": "stream",
     "text": [
      "정답 >>>  64\n"
     ]
    },
    {
     "name": "stdout",
     "output_type": "stream",
     "text": [
      "정답\n",
      "48/50 =\n"
     ]
    },
    {
     "name": "stdin",
     "output_type": "stream",
     "text": [
      "정답 >>>  0\n"
     ]
    },
    {
     "name": "stdout",
     "output_type": "stream",
     "text": [
      "정답\n",
      "41+29 =\n"
     ]
    },
    {
     "name": "stdin",
     "output_type": "stream",
     "text": [
      "정답 >>>  0\n"
     ]
    },
    {
     "name": "stdout",
     "output_type": "stream",
     "text": [
      "오답!\n",
      "16-9 =\n"
     ]
    },
    {
     "name": "stdin",
     "output_type": "stream",
     "text": [
      "정답 >>>  0\n"
     ]
    },
    {
     "name": "stdout",
     "output_type": "stream",
     "text": [
      "오답!\n",
      "8/36 =\n"
     ]
    },
    {
     "name": "stdin",
     "output_type": "stream",
     "text": [
      "정답 >>>  0\n"
     ]
    },
    {
     "name": "stdout",
     "output_type": "stream",
     "text": [
      "정답\n",
      "3 개 맞음\n"
     ]
    }
   ],
   "source": [
    "import random\n",
    "\n",
    "oper = ['+','-','*','/']\n",
    "count = 0\n",
    "for x in range(5):\n",
    "    a = random.randint(1,50)\n",
    "    b = random.randint(1,50)\n",
    "    op = random.choice(oper)\n",
    "    quiz = str(a)+op+str(b)\n",
    "    print(quiz,'=')\n",
    "    answer = int(input('정답 >>> '))\n",
    "    result = 0 \n",
    "\n",
    "    if answer == int(eval(quiz)):\n",
    "        print('정답')\n",
    "        count += 1\n",
    "    else:\n",
    "        print('오답!')\n",
    "print(count,'개 맞음')  "
   ]
  },
  {
   "cell_type": "code",
   "execution_count": 10,
   "id": "da08b535-3b19-4425-b15f-b81f02f3b4f9",
   "metadata": {},
   "outputs": [
    {
     "data": {
      "text/plain": [
       "'print(1+2)'"
      ]
     },
     "execution_count": 10,
     "metadata": {},
     "output_type": "execute_result"
    }
   ],
   "source": [
    "'print(1+2)'"
   ]
  },
  {
   "cell_type": "code",
   "execution_count": 11,
   "id": "51ffb59f-3cf7-4457-b672-16e87cea8beb",
   "metadata": {},
   "outputs": [
    {
     "name": "stdout",
     "output_type": "stream",
     "text": [
      "3\n"
     ]
    }
   ],
   "source": [
    "eval('print(1+2)')"
   ]
  },
  {
   "cell_type": "code",
   "execution_count": null,
   "id": "af0cfbae-b987-4951-9300-3e401b407d51",
   "metadata": {},
   "outputs": [],
   "source": []
  }
 ],
 "metadata": {
  "kernelspec": {
   "display_name": "Python 3 (ipykernel)",
   "language": "python",
   "name": "python3"
  },
  "language_info": {
   "codemirror_mode": {
    "name": "ipython",
    "version": 3
   },
   "file_extension": ".py",
   "mimetype": "text/x-python",
   "name": "python",
   "nbconvert_exporter": "python",
   "pygments_lexer": "ipython3",
   "version": "3.9.13"
  }
 },
 "nbformat": 4,
 "nbformat_minor": 5
}
