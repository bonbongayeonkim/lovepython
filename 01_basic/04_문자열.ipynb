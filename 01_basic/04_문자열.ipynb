{
 "cells": [
  {
   "cell_type": "code",
   "execution_count": 1,
   "id": "0521ce59-6f01-4cd1-bc02-73c19c5e0077",
   "metadata": {},
   "outputs": [
    {
     "data": {
      "text/plain": [
       "'abcde'"
      ]
     },
     "execution_count": 1,
     "metadata": {},
     "output_type": "execute_result"
    }
   ],
   "source": [
    "a = 'abcde'\n",
    "a"
   ]
  },
  {
   "cell_type": "code",
   "execution_count": 2,
   "id": "beb652ba-d312-4f9c-bf27-71c94c0e243e",
   "metadata": {},
   "outputs": [
    {
     "data": {
      "text/plain": [
       "'d'"
      ]
     },
     "execution_count": 2,
     "metadata": {},
     "output_type": "execute_result"
    }
   ],
   "source": [
    "a[3]"
   ]
  },
  {
   "cell_type": "code",
   "execution_count": 3,
   "id": "f0f5f18a-40ba-4c66-9e12-fbb3e3326a34",
   "metadata": {},
   "outputs": [
    {
     "data": {
      "text/plain": [
       "5"
      ]
     },
     "execution_count": 3,
     "metadata": {},
     "output_type": "execute_result"
    }
   ],
   "source": [
    "len(a)"
   ]
  },
  {
   "cell_type": "code",
   "execution_count": 5,
   "id": "6c964b45-0cb4-400a-900d-7c7b831e1b34",
   "metadata": {},
   "outputs": [],
   "source": [
    "title = 'TEAMLAB X inflearn'"
   ]
  },
  {
   "cell_type": "code",
   "execution_count": 6,
   "id": "a9413ce8-2cd4-4733-9e5a-282d2c770857",
   "metadata": {},
   "outputs": [
    {
     "data": {
      "text/plain": [
       "'TEAMLAB X INFLEARN'"
      ]
     },
     "execution_count": 6,
     "metadata": {},
     "output_type": "execute_result"
    }
   ],
   "source": [
    "title.upper()"
   ]
  },
  {
   "cell_type": "code",
   "execution_count": 7,
   "id": "22ea9376-9618-4849-96a5-cfcb2ee88e13",
   "metadata": {},
   "outputs": [
    {
     "data": {
      "text/plain": [
       "'teamlab x inflearn'"
      ]
     },
     "execution_count": 7,
     "metadata": {},
     "output_type": "execute_result"
    }
   ],
   "source": [
    "title.lower()"
   ]
  },
  {
   "cell_type": "code",
   "execution_count": 8,
   "id": "c2186736-3527-4204-9f35-7faed8fc3da8",
   "metadata": {},
   "outputs": [
    {
     "data": {
      "text/plain": [
       "'Teamlab X Inflearn'"
      ]
     },
     "execution_count": 8,
     "metadata": {},
     "output_type": "execute_result"
    }
   ],
   "source": [
    "title.title()"
   ]
  },
  {
   "cell_type": "code",
   "execution_count": 9,
   "id": "46f96633-b79c-4b98-af67-c3db7c973b8f",
   "metadata": {},
   "outputs": [
    {
     "data": {
      "text/plain": [
       "'Teamlab x inflearn'"
      ]
     },
     "execution_count": 9,
     "metadata": {},
     "output_type": "execute_result"
    }
   ],
   "source": [
    "title.capitalize()"
   ]
  },
  {
   "cell_type": "code",
   "execution_count": 12,
   "id": "3168ff6b-0dcf-4c2e-ab32-7f953330cae2",
   "metadata": {},
   "outputs": [
    {
     "data": {
      "text/plain": [
       "2"
      ]
     },
     "execution_count": 12,
     "metadata": {},
     "output_type": "execute_result"
    }
   ],
   "source": [
    "title.lower().count('e')"
   ]
  },
  {
   "cell_type": "code",
   "execution_count": 17,
   "id": "9a63a6f5-cf25-4127-861c-38efeeb17568",
   "metadata": {},
   "outputs": [
    {
     "data": {
      "text/plain": [
       "1"
      ]
     },
     "execution_count": 17,
     "metadata": {},
     "output_type": "execute_result"
    }
   ],
   "source": [
    "title.count('e',0,15)"
   ]
  },
  {
   "cell_type": "code",
   "execution_count": 15,
   "id": "a4a83742-e888-46e1-a63c-01377c72ca15",
   "metadata": {},
   "outputs": [
    {
     "data": {
      "text/plain": [
       "1"
      ]
     },
     "execution_count": 15,
     "metadata": {},
     "output_type": "execute_result"
    }
   ],
   "source": [
    "title.find('E')"
   ]
  },
  {
   "cell_type": "code",
   "execution_count": 20,
   "id": "925e432b-12c6-47c3-88bf-7b8e41c38ffc",
   "metadata": {},
   "outputs": [
    {
     "data": {
      "text/plain": [
       "True"
      ]
     },
     "execution_count": 20,
     "metadata": {},
     "output_type": "execute_result"
    }
   ],
   "source": [
    "title.startswith('TEAM')"
   ]
  },
  {
   "cell_type": "code",
   "execution_count": 21,
   "id": "adb12507-0a6b-4e40-9502-6c025f2a2112",
   "metadata": {},
   "outputs": [
    {
     "data": {
      "text/plain": [
       "True"
      ]
     },
     "execution_count": 21,
     "metadata": {},
     "output_type": "execute_result"
    }
   ],
   "source": [
    "title.endswith('rn')"
   ]
  },
  {
   "cell_type": "code",
   "execution_count": 22,
   "id": "a110ec29-3316-40d9-a8bb-03f7056fe244",
   "metadata": {},
   "outputs": [
    {
     "data": {
      "text/plain": [
       "['TEAMLAB', 'X', 'inflearn']"
      ]
     },
     "execution_count": 22,
     "metadata": {},
     "output_type": "execute_result"
    }
   ],
   "source": [
    "title.split()"
   ]
  },
  {
   "cell_type": "code",
   "execution_count": 23,
   "id": "00ff0a81-ed5c-4492-b972-103121cc52e5",
   "metadata": {
    "collapsed": true,
    "jupyter": {
     "outputs_hidden": true
    },
    "tags": []
   },
   "outputs": [
    {
     "name": "stdout",
     "output_type": "stream",
     "text": [
      "3+23 =\n",
      "정답 >>>  kkk\n",
      "정답 >>>  jjj\n",
      "정답 >>>  jjj\n",
      "정답 >>>  ddd\n",
      "정답 >>>  eee\n",
      "정답 >>>  88\n",
      "오답!\n",
      "45+13 =\n"
     ]
    },
    {
     "ename": "KeyboardInterrupt",
     "evalue": "Interrupted by user",
     "output_type": "error",
     "traceback": [
      "\u001b[1;31m---------------------------------------------------------------------------\u001b[0m",
      "\u001b[1;31mKeyboardInterrupt\u001b[0m                         Traceback (most recent call last)",
      "\u001b[1;32m~\\AppData\\Local\\Temp\\ipykernel_6392\\438708622.py\u001b[0m in \u001b[0;36m<module>\u001b[1;34m\u001b[0m\n\u001b[0;32m     11\u001b[0m     \u001b[0manswer\u001b[0m\u001b[1;33m=\u001b[0m\u001b[1;34m''\u001b[0m\u001b[1;33m\u001b[0m\u001b[1;33m\u001b[0m\u001b[0m\n\u001b[0;32m     12\u001b[0m     \u001b[1;32mwhile\u001b[0m \u001b[1;32mnot\u001b[0m \u001b[0manswer\u001b[0m\u001b[1;33m.\u001b[0m\u001b[0misdigit\u001b[0m\u001b[1;33m(\u001b[0m\u001b[1;33m)\u001b[0m\u001b[1;33m:\u001b[0m\u001b[1;33m\u001b[0m\u001b[1;33m\u001b[0m\u001b[0m\n\u001b[1;32m---> 13\u001b[1;33m         \u001b[0manswer\u001b[0m \u001b[1;33m=\u001b[0m \u001b[0minput\u001b[0m\u001b[1;33m(\u001b[0m\u001b[1;34m'정답 >>> '\u001b[0m\u001b[1;33m)\u001b[0m\u001b[1;33m\u001b[0m\u001b[1;33m\u001b[0m\u001b[0m\n\u001b[0m\u001b[0;32m     14\u001b[0m     \u001b[0manswer\u001b[0m \u001b[1;33m=\u001b[0m \u001b[0mint\u001b[0m\u001b[1;33m(\u001b[0m\u001b[0manswer\u001b[0m\u001b[1;33m)\u001b[0m\u001b[1;33m\u001b[0m\u001b[1;33m\u001b[0m\u001b[0m\n\u001b[0;32m     15\u001b[0m     \u001b[0mresult\u001b[0m \u001b[1;33m=\u001b[0m \u001b[1;36m0\u001b[0m\u001b[1;33m\u001b[0m\u001b[1;33m\u001b[0m\u001b[0m\n",
      "\u001b[1;32m~\\anaconda3\\lib\\site-packages\\ipykernel\\kernelbase.py\u001b[0m in \u001b[0;36mraw_input\u001b[1;34m(self, prompt)\u001b[0m\n\u001b[0;32m   1175\u001b[0m                 \u001b[1;34m\"raw_input was called, but this frontend does not support input requests.\"\u001b[0m\u001b[1;33m\u001b[0m\u001b[1;33m\u001b[0m\u001b[0m\n\u001b[0;32m   1176\u001b[0m             )\n\u001b[1;32m-> 1177\u001b[1;33m         return self._input_request(\n\u001b[0m\u001b[0;32m   1178\u001b[0m             \u001b[0mstr\u001b[0m\u001b[1;33m(\u001b[0m\u001b[0mprompt\u001b[0m\u001b[1;33m)\u001b[0m\u001b[1;33m,\u001b[0m\u001b[1;33m\u001b[0m\u001b[1;33m\u001b[0m\u001b[0m\n\u001b[0;32m   1179\u001b[0m             \u001b[0mself\u001b[0m\u001b[1;33m.\u001b[0m\u001b[0m_parent_ident\u001b[0m\u001b[1;33m[\u001b[0m\u001b[1;34m\"shell\"\u001b[0m\u001b[1;33m]\u001b[0m\u001b[1;33m,\u001b[0m\u001b[1;33m\u001b[0m\u001b[1;33m\u001b[0m\u001b[0m\n",
      "\u001b[1;32m~\\anaconda3\\lib\\site-packages\\ipykernel\\kernelbase.py\u001b[0m in \u001b[0;36m_input_request\u001b[1;34m(self, prompt, ident, parent, password)\u001b[0m\n\u001b[0;32m   1217\u001b[0m             \u001b[1;32mexcept\u001b[0m \u001b[0mKeyboardInterrupt\u001b[0m\u001b[1;33m:\u001b[0m\u001b[1;33m\u001b[0m\u001b[1;33m\u001b[0m\u001b[0m\n\u001b[0;32m   1218\u001b[0m                 \u001b[1;31m# re-raise KeyboardInterrupt, to truncate traceback\u001b[0m\u001b[1;33m\u001b[0m\u001b[1;33m\u001b[0m\u001b[0m\n\u001b[1;32m-> 1219\u001b[1;33m                 \u001b[1;32mraise\u001b[0m \u001b[0mKeyboardInterrupt\u001b[0m\u001b[1;33m(\u001b[0m\u001b[1;34m\"Interrupted by user\"\u001b[0m\u001b[1;33m)\u001b[0m \u001b[1;32mfrom\u001b[0m \u001b[1;32mNone\u001b[0m\u001b[1;33m\u001b[0m\u001b[1;33m\u001b[0m\u001b[0m\n\u001b[0m\u001b[0;32m   1220\u001b[0m             \u001b[1;32mexcept\u001b[0m \u001b[0mException\u001b[0m\u001b[1;33m:\u001b[0m\u001b[1;33m\u001b[0m\u001b[1;33m\u001b[0m\u001b[0m\n\u001b[0;32m   1221\u001b[0m                 \u001b[0mself\u001b[0m\u001b[1;33m.\u001b[0m\u001b[0mlog\u001b[0m\u001b[1;33m.\u001b[0m\u001b[0mwarning\u001b[0m\u001b[1;33m(\u001b[0m\u001b[1;34m\"Invalid Message:\"\u001b[0m\u001b[1;33m,\u001b[0m \u001b[0mexc_info\u001b[0m\u001b[1;33m=\u001b[0m\u001b[1;32mTrue\u001b[0m\u001b[1;33m)\u001b[0m\u001b[1;33m\u001b[0m\u001b[1;33m\u001b[0m\u001b[0m\n",
      "\u001b[1;31mKeyboardInterrupt\u001b[0m: Interrupted by user"
     ]
    }
   ],
   "source": [
    "import random\n",
    "\n",
    "oper = ['+','-','*','/']\n",
    "count = 0\n",
    "for x in range(5):\n",
    "    a = random.randint(1,50)\n",
    "    b = random.randint(1,50)\n",
    "    op = random.choice(oper)\n",
    "    quiz = str(a)+op+str(b)\n",
    "    print(quiz,'=')\n",
    "    answer=''\n",
    "    while not answer.isdigit():\n",
    "        answer = input('정답 >>> ')\n",
    "    answer = int(answer)\n",
    "    result = 0 \n",
    "\n",
    "    if answer == int(eval(quiz)):\n",
    "        print('정답')\n",
    "        count += 1\n",
    "    else:\n",
    "        print('오답!')\n",
    "print(count,'개 맞음') "
   ]
  },
  {
   "cell_type": "code",
   "execution_count": 25,
   "id": "b99cfeb6-25d5-4910-8897-7089053d31ae",
   "metadata": {},
   "outputs": [],
   "source": [
    "a = 'i eat %d apples' %3"
   ]
  },
  {
   "cell_type": "code",
   "execution_count": 26,
   "id": "25429266-81f3-47aa-bfa1-dc9e80694084",
   "metadata": {},
   "outputs": [
    {
     "data": {
      "text/plain": [
       "'i eat 3 apples'"
      ]
     },
     "execution_count": 26,
     "metadata": {},
     "output_type": "execute_result"
    }
   ],
   "source": [
    "a"
   ]
  },
  {
   "cell_type": "code",
   "execution_count": 29,
   "id": "cc656a4a-af7d-495d-80ec-4dcdc7933eb3",
   "metadata": {},
   "outputs": [
    {
     "name": "stdout",
     "output_type": "stream",
     "text": [
      "사과의 갯수는 >>> 33\n"
     ]
    }
   ],
   "source": [
    "count = input('사과의 갯수는 >>>')\n",
    "a = 'i eat %s apples' %(count)"
   ]
  },
  {
   "cell_type": "code",
   "execution_count": 30,
   "id": "2545dccc-8473-448c-a360-143e50633e41",
   "metadata": {},
   "outputs": [
    {
     "data": {
      "text/plain": [
       "'i eat 33 apples'"
      ]
     },
     "execution_count": 30,
     "metadata": {},
     "output_type": "execute_result"
    }
   ],
   "source": [
    "a"
   ]
  },
  {
   "cell_type": "code",
   "execution_count": 31,
   "id": "966378c4-9872-4232-ba8d-b451134d6670",
   "metadata": {},
   "outputs": [
    {
     "data": {
      "text/plain": [
       "'I eat 3 apples'"
      ]
     },
     "execution_count": 31,
     "metadata": {},
     "output_type": "execute_result"
    }
   ],
   "source": [
    "\"I eat {} apples\".format(3)"
   ]
  },
  {
   "cell_type": "code",
   "execution_count": 33,
   "id": "56bbc0a7-6004-4f1b-b7d7-78bc1de8eabe",
   "metadata": {},
   "outputs": [
    {
     "data": {
      "text/plain": [
       "'I ate three apples. so I was sick for 10 days.'"
      ]
     },
     "execution_count": 33,
     "metadata": {},
     "output_type": "execute_result"
    }
   ],
   "source": [
    "number = 10\n",
    "day = \"three\"\n",
    "\"I ate {1} apples. so I was sick for {0} days.\".format(number, day)"
   ]
  },
  {
   "cell_type": "code",
   "execution_count": 34,
   "id": "499a990c-4157-484d-b3a8-c40f6529d479",
   "metadata": {},
   "outputs": [
    {
     "name": "stdout",
     "output_type": "stream",
     "text": [
      "이름은 >>> 홍길동\n",
      "나이는 >>>  34\n",
      "이름은    홍길동    이고, 나이는 34.0살 입니다.\n"
     ]
    }
   ],
   "source": [
    "name = input('이름은 >>>')\n",
    "age = int(input('나이는 >>> '))\n",
    "print(f'이름은 {name:^10}이고, 나이는 {age:.1f}살 입니다.')"
   ]
  },
  {
   "cell_type": "code",
   "execution_count": 35,
   "id": "a561cdcf-669d-45fb-9f1a-99daf23c15c5",
   "metadata": {},
   "outputs": [],
   "source": [
    "dic = {'name':'pey', 'phone':'010-9999-1234', 'birth': '1118'}"
   ]
  },
  {
   "cell_type": "code",
   "execution_count": 36,
   "id": "0ab527bd-577a-4a60-b1e9-480aabce7387",
   "metadata": {},
   "outputs": [
    {
     "data": {
      "text/plain": [
       "'pey'"
      ]
     },
     "execution_count": 36,
     "metadata": {},
     "output_type": "execute_result"
    }
   ],
   "source": [
    "dic['name']"
   ]
  },
  {
   "cell_type": "code",
   "execution_count": 37,
   "id": "9d972e9b-448f-495b-9e79-d5d6ec8676a2",
   "metadata": {},
   "outputs": [
    {
     "data": {
      "text/plain": [
       "{'name': 'pey', 'phone': '010-9999-1234', 'birth': '1118'}"
      ]
     },
     "execution_count": 37,
     "metadata": {},
     "output_type": "execute_result"
    }
   ],
   "source": [
    "dic"
   ]
  },
  {
   "cell_type": "code",
   "execution_count": 38,
   "id": "e5401b8f-038b-41c2-a8c3-f52c1b126e9b",
   "metadata": {},
   "outputs": [],
   "source": [
    "dic['address'] ='광주'"
   ]
  },
  {
   "cell_type": "code",
   "execution_count": 39,
   "id": "802b04fd-13ce-47cf-99ab-7b2ec0efd6e4",
   "metadata": {},
   "outputs": [
    {
     "data": {
      "text/plain": [
       "{'name': 'pey', 'phone': '010-9999-1234', 'birth': '1118', 'address': '광주'}"
      ]
     },
     "execution_count": 39,
     "metadata": {},
     "output_type": "execute_result"
    }
   ],
   "source": [
    "dic"
   ]
  },
  {
   "cell_type": "code",
   "execution_count": 40,
   "id": "a3c4f679-3944-407a-b760-192817dd515b",
   "metadata": {},
   "outputs": [],
   "source": [
    "dic['name'] = '홍길동'"
   ]
  },
  {
   "cell_type": "code",
   "execution_count": 41,
   "id": "bce61eb9-7dfc-4a0c-bb37-474c7d2ae28a",
   "metadata": {},
   "outputs": [
    {
     "data": {
      "text/plain": [
       "{'name': '홍길동', 'phone': '010-9999-1234', 'birth': '1118', 'address': '광주'}"
      ]
     },
     "execution_count": 41,
     "metadata": {},
     "output_type": "execute_result"
    }
   ],
   "source": [
    "dic"
   ]
  },
  {
   "cell_type": "code",
   "execution_count": 42,
   "id": "43323536-2166-4d00-8738-263cd47de05b",
   "metadata": {},
   "outputs": [],
   "source": [
    "del dic['address']"
   ]
  },
  {
   "cell_type": "code",
   "execution_count": 43,
   "id": "bd822428-74d9-4b3e-a96c-f18645492178",
   "metadata": {},
   "outputs": [
    {
     "data": {
      "text/plain": [
       "{'name': '홍길동', 'phone': '010-9999-1234', 'birth': '1118'}"
      ]
     },
     "execution_count": 43,
     "metadata": {},
     "output_type": "execute_result"
    }
   ],
   "source": [
    "dic"
   ]
  },
  {
   "cell_type": "code",
   "execution_count": 44,
   "id": "91b7f5b6-304a-4c15-8479-fe166ed7b936",
   "metadata": {},
   "outputs": [
    {
     "data": {
      "text/plain": [
       "'홍길동'"
      ]
     },
     "execution_count": 44,
     "metadata": {},
     "output_type": "execute_result"
    }
   ],
   "source": [
    "dic['name']"
   ]
  },
  {
   "cell_type": "code",
   "execution_count": 45,
   "id": "deb2fffa-80e9-4605-ba72-3743ae95dc03",
   "metadata": {},
   "outputs": [
    {
     "data": {
      "text/plain": [
       "dict_keys(['name', 'phone', 'birth'])"
      ]
     },
     "execution_count": 45,
     "metadata": {},
     "output_type": "execute_result"
    }
   ],
   "source": [
    "dic.keys()"
   ]
  },
  {
   "cell_type": "code",
   "execution_count": 46,
   "id": "7f9d884a-aebf-44ce-9204-2361cb3df925",
   "metadata": {},
   "outputs": [
    {
     "data": {
      "text/plain": [
       "dict_values(['홍길동', '010-9999-1234', '1118'])"
      ]
     },
     "execution_count": 46,
     "metadata": {},
     "output_type": "execute_result"
    }
   ],
   "source": [
    "dic.values()"
   ]
  },
  {
   "cell_type": "code",
   "execution_count": 47,
   "id": "543b0a59-400b-4878-ad8a-bedf491c8a63",
   "metadata": {},
   "outputs": [
    {
     "data": {
      "text/plain": [
       "dict_items([('name', '홍길동'), ('phone', '010-9999-1234'), ('birth', '1118')])"
      ]
     },
     "execution_count": 47,
     "metadata": {},
     "output_type": "execute_result"
    }
   ],
   "source": [
    "dic.items()"
   ]
  },
  {
   "cell_type": "code",
   "execution_count": 48,
   "id": "63662d3b-07b0-49df-b74d-339f08a04127",
   "metadata": {},
   "outputs": [
    {
     "data": {
      "text/plain": [
       "'홍길동'"
      ]
     },
     "execution_count": 48,
     "metadata": {},
     "output_type": "execute_result"
    }
   ],
   "source": [
    "dic['name']"
   ]
  },
  {
   "cell_type": "code",
   "execution_count": 49,
   "id": "361fcd22-4b91-47a6-afdb-b456ac79e7e4",
   "metadata": {},
   "outputs": [
    {
     "ename": "KeyError",
     "evalue": "'address'",
     "output_type": "error",
     "traceback": [
      "\u001b[1;31m---------------------------------------------------------------------------\u001b[0m",
      "\u001b[1;31mKeyError\u001b[0m                                  Traceback (most recent call last)",
      "\u001b[1;32m~\\AppData\\Local\\Temp\\ipykernel_6392\\1816033874.py\u001b[0m in \u001b[0;36m<module>\u001b[1;34m\u001b[0m\n\u001b[1;32m----> 1\u001b[1;33m \u001b[0mdic\u001b[0m\u001b[1;33m[\u001b[0m\u001b[1;34m'address'\u001b[0m\u001b[1;33m]\u001b[0m\u001b[1;33m\u001b[0m\u001b[1;33m\u001b[0m\u001b[0m\n\u001b[0m",
      "\u001b[1;31mKeyError\u001b[0m: 'address'"
     ]
    }
   ],
   "source": [
    "dic['address']"
   ]
  },
  {
   "cell_type": "code",
   "execution_count": 50,
   "id": "cd67383d-6c2d-4ed5-812f-68e1cc6f0246",
   "metadata": {},
   "outputs": [],
   "source": [
    "dic.get('address')"
   ]
  },
  {
   "cell_type": "code",
   "execution_count": 52,
   "id": "7662ab79-d1f5-4620-83f8-b8009ee96b96",
   "metadata": {},
   "outputs": [
    {
     "data": {
      "text/plain": [
       "'홍길동'"
      ]
     },
     "execution_count": 52,
     "metadata": {},
     "output_type": "execute_result"
    }
   ],
   "source": [
    "dic.get('name')"
   ]
  },
  {
   "cell_type": "code",
   "execution_count": 53,
   "id": "a2a24649-5a8f-4d5f-8511-006879bece46",
   "metadata": {},
   "outputs": [
    {
     "data": {
      "text/plain": [
       "True"
      ]
     },
     "execution_count": 53,
     "metadata": {},
     "output_type": "execute_result"
    }
   ],
   "source": [
    "'name' in dic"
   ]
  },
  {
   "cell_type": "code",
   "execution_count": 54,
   "id": "6b1f69cb-ddc6-4e79-a0a3-c401d6d538bd",
   "metadata": {},
   "outputs": [
    {
     "data": {
      "text/plain": [
       "False"
      ]
     },
     "execution_count": 54,
     "metadata": {},
     "output_type": "execute_result"
    }
   ],
   "source": [
    "'홍길동' in dic"
   ]
  },
  {
   "cell_type": "raw",
   "id": "cdb16dff-2973-4928-8717-fb308d20ffe2",
   "metadata": {},
   "source": [
    "명함관리프로그램\n",
    "데이터 구조는 리스트를 이용\n",
    "명함에 이름, 주소, 전화번호, 이메일을 입력받아서 저장, 수정, 삭제, 리스트, 검색 메뉴를 작성\n",
    "데이터는 이름으로 구분합니다. 동명이인 불가"
   ]
  },
  {
   "cell_type": "code",
   "execution_count": null,
   "id": "442fdca4-1827-4f23-9664-72fcb97d0679",
   "metadata": {},
   "outputs": [
    {
     "name": "stdout",
     "output_type": "stream",
     "text": [
      "\n",
      "--------------------------------------------------\n",
      "1.저장  2.수정  3.삭제  4.리스트  5.검색  6.종료(Q)\n",
      "--------------------------------------------------\n",
      ">>>  5\n",
      "검색할 이름 >>> 홍길동\n",
      "{'name': '홍길동', 'address': '서울', 'tel': '111-1111-1111', 'email': 'hong@gmail.com'}\n",
      "\n",
      "--------------------------------------------------\n",
      "1.저장  2.수정  3.삭제  4.리스트  5.검색  6.종료(Q)\n",
      "--------------------------------------------------\n",
      ">>>  4\n",
      "\n",
      "----------------------------------\n",
      "  이    름 : 홍길동\n",
      "  주    소 : 서울\n",
      "  전화번호 : 111-1111-1111\n",
      "  이 메 일 : hong@gmail.com \n",
      "\n",
      "----------------------------------\n",
      "  이    름 : 김나리\n",
      "  주    소 : 광주\n",
      "  전화번호 : 111-1111-1111\n",
      "  이 메 일 : kim@gmail.com \n"
     ]
    }
   ],
   "source": [
    "card=[{'name':'홍길동', 'address':'서울', 'tel':'111-1111-1111', 'email':'hong@gmail.com'},\n",
    "      {'name':'김나리', 'address':'광주', 'tel':'111-1111-1111', 'email':'kim@gmail.com'}]\n",
    "while True:\n",
    "    menu = input('''\n",
    "--------------------------------------------------\n",
    "1.저장  2.수정  3.삭제  4.리스트  5.검색  6.종료(Q)\n",
    "--------------------------------------------------\n",
    ">>> ''')\n",
    "    if menu =='1':\n",
    "        while True:\n",
    "            name = input('이름을 입력하세요 >>>')\n",
    "            check = 0\n",
    "            for item in card:\n",
    "                if item['name'] == name:\n",
    "                    check = 1\n",
    "            if check == 0:\n",
    "                break\n",
    "            print('중복되는 이름이 있습니다.')\n",
    "            \n",
    "        address = input('주소를 입력하세요 >>>')\n",
    "        tel = input('전화번호를 입력하세요 >>>')\n",
    "        email = input('이메일을 입력하세요 >>>')\n",
    "        card.append({'name':name,'address':address,'tel':tel,'email':email})   \n",
    "        print(card)\n",
    "    elif menu == '2':\n",
    "        name = input('수정할 데이터 이름 >>>')\n",
    "        idx = -1\n",
    "        for i, item in enumerate(card):\n",
    "            if item['name'] == name:\n",
    "                idx = i\n",
    "                while True:\n",
    "                    update = input('수정할 정보-address,tel,email,exit(종료) 입력 >>> ')\n",
    "                    if update in ('address','tel','email'):\n",
    "                        card[idx][update] = input('수정내용>>> ')\n",
    "                    elif update == 'exit':\n",
    "                        break\n",
    "                print(card[idx])\n",
    "                break\n",
    "        if idx == -1:\n",
    "            print('등록되지 않은 데이터 입니다.')\n",
    "\n",
    "    elif menu == '3':\n",
    "        name = input('삭제할 이름 입력 >>> ')\n",
    "        delok = 0\n",
    "        for i, item in enumerate(card):\n",
    "            if item['name'] == name :\n",
    "                print(item,'삭제!!')\n",
    "                del card[i]\n",
    "                delok = 1\n",
    "                break\n",
    "        if delok == 0:\n",
    "            print('등록되지 않은 데이터 입니다.')    \n",
    "\n",
    "    elif menu == '4':\n",
    "        for item in card:\n",
    "            print(f'''\n",
    "----------------------------------\n",
    "  이    름 : {item['name']}\n",
    "  주    소 : {item['address']}\n",
    "  전화번호 : {item['tel']}\n",
    "  이 메 일 : {item['email']} ''')\n",
    "\n",
    "    elif menu == '5':\n",
    "        name = input('검색할 이름 >>>')\n",
    "        idx = -1\n",
    "        for i, item in enumerate(card):\n",
    "            if item['name'] == name:\n",
    "                idx = i\n",
    "                print(item)\n",
    "                break\n",
    "        if idx == -1:\n",
    "            print('등록되지 않은 데이터 입니다.')\n",
    "\n",
    "    elif menu in ('6','Q','q'):\n",
    "        print('프로그램 종료')\n",
    "        break\n",
    "    else:\n",
    "        print('메뉴선택을 잘못하셨습니다.')"
   ]
  },
  {
   "cell_type": "code",
   "execution_count": 1,
   "id": "f0fac643-f8ce-43e5-9d92-957e6060b7c7",
   "metadata": {},
   "outputs": [
    {
     "name": "stdout",
     "output_type": "stream",
     "text": [
      "<class '_io.TextIOWrapper'>\n"
     ]
    }
   ],
   "source": [
    "f = open('test.txt','r')\n",
    "print(type(f))\n",
    "f.close()"
   ]
  }
 ],
 "metadata": {
  "kernelspec": {
   "display_name": "Python 3 (ipykernel)",
   "language": "python",
   "name": "python3"
  },
  "language_info": {
   "codemirror_mode": {
    "name": "ipython",
    "version": 3
   },
   "file_extension": ".py",
   "mimetype": "text/x-python",
   "name": "python",
   "nbconvert_exporter": "python",
   "pygments_lexer": "ipython3",
   "version": "3.9.13"
  },
  "vscode": {
   "interpreter": {
    "hash": "610a6f344c2137faf927ea819c63f6cee33a2c04455044b28099f39fe9722347"
   }
  }
 },
 "nbformat": 4,
 "nbformat_minor": 5
}
