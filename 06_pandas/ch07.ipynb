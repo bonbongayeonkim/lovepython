{
 "cells": [
  {
   "cell_type": "code",
   "execution_count": 1,
   "id": "fbd8c94b-e125-4d51-951f-ae0d1eb725f7",
   "metadata": {},
   "outputs": [],
   "source": [
    "import pandas as pd"
   ]
  },
  {
   "cell_type": "code",
   "execution_count": 2,
   "id": "ace14cb5-d5b3-4ece-8e9d-0b214789be4f",
   "metadata": {},
   "outputs": [],
   "source": [
    "pew = pd.read_csv('data/pew.csv')"
   ]
  },
  {
   "cell_type": "code",
   "execution_count": 3,
   "id": "5e816086-2180-472e-9e3c-65bd7963cf7d",
   "metadata": {},
   "outputs": [
    {
     "data": {
      "text/html": [
       "<div>\n",
       "<style scoped>\n",
       "    .dataframe tbody tr th:only-of-type {\n",
       "        vertical-align: middle;\n",
       "    }\n",
       "\n",
       "    .dataframe tbody tr th {\n",
       "        vertical-align: top;\n",
       "    }\n",
       "\n",
       "    .dataframe thead th {\n",
       "        text-align: right;\n",
       "    }\n",
       "</style>\n",
       "<table border=\"1\" class=\"dataframe\">\n",
       "  <thead>\n",
       "    <tr style=\"text-align: right;\">\n",
       "      <th></th>\n",
       "      <th>religion</th>\n",
       "      <th>&lt;$10k</th>\n",
       "      <th>$10-20k</th>\n",
       "      <th>$20-30k</th>\n",
       "      <th>$30-40k</th>\n",
       "      <th>$40-50k</th>\n",
       "      <th>$50-75k</th>\n",
       "      <th>$75-100k</th>\n",
       "      <th>$100-150k</th>\n",
       "      <th>&gt;150k</th>\n",
       "      <th>Don't know/refused</th>\n",
       "    </tr>\n",
       "  </thead>\n",
       "  <tbody>\n",
       "    <tr>\n",
       "      <th>0</th>\n",
       "      <td>Agnostic</td>\n",
       "      <td>27</td>\n",
       "      <td>34</td>\n",
       "      <td>60</td>\n",
       "      <td>81</td>\n",
       "      <td>76</td>\n",
       "      <td>137</td>\n",
       "      <td>122</td>\n",
       "      <td>109</td>\n",
       "      <td>84</td>\n",
       "      <td>96</td>\n",
       "    </tr>\n",
       "    <tr>\n",
       "      <th>1</th>\n",
       "      <td>Atheist</td>\n",
       "      <td>12</td>\n",
       "      <td>27</td>\n",
       "      <td>37</td>\n",
       "      <td>52</td>\n",
       "      <td>35</td>\n",
       "      <td>70</td>\n",
       "      <td>73</td>\n",
       "      <td>59</td>\n",
       "      <td>74</td>\n",
       "      <td>76</td>\n",
       "    </tr>\n",
       "  </tbody>\n",
       "</table>\n",
       "</div>"
      ],
      "text/plain": [
       "   religion  <$10k  $10-20k  $20-30k  $30-40k  $40-50k  $50-75k  $75-100k  \\\n",
       "0  Agnostic     27       34       60       81       76      137       122   \n",
       "1   Atheist     12       27       37       52       35       70        73   \n",
       "\n",
       "   $100-150k  >150k  Don't know/refused  \n",
       "0        109     84                  96  \n",
       "1         59     74                  76  "
      ]
     },
     "execution_count": 3,
     "metadata": {},
     "output_type": "execute_result"
    }
   ],
   "source": [
    "pew.head(2)"
   ]
  },
  {
   "cell_type": "code",
   "execution_count": 4,
   "id": "9d4a9319-6a9b-45ba-874a-031be0b1f0ed",
   "metadata": {
    "collapsed": true,
    "jupyter": {
     "outputs_hidden": true
    },
    "tags": []
   },
   "outputs": [
    {
     "data": {
      "text/html": [
       "<div>\n",
       "<style scoped>\n",
       "    .dataframe tbody tr th:only-of-type {\n",
       "        vertical-align: middle;\n",
       "    }\n",
       "\n",
       "    .dataframe tbody tr th {\n",
       "        vertical-align: top;\n",
       "    }\n",
       "\n",
       "    .dataframe thead th {\n",
       "        text-align: right;\n",
       "    }\n",
       "</style>\n",
       "<table border=\"1\" class=\"dataframe\">\n",
       "  <thead>\n",
       "    <tr style=\"text-align: right;\">\n",
       "      <th></th>\n",
       "      <th>religion</th>\n",
       "      <th>income</th>\n",
       "      <th>count</th>\n",
       "    </tr>\n",
       "  </thead>\n",
       "  <tbody>\n",
       "    <tr>\n",
       "      <th>0</th>\n",
       "      <td>Agnostic</td>\n",
       "      <td>&lt;$10k</td>\n",
       "      <td>27</td>\n",
       "    </tr>\n",
       "    <tr>\n",
       "      <th>1</th>\n",
       "      <td>Atheist</td>\n",
       "      <td>&lt;$10k</td>\n",
       "      <td>12</td>\n",
       "    </tr>\n",
       "    <tr>\n",
       "      <th>2</th>\n",
       "      <td>Buddhist</td>\n",
       "      <td>&lt;$10k</td>\n",
       "      <td>27</td>\n",
       "    </tr>\n",
       "    <tr>\n",
       "      <th>3</th>\n",
       "      <td>Catholic</td>\n",
       "      <td>&lt;$10k</td>\n",
       "      <td>418</td>\n",
       "    </tr>\n",
       "    <tr>\n",
       "      <th>4</th>\n",
       "      <td>Don’t know/refused</td>\n",
       "      <td>&lt;$10k</td>\n",
       "      <td>15</td>\n",
       "    </tr>\n",
       "    <tr>\n",
       "      <th>...</th>\n",
       "      <td>...</td>\n",
       "      <td>...</td>\n",
       "      <td>...</td>\n",
       "    </tr>\n",
       "    <tr>\n",
       "      <th>175</th>\n",
       "      <td>Orthodox</td>\n",
       "      <td>Don't know/refused</td>\n",
       "      <td>73</td>\n",
       "    </tr>\n",
       "    <tr>\n",
       "      <th>176</th>\n",
       "      <td>Other Christian</td>\n",
       "      <td>Don't know/refused</td>\n",
       "      <td>18</td>\n",
       "    </tr>\n",
       "    <tr>\n",
       "      <th>177</th>\n",
       "      <td>Other Faiths</td>\n",
       "      <td>Don't know/refused</td>\n",
       "      <td>71</td>\n",
       "    </tr>\n",
       "    <tr>\n",
       "      <th>178</th>\n",
       "      <td>Other World Religions</td>\n",
       "      <td>Don't know/refused</td>\n",
       "      <td>8</td>\n",
       "    </tr>\n",
       "    <tr>\n",
       "      <th>179</th>\n",
       "      <td>Unaffiliated</td>\n",
       "      <td>Don't know/refused</td>\n",
       "      <td>597</td>\n",
       "    </tr>\n",
       "  </tbody>\n",
       "</table>\n",
       "<p>180 rows × 3 columns</p>\n",
       "</div>"
      ],
      "text/plain": [
       "                  religion              income  count\n",
       "0                 Agnostic               <$10k     27\n",
       "1                  Atheist               <$10k     12\n",
       "2                 Buddhist               <$10k     27\n",
       "3                 Catholic               <$10k    418\n",
       "4       Don’t know/refused               <$10k     15\n",
       "..                     ...                 ...    ...\n",
       "175               Orthodox  Don't know/refused     73\n",
       "176        Other Christian  Don't know/refused     18\n",
       "177           Other Faiths  Don't know/refused     71\n",
       "178  Other World Religions  Don't know/refused      8\n",
       "179           Unaffiliated  Don't know/refused    597\n",
       "\n",
       "[180 rows x 3 columns]"
      ]
     },
     "execution_count": 4,
     "metadata": {},
     "output_type": "execute_result"
    }
   ],
   "source": [
    "pd.melt(pew,id_vars='religion',var_name='income',value_name='count')"
   ]
  },
  {
   "cell_type": "code",
   "execution_count": 8,
   "id": "17647594-141a-42d2-9374-53d75b22108a",
   "metadata": {},
   "outputs": [],
   "source": [
    "billboard = pd.read_csv('data/billboard.csv')"
   ]
  },
  {
   "cell_type": "code",
   "execution_count": 9,
   "id": "41ca19fb-b417-4328-97c5-7aaa7358ea67",
   "metadata": {
    "collapsed": true,
    "jupyter": {
     "outputs_hidden": true
    },
    "tags": []
   },
   "outputs": [
    {
     "data": {
      "text/plain": [
       "Index(['year', 'artist', 'track', 'time', 'date.entered', 'wk1', 'wk2', 'wk3',\n",
       "       'wk4', 'wk5', 'wk6', 'wk7', 'wk8', 'wk9', 'wk10', 'wk11', 'wk12',\n",
       "       'wk13', 'wk14', 'wk15', 'wk16', 'wk17', 'wk18', 'wk19', 'wk20', 'wk21',\n",
       "       'wk22', 'wk23', 'wk24', 'wk25', 'wk26', 'wk27', 'wk28', 'wk29', 'wk30',\n",
       "       'wk31', 'wk32', 'wk33', 'wk34', 'wk35', 'wk36', 'wk37', 'wk38', 'wk39',\n",
       "       'wk40', 'wk41', 'wk42', 'wk43', 'wk44', 'wk45', 'wk46', 'wk47', 'wk48',\n",
       "       'wk49', 'wk50', 'wk51', 'wk52', 'wk53', 'wk54', 'wk55', 'wk56', 'wk57',\n",
       "       'wk58', 'wk59', 'wk60', 'wk61', 'wk62', 'wk63', 'wk64', 'wk65', 'wk66',\n",
       "       'wk67', 'wk68', 'wk69', 'wk70', 'wk71', 'wk72', 'wk73', 'wk74', 'wk75',\n",
       "       'wk76'],\n",
       "      dtype='object')"
      ]
     },
     "execution_count": 9,
     "metadata": {},
     "output_type": "execute_result"
    }
   ],
   "source": [
    "billboard.columns"
   ]
  },
  {
   "cell_type": "code",
   "execution_count": 10,
   "id": "006003bc-18d4-4bf5-9919-2148f99f180a",
   "metadata": {
    "collapsed": true,
    "jupyter": {
     "outputs_hidden": true
    },
    "tags": []
   },
   "outputs": [
    {
     "data": {
      "text/html": [
       "<div>\n",
       "<style scoped>\n",
       "    .dataframe tbody tr th:only-of-type {\n",
       "        vertical-align: middle;\n",
       "    }\n",
       "\n",
       "    .dataframe tbody tr th {\n",
       "        vertical-align: top;\n",
       "    }\n",
       "\n",
       "    .dataframe thead th {\n",
       "        text-align: right;\n",
       "    }\n",
       "</style>\n",
       "<table border=\"1\" class=\"dataframe\">\n",
       "  <thead>\n",
       "    <tr style=\"text-align: right;\">\n",
       "      <th></th>\n",
       "      <th>year</th>\n",
       "      <th>artist</th>\n",
       "      <th>track</th>\n",
       "      <th>time</th>\n",
       "      <th>date.entered</th>\n",
       "      <th>variable</th>\n",
       "      <th>value</th>\n",
       "    </tr>\n",
       "  </thead>\n",
       "  <tbody>\n",
       "    <tr>\n",
       "      <th>0</th>\n",
       "      <td>2000</td>\n",
       "      <td>2 Pac</td>\n",
       "      <td>Baby Don't Cry (Keep...</td>\n",
       "      <td>4:22</td>\n",
       "      <td>2000-02-26</td>\n",
       "      <td>wk1</td>\n",
       "      <td>87.0</td>\n",
       "    </tr>\n",
       "    <tr>\n",
       "      <th>1</th>\n",
       "      <td>2000</td>\n",
       "      <td>2Ge+her</td>\n",
       "      <td>The Hardest Part Of ...</td>\n",
       "      <td>3:15</td>\n",
       "      <td>2000-09-02</td>\n",
       "      <td>wk1</td>\n",
       "      <td>91.0</td>\n",
       "    </tr>\n",
       "    <tr>\n",
       "      <th>2</th>\n",
       "      <td>2000</td>\n",
       "      <td>3 Doors Down</td>\n",
       "      <td>Kryptonite</td>\n",
       "      <td>3:53</td>\n",
       "      <td>2000-04-08</td>\n",
       "      <td>wk1</td>\n",
       "      <td>81.0</td>\n",
       "    </tr>\n",
       "    <tr>\n",
       "      <th>3</th>\n",
       "      <td>2000</td>\n",
       "      <td>3 Doors Down</td>\n",
       "      <td>Loser</td>\n",
       "      <td>4:24</td>\n",
       "      <td>2000-10-21</td>\n",
       "      <td>wk1</td>\n",
       "      <td>76.0</td>\n",
       "    </tr>\n",
       "    <tr>\n",
       "      <th>4</th>\n",
       "      <td>2000</td>\n",
       "      <td>504 Boyz</td>\n",
       "      <td>Wobble Wobble</td>\n",
       "      <td>3:35</td>\n",
       "      <td>2000-04-15</td>\n",
       "      <td>wk1</td>\n",
       "      <td>57.0</td>\n",
       "    </tr>\n",
       "    <tr>\n",
       "      <th>...</th>\n",
       "      <td>...</td>\n",
       "      <td>...</td>\n",
       "      <td>...</td>\n",
       "      <td>...</td>\n",
       "      <td>...</td>\n",
       "      <td>...</td>\n",
       "      <td>...</td>\n",
       "    </tr>\n",
       "    <tr>\n",
       "      <th>24087</th>\n",
       "      <td>2000</td>\n",
       "      <td>Yankee Grey</td>\n",
       "      <td>Another Nine Minutes</td>\n",
       "      <td>3:10</td>\n",
       "      <td>2000-04-29</td>\n",
       "      <td>wk76</td>\n",
       "      <td>NaN</td>\n",
       "    </tr>\n",
       "    <tr>\n",
       "      <th>24088</th>\n",
       "      <td>2000</td>\n",
       "      <td>Yearwood, Trisha</td>\n",
       "      <td>Real Live Woman</td>\n",
       "      <td>3:55</td>\n",
       "      <td>2000-04-01</td>\n",
       "      <td>wk76</td>\n",
       "      <td>NaN</td>\n",
       "    </tr>\n",
       "    <tr>\n",
       "      <th>24089</th>\n",
       "      <td>2000</td>\n",
       "      <td>Ying Yang Twins</td>\n",
       "      <td>Whistle While You Tw...</td>\n",
       "      <td>4:19</td>\n",
       "      <td>2000-03-18</td>\n",
       "      <td>wk76</td>\n",
       "      <td>NaN</td>\n",
       "    </tr>\n",
       "    <tr>\n",
       "      <th>24090</th>\n",
       "      <td>2000</td>\n",
       "      <td>Zombie Nation</td>\n",
       "      <td>Kernkraft 400</td>\n",
       "      <td>3:30</td>\n",
       "      <td>2000-09-02</td>\n",
       "      <td>wk76</td>\n",
       "      <td>NaN</td>\n",
       "    </tr>\n",
       "    <tr>\n",
       "      <th>24091</th>\n",
       "      <td>2000</td>\n",
       "      <td>matchbox twenty</td>\n",
       "      <td>Bent</td>\n",
       "      <td>4:12</td>\n",
       "      <td>2000-04-29</td>\n",
       "      <td>wk76</td>\n",
       "      <td>NaN</td>\n",
       "    </tr>\n",
       "  </tbody>\n",
       "</table>\n",
       "<p>24092 rows × 7 columns</p>\n",
       "</div>"
      ],
      "text/plain": [
       "       year            artist                    track  time date.entered  \\\n",
       "0      2000             2 Pac  Baby Don't Cry (Keep...  4:22   2000-02-26   \n",
       "1      2000           2Ge+her  The Hardest Part Of ...  3:15   2000-09-02   \n",
       "2      2000      3 Doors Down               Kryptonite  3:53   2000-04-08   \n",
       "3      2000      3 Doors Down                    Loser  4:24   2000-10-21   \n",
       "4      2000          504 Boyz            Wobble Wobble  3:35   2000-04-15   \n",
       "...     ...               ...                      ...   ...          ...   \n",
       "24087  2000       Yankee Grey     Another Nine Minutes  3:10   2000-04-29   \n",
       "24088  2000  Yearwood, Trisha          Real Live Woman  3:55   2000-04-01   \n",
       "24089  2000   Ying Yang Twins  Whistle While You Tw...  4:19   2000-03-18   \n",
       "24090  2000     Zombie Nation            Kernkraft 400  3:30   2000-09-02   \n",
       "24091  2000   matchbox twenty                     Bent  4:12   2000-04-29   \n",
       "\n",
       "      variable  value  \n",
       "0          wk1   87.0  \n",
       "1          wk1   91.0  \n",
       "2          wk1   81.0  \n",
       "3          wk1   76.0  \n",
       "4          wk1   57.0  \n",
       "...        ...    ...  \n",
       "24087     wk76    NaN  \n",
       "24088     wk76    NaN  \n",
       "24089     wk76    NaN  \n",
       "24090     wk76    NaN  \n",
       "24091     wk76    NaN  \n",
       "\n",
       "[24092 rows x 7 columns]"
      ]
     },
     "execution_count": 10,
     "metadata": {},
     "output_type": "execute_result"
    }
   ],
   "source": [
    "billboard.melt(id_vars=['year', 'artist', 'track', 'time', 'date.entered'],\n",
    "                   var_name='week', \n",
    "                   value_name ='rating' )"
   ]
  },
  {
   "cell_type": "code",
   "execution_count": 23,
   "id": "751b9aa2-1164-493c-bba9-ec1b4de6f7a6",
   "metadata": {},
   "outputs": [],
   "source": [
    "data = pd.read_csv('data/전라북도_소방서별 소방자동차 현황_20170810. (1).csv', encoding='cp949')"
   ]
  },
  {
   "cell_type": "code",
   "execution_count": 27,
   "id": "d9d28bf6-cae6-49e9-9f9e-d821f11f8c5e",
   "metadata": {},
   "outputs": [],
   "source": [
    "data_melt = data.melt(id_vars='시군',var_name='차량종류',value_name='대수'). fillna(0)"
   ]
  },
  {
   "cell_type": "code",
   "execution_count": 28,
   "id": "e5e914d6-3c58-4142-a1af-9690c66bbd24",
   "metadata": {
    "collapsed": true,
    "jupyter": {
     "outputs_hidden": true
    },
    "tags": []
   },
   "outputs": [
    {
     "data": {
      "text/plain": [
       "시군\n",
       "고창     27.0\n",
       "군산     49.0\n",
       "김제     26.0\n",
       "남원     46.0\n",
       "덕진     40.0\n",
       "무진장    48.0\n",
       "본부     14.0\n",
       "부안     30.0\n",
       "완산     46.0\n",
       "익산     42.0\n",
       "정읍     29.0\n",
       "Name: 대수, dtype: float64"
      ]
     },
     "execution_count": 28,
     "metadata": {},
     "output_type": "execute_result"
    }
   ],
   "source": [
    "data_melt.groupby(['시군'])['대수'].sum()"
   ]
  },
  {
   "cell_type": "code",
   "execution_count": 29,
   "id": "2ad4e8e8-7a11-4744-9ba0-e6b7e7fd322a",
   "metadata": {},
   "outputs": [],
   "source": [
    "ebola = pd.read_csv('data/country_timeseries.csv')"
   ]
  },
  {
   "cell_type": "code",
   "execution_count": 30,
   "id": "85f964ac-35c6-46a0-b722-1c4e3bcf12ad",
   "metadata": {},
   "outputs": [
    {
     "data": {
      "text/plain": [
       "Index(['Date', 'Day', 'Cases_Guinea', 'Cases_Liberia', 'Cases_SierraLeone',\n",
       "       'Cases_Nigeria', 'Cases_Senegal', 'Cases_UnitedStates', 'Cases_Spain',\n",
       "       'Cases_Mali', 'Deaths_Guinea', 'Deaths_Liberia', 'Deaths_SierraLeone',\n",
       "       'Deaths_Nigeria', 'Deaths_Senegal', 'Deaths_UnitedStates',\n",
       "       'Deaths_Spain', 'Deaths_Mali'],\n",
       "      dtype='object')"
      ]
     },
     "execution_count": 30,
     "metadata": {},
     "output_type": "execute_result"
    }
   ],
   "source": [
    "ebola.columns"
   ]
  },
  {
   "cell_type": "code",
   "execution_count": 32,
   "id": "fa9151a9-0ee5-4b45-a898-89671f2a9b0b",
   "metadata": {},
   "outputs": [],
   "source": [
    "ebola_melt = pd.melt(ebola,id_vars=['Date','Day'])"
   ]
  },
  {
   "cell_type": "code",
   "execution_count": 33,
   "id": "56aac117-7b73-41fd-b3f2-c4efd83c5a3c",
   "metadata": {},
   "outputs": [
    {
     "data": {
      "text/html": [
       "<div>\n",
       "<style scoped>\n",
       "    .dataframe tbody tr th:only-of-type {\n",
       "        vertical-align: middle;\n",
       "    }\n",
       "\n",
       "    .dataframe tbody tr th {\n",
       "        vertical-align: top;\n",
       "    }\n",
       "\n",
       "    .dataframe thead th {\n",
       "        text-align: right;\n",
       "    }\n",
       "</style>\n",
       "<table border=\"1\" class=\"dataframe\">\n",
       "  <thead>\n",
       "    <tr style=\"text-align: right;\">\n",
       "      <th></th>\n",
       "      <th>Date</th>\n",
       "      <th>Day</th>\n",
       "      <th>variable</th>\n",
       "      <th>value</th>\n",
       "    </tr>\n",
       "  </thead>\n",
       "  <tbody>\n",
       "    <tr>\n",
       "      <th>0</th>\n",
       "      <td>1/5/2015</td>\n",
       "      <td>289</td>\n",
       "      <td>Cases_Guinea</td>\n",
       "      <td>2776.0</td>\n",
       "    </tr>\n",
       "    <tr>\n",
       "      <th>1</th>\n",
       "      <td>1/4/2015</td>\n",
       "      <td>288</td>\n",
       "      <td>Cases_Guinea</td>\n",
       "      <td>2775.0</td>\n",
       "    </tr>\n",
       "  </tbody>\n",
       "</table>\n",
       "</div>"
      ],
      "text/plain": [
       "       Date  Day      variable   value\n",
       "0  1/5/2015  289  Cases_Guinea  2776.0\n",
       "1  1/4/2015  288  Cases_Guinea  2775.0"
      ]
     },
     "execution_count": 33,
     "metadata": {},
     "output_type": "execute_result"
    }
   ],
   "source": [
    "ebola_melt.head(2)"
   ]
  },
  {
   "cell_type": "code",
   "execution_count": 39,
   "id": "901e1bc8-cdb3-41d1-a2f7-5595a217eb14",
   "metadata": {},
   "outputs": [],
   "source": [
    "status = ebola_melt.variable.str.split('_').str.get(0)\n",
    "country = ebola_melt.variable.str.split('_').str.get(1)"
   ]
  },
  {
   "cell_type": "code",
   "execution_count": 40,
   "id": "f996dbe3-0a93-4238-b908-7945ccb90725",
   "metadata": {
    "collapsed": true,
    "jupyter": {
     "outputs_hidden": true
    },
    "tags": []
   },
   "outputs": [
    {
     "data": {
      "text/plain": [
       "0        Cases\n",
       "1        Cases\n",
       "2        Cases\n",
       "3        Cases\n",
       "4        Cases\n",
       "         ...  \n",
       "1947    Deaths\n",
       "1948    Deaths\n",
       "1949    Deaths\n",
       "1950    Deaths\n",
       "1951    Deaths\n",
       "Name: variable, Length: 1952, dtype: object"
      ]
     },
     "execution_count": 40,
     "metadata": {},
     "output_type": "execute_result"
    }
   ],
   "source": [
    "status"
   ]
  },
  {
   "cell_type": "code",
   "execution_count": 42,
   "id": "a91c47dc-7c34-4088-9ee0-c151e9015d08",
   "metadata": {},
   "outputs": [],
   "source": [
    "ebola_melt['status'] = status\n",
    "ebola_melt['country'] = country"
   ]
  },
  {
   "cell_type": "code",
   "execution_count": 44,
   "id": "ca4881de-d911-45f4-9f8b-f949b20980a3",
   "metadata": {},
   "outputs": [
    {
     "data": {
      "text/html": [
       "<div>\n",
       "<style scoped>\n",
       "    .dataframe tbody tr th:only-of-type {\n",
       "        vertical-align: middle;\n",
       "    }\n",
       "\n",
       "    .dataframe tbody tr th {\n",
       "        vertical-align: top;\n",
       "    }\n",
       "\n",
       "    .dataframe thead th {\n",
       "        text-align: right;\n",
       "    }\n",
       "</style>\n",
       "<table border=\"1\" class=\"dataframe\">\n",
       "  <thead>\n",
       "    <tr style=\"text-align: right;\">\n",
       "      <th></th>\n",
       "      <th>Date</th>\n",
       "      <th>Day</th>\n",
       "      <th>variable</th>\n",
       "      <th>value</th>\n",
       "      <th>status</th>\n",
       "      <th>country</th>\n",
       "    </tr>\n",
       "  </thead>\n",
       "  <tbody>\n",
       "    <tr>\n",
       "      <th>0</th>\n",
       "      <td>1/5/2015</td>\n",
       "      <td>289</td>\n",
       "      <td>Cases_Guinea</td>\n",
       "      <td>2776.0</td>\n",
       "      <td>Cases</td>\n",
       "      <td>Guinea</td>\n",
       "    </tr>\n",
       "    <tr>\n",
       "      <th>1</th>\n",
       "      <td>1/4/2015</td>\n",
       "      <td>288</td>\n",
       "      <td>Cases_Guinea</td>\n",
       "      <td>2775.0</td>\n",
       "      <td>Cases</td>\n",
       "      <td>Guinea</td>\n",
       "    </tr>\n",
       "    <tr>\n",
       "      <th>2</th>\n",
       "      <td>1/3/2015</td>\n",
       "      <td>287</td>\n",
       "      <td>Cases_Guinea</td>\n",
       "      <td>2769.0</td>\n",
       "      <td>Cases</td>\n",
       "      <td>Guinea</td>\n",
       "    </tr>\n",
       "  </tbody>\n",
       "</table>\n",
       "</div>"
      ],
      "text/plain": [
       "       Date  Day      variable   value status country\n",
       "0  1/5/2015  289  Cases_Guinea  2776.0  Cases  Guinea\n",
       "1  1/4/2015  288  Cases_Guinea  2775.0  Cases  Guinea\n",
       "2  1/3/2015  287  Cases_Guinea  2769.0  Cases  Guinea"
      ]
     },
     "execution_count": 44,
     "metadata": {},
     "output_type": "execute_result"
    }
   ],
   "source": [
    "ebola_melt.head(3)"
   ]
  },
  {
   "cell_type": "code",
   "execution_count": 45,
   "id": "252b81ef-eb3e-4d78-a1f9-4120dc95dc98",
   "metadata": {},
   "outputs": [],
   "source": [
    "ebola_melt.drop(columns='variable',inplace=True)"
   ]
  },
  {
   "cell_type": "code",
   "execution_count": 46,
   "id": "22152273-650c-4e83-8140-19ff1749dbfd",
   "metadata": {},
   "outputs": [
    {
     "data": {
      "text/html": [
       "<div>\n",
       "<style scoped>\n",
       "    .dataframe tbody tr th:only-of-type {\n",
       "        vertical-align: middle;\n",
       "    }\n",
       "\n",
       "    .dataframe tbody tr th {\n",
       "        vertical-align: top;\n",
       "    }\n",
       "\n",
       "    .dataframe thead th {\n",
       "        text-align: right;\n",
       "    }\n",
       "</style>\n",
       "<table border=\"1\" class=\"dataframe\">\n",
       "  <thead>\n",
       "    <tr style=\"text-align: right;\">\n",
       "      <th></th>\n",
       "      <th>Date</th>\n",
       "      <th>Day</th>\n",
       "      <th>value</th>\n",
       "      <th>status</th>\n",
       "      <th>country</th>\n",
       "    </tr>\n",
       "  </thead>\n",
       "  <tbody>\n",
       "    <tr>\n",
       "      <th>0</th>\n",
       "      <td>1/5/2015</td>\n",
       "      <td>289</td>\n",
       "      <td>2776.0</td>\n",
       "      <td>Cases</td>\n",
       "      <td>Guinea</td>\n",
       "    </tr>\n",
       "    <tr>\n",
       "      <th>1</th>\n",
       "      <td>1/4/2015</td>\n",
       "      <td>288</td>\n",
       "      <td>2775.0</td>\n",
       "      <td>Cases</td>\n",
       "      <td>Guinea</td>\n",
       "    </tr>\n",
       "  </tbody>\n",
       "</table>\n",
       "</div>"
      ],
      "text/plain": [
       "       Date  Day   value status country\n",
       "0  1/5/2015  289  2776.0  Cases  Guinea\n",
       "1  1/4/2015  288  2775.0  Cases  Guinea"
      ]
     },
     "execution_count": 46,
     "metadata": {},
     "output_type": "execute_result"
    }
   ],
   "source": [
    "ebola_melt.head(2)"
   ]
  },
  {
   "cell_type": "code",
   "execution_count": 48,
   "id": "5d0dde1b-4283-414f-8e0a-1c12d068db18",
   "metadata": {},
   "outputs": [],
   "source": [
    "weather =  pd.read_csv('data/weather.csv')"
   ]
  },
  {
   "cell_type": "code",
   "execution_count": 51,
   "id": "7160bc28-c642-4544-9d9f-0835549c343e",
   "metadata": {
    "collapsed": true,
    "jupyter": {
     "outputs_hidden": true
    },
    "tags": []
   },
   "outputs": [
    {
     "data": {
      "text/plain": [
       "id         MX17004\n",
       "year          2010\n",
       "month            2\n",
       "element       tmin\n",
       "d1             NaN\n",
       "d2            14.4\n",
       "d3            14.4\n",
       "d4             NaN\n",
       "d5             NaN\n",
       "d6             NaN\n",
       "d7             NaN\n",
       "d8             NaN\n",
       "d9             NaN\n",
       "d10            NaN\n",
       "d11           13.4\n",
       "d12            NaN\n",
       "d13            NaN\n",
       "d14            NaN\n",
       "d15            NaN\n",
       "d16            NaN\n",
       "d17            NaN\n",
       "d18            NaN\n",
       "d19            NaN\n",
       "d20            NaN\n",
       "d21            NaN\n",
       "d22            NaN\n",
       "d23           10.7\n",
       "d24            NaN\n",
       "d25            NaN\n",
       "d26            NaN\n",
       "d27            NaN\n",
       "d28            NaN\n",
       "d29            NaN\n",
       "d30            NaN\n",
       "d31            NaN\n",
       "Name: 3, dtype: object"
      ]
     },
     "execution_count": 51,
     "metadata": {},
     "output_type": "execute_result"
    }
   ],
   "source": [
    "weather.iloc[3]"
   ]
  },
  {
   "cell_type": "code",
   "execution_count": 52,
   "id": "a992fb2a-f17c-4bd1-98d7-26e99ee54319",
   "metadata": {},
   "outputs": [
    {
     "data": {
      "text/plain": [
       "Index(['id', 'year', 'month', 'element', 'd1', 'd2', 'd3', 'd4', 'd5', 'd6',\n",
       "       'd7', 'd8', 'd9', 'd10', 'd11', 'd12', 'd13', 'd14', 'd15', 'd16',\n",
       "       'd17', 'd18', 'd19', 'd20', 'd21', 'd22', 'd23', 'd24', 'd25', 'd26',\n",
       "       'd27', 'd28', 'd29', 'd30', 'd31'],\n",
       "      dtype='object')"
      ]
     },
     "execution_count": 52,
     "metadata": {},
     "output_type": "execute_result"
    }
   ],
   "source": [
    "weather.columns"
   ]
  },
  {
   "cell_type": "code",
   "execution_count": 56,
   "id": "54b5635d-ec5a-4569-9d58-3ac6a89867ac",
   "metadata": {},
   "outputs": [],
   "source": [
    "weather_melt = weather.melt(id_vars=['id', 'year', 'month', 'element'],\n",
    "                                      var_name = 'day',\n",
    "                                      value_name = 'temp')"
   ]
  },
  {
   "cell_type": "code",
   "execution_count": 57,
   "id": "d4d13988-8945-48a4-9f29-b9e9e8245bbb",
   "metadata": {
    "collapsed": true,
    "jupyter": {
     "outputs_hidden": true
    },
    "tags": []
   },
   "outputs": [
    {
     "data": {
      "text/html": [
       "<div>\n",
       "<style scoped>\n",
       "    .dataframe tbody tr th:only-of-type {\n",
       "        vertical-align: middle;\n",
       "    }\n",
       "\n",
       "    .dataframe tbody tr th {\n",
       "        vertical-align: top;\n",
       "    }\n",
       "\n",
       "    .dataframe thead th {\n",
       "        text-align: right;\n",
       "    }\n",
       "</style>\n",
       "<table border=\"1\" class=\"dataframe\">\n",
       "  <thead>\n",
       "    <tr style=\"text-align: right;\">\n",
       "      <th></th>\n",
       "      <th>id</th>\n",
       "      <th>year</th>\n",
       "      <th>month</th>\n",
       "      <th>element</th>\n",
       "      <th>day</th>\n",
       "      <th>temp</th>\n",
       "    </tr>\n",
       "  </thead>\n",
       "  <tbody>\n",
       "    <tr>\n",
       "      <th>0</th>\n",
       "      <td>MX17004</td>\n",
       "      <td>2010</td>\n",
       "      <td>1</td>\n",
       "      <td>tmax</td>\n",
       "      <td>d1</td>\n",
       "      <td>NaN</td>\n",
       "    </tr>\n",
       "    <tr>\n",
       "      <th>1</th>\n",
       "      <td>MX17004</td>\n",
       "      <td>2010</td>\n",
       "      <td>1</td>\n",
       "      <td>tmin</td>\n",
       "      <td>d1</td>\n",
       "      <td>NaN</td>\n",
       "    </tr>\n",
       "    <tr>\n",
       "      <th>2</th>\n",
       "      <td>MX17004</td>\n",
       "      <td>2010</td>\n",
       "      <td>2</td>\n",
       "      <td>tmax</td>\n",
       "      <td>d1</td>\n",
       "      <td>NaN</td>\n",
       "    </tr>\n",
       "    <tr>\n",
       "      <th>3</th>\n",
       "      <td>MX17004</td>\n",
       "      <td>2010</td>\n",
       "      <td>2</td>\n",
       "      <td>tmin</td>\n",
       "      <td>d1</td>\n",
       "      <td>NaN</td>\n",
       "    </tr>\n",
       "    <tr>\n",
       "      <th>4</th>\n",
       "      <td>MX17004</td>\n",
       "      <td>2010</td>\n",
       "      <td>3</td>\n",
       "      <td>tmax</td>\n",
       "      <td>d1</td>\n",
       "      <td>NaN</td>\n",
       "    </tr>\n",
       "    <tr>\n",
       "      <th>...</th>\n",
       "      <td>...</td>\n",
       "      <td>...</td>\n",
       "      <td>...</td>\n",
       "      <td>...</td>\n",
       "      <td>...</td>\n",
       "      <td>...</td>\n",
       "    </tr>\n",
       "    <tr>\n",
       "      <th>677</th>\n",
       "      <td>MX17004</td>\n",
       "      <td>2010</td>\n",
       "      <td>10</td>\n",
       "      <td>tmin</td>\n",
       "      <td>d31</td>\n",
       "      <td>NaN</td>\n",
       "    </tr>\n",
       "    <tr>\n",
       "      <th>678</th>\n",
       "      <td>MX17004</td>\n",
       "      <td>2010</td>\n",
       "      <td>11</td>\n",
       "      <td>tmax</td>\n",
       "      <td>d31</td>\n",
       "      <td>NaN</td>\n",
       "    </tr>\n",
       "    <tr>\n",
       "      <th>679</th>\n",
       "      <td>MX17004</td>\n",
       "      <td>2010</td>\n",
       "      <td>11</td>\n",
       "      <td>tmin</td>\n",
       "      <td>d31</td>\n",
       "      <td>NaN</td>\n",
       "    </tr>\n",
       "    <tr>\n",
       "      <th>680</th>\n",
       "      <td>MX17004</td>\n",
       "      <td>2010</td>\n",
       "      <td>12</td>\n",
       "      <td>tmax</td>\n",
       "      <td>d31</td>\n",
       "      <td>NaN</td>\n",
       "    </tr>\n",
       "    <tr>\n",
       "      <th>681</th>\n",
       "      <td>MX17004</td>\n",
       "      <td>2010</td>\n",
       "      <td>12</td>\n",
       "      <td>tmin</td>\n",
       "      <td>d31</td>\n",
       "      <td>NaN</td>\n",
       "    </tr>\n",
       "  </tbody>\n",
       "</table>\n",
       "<p>682 rows × 6 columns</p>\n",
       "</div>"
      ],
      "text/plain": [
       "          id  year  month element  day  temp\n",
       "0    MX17004  2010      1    tmax   d1   NaN\n",
       "1    MX17004  2010      1    tmin   d1   NaN\n",
       "2    MX17004  2010      2    tmax   d1   NaN\n",
       "3    MX17004  2010      2    tmin   d1   NaN\n",
       "4    MX17004  2010      3    tmax   d1   NaN\n",
       "..       ...   ...    ...     ...  ...   ...\n",
       "677  MX17004  2010     10    tmin  d31   NaN\n",
       "678  MX17004  2010     11    tmax  d31   NaN\n",
       "679  MX17004  2010     11    tmin  d31   NaN\n",
       "680  MX17004  2010     12    tmax  d31   NaN\n",
       "681  MX17004  2010     12    tmin  d31   NaN\n",
       "\n",
       "[682 rows x 6 columns]"
      ]
     },
     "execution_count": 57,
     "metadata": {},
     "output_type": "execute_result"
    }
   ],
   "source": [
    "weather_melt"
   ]
  },
  {
   "cell_type": "code",
   "execution_count": 60,
   "id": "89cd2f4a-4a77-4c2b-aad6-82ab06fbd792",
   "metadata": {},
   "outputs": [],
   "source": [
    "weather_tidy = weather_melt.pivot_table(columns='element',\n",
    "                                 values='temp',\n",
    "                                 index=['id', 'year', 'month', 'day'])"
   ]
  },
  {
   "cell_type": "code",
   "execution_count": 61,
   "id": "be357fec-3dde-40a4-b1bb-7cfc2e9fa6a4",
   "metadata": {
    "collapsed": true,
    "jupyter": {
     "outputs_hidden": true
    },
    "tags": []
   },
   "outputs": [
    {
     "data": {
      "text/plain": [
       "MultiIndex([('MX17004', 2010,  1, 'd30'),\n",
       "            ('MX17004', 2010,  2, 'd11'),\n",
       "            ('MX17004', 2010,  2,  'd2'),\n",
       "            ('MX17004', 2010,  2, 'd23'),\n",
       "            ('MX17004', 2010,  2,  'd3'),\n",
       "            ('MX17004', 2010,  3, 'd10'),\n",
       "            ('MX17004', 2010,  3, 'd16'),\n",
       "            ('MX17004', 2010,  3,  'd5'),\n",
       "            ('MX17004', 2010,  4, 'd27'),\n",
       "            ('MX17004', 2010,  5, 'd27'),\n",
       "            ('MX17004', 2010,  6, 'd17'),\n",
       "            ('MX17004', 2010,  6, 'd29'),\n",
       "            ('MX17004', 2010,  7,  'd3'),\n",
       "            ('MX17004', 2010,  7, 'd14'),\n",
       "            ('MX17004', 2010,  8, 'd23'),\n",
       "            ('MX17004', 2010,  8,  'd5'),\n",
       "            ('MX17004', 2010,  8, 'd29'),\n",
       "            ('MX17004', 2010,  8, 'd13'),\n",
       "            ('MX17004', 2010,  8, 'd25'),\n",
       "            ('MX17004', 2010,  8, 'd31'),\n",
       "            ('MX17004', 2010,  8,  'd8'),\n",
       "            ('MX17004', 2010, 10,  'd5'),\n",
       "            ('MX17004', 2010, 10, 'd14'),\n",
       "            ('MX17004', 2010, 10, 'd15'),\n",
       "            ('MX17004', 2010, 10, 'd28'),\n",
       "            ('MX17004', 2010, 10,  'd7'),\n",
       "            ('MX17004', 2010, 11,  'd2'),\n",
       "            ('MX17004', 2010, 11,  'd5'),\n",
       "            ('MX17004', 2010, 11, 'd27'),\n",
       "            ('MX17004', 2010, 11, 'd26'),\n",
       "            ('MX17004', 2010, 11,  'd4'),\n",
       "            ('MX17004', 2010, 12,  'd1'),\n",
       "            ('MX17004', 2010, 12,  'd6')],\n",
       "           names=['id', 'year', 'month', 'day'])"
      ]
     },
     "execution_count": 61,
     "metadata": {},
     "output_type": "execute_result"
    }
   ],
   "source": [
    "weather_tidy.index"
   ]
  },
  {
   "cell_type": "code",
   "execution_count": 62,
   "id": "a0a4e76f-5dbe-4e87-a2b9-cd797a311058",
   "metadata": {},
   "outputs": [],
   "source": [
    "weather_reset = weather_tidy.reset_index()"
   ]
  },
  {
   "cell_type": "code",
   "execution_count": 63,
   "id": "e8d43d7d-7347-46ec-b97c-eb05b2d41ab7",
   "metadata": {},
   "outputs": [
    {
     "data": {
      "text/plain": [
       "RangeIndex(start=0, stop=33, step=1)"
      ]
     },
     "execution_count": 63,
     "metadata": {},
     "output_type": "execute_result"
    }
   ],
   "source": [
    "weather_reset.index"
   ]
  },
  {
   "cell_type": "code",
   "execution_count": 65,
   "id": "7d0d68ca-4e78-416b-b94c-08e9aa3b32b0",
   "metadata": {},
   "outputs": [
    {
     "data": {
      "text/html": [
       "<div>\n",
       "<style scoped>\n",
       "    .dataframe tbody tr th:only-of-type {\n",
       "        vertical-align: middle;\n",
       "    }\n",
       "\n",
       "    .dataframe tbody tr th {\n",
       "        vertical-align: top;\n",
       "    }\n",
       "\n",
       "    .dataframe thead th {\n",
       "        text-align: right;\n",
       "    }\n",
       "</style>\n",
       "<table border=\"1\" class=\"dataframe\">\n",
       "  <thead>\n",
       "    <tr style=\"text-align: right;\">\n",
       "      <th></th>\n",
       "      <th>year</th>\n",
       "      <th>artist</th>\n",
       "      <th>track</th>\n",
       "      <th>time</th>\n",
       "      <th>date.entered</th>\n",
       "      <th>wk1</th>\n",
       "      <th>wk2</th>\n",
       "      <th>wk3</th>\n",
       "      <th>wk4</th>\n",
       "      <th>wk5</th>\n",
       "      <th>...</th>\n",
       "      <th>wk67</th>\n",
       "      <th>wk68</th>\n",
       "      <th>wk69</th>\n",
       "      <th>wk70</th>\n",
       "      <th>wk71</th>\n",
       "      <th>wk72</th>\n",
       "      <th>wk73</th>\n",
       "      <th>wk74</th>\n",
       "      <th>wk75</th>\n",
       "      <th>wk76</th>\n",
       "    </tr>\n",
       "  </thead>\n",
       "  <tbody>\n",
       "    <tr>\n",
       "      <th>0</th>\n",
       "      <td>2000</td>\n",
       "      <td>2 Pac</td>\n",
       "      <td>Baby Don't Cry (Keep...</td>\n",
       "      <td>4:22</td>\n",
       "      <td>2000-02-26</td>\n",
       "      <td>87</td>\n",
       "      <td>82.0</td>\n",
       "      <td>72.0</td>\n",
       "      <td>77.0</td>\n",
       "      <td>87.0</td>\n",
       "      <td>...</td>\n",
       "      <td>NaN</td>\n",
       "      <td>NaN</td>\n",
       "      <td>NaN</td>\n",
       "      <td>NaN</td>\n",
       "      <td>NaN</td>\n",
       "      <td>NaN</td>\n",
       "      <td>NaN</td>\n",
       "      <td>NaN</td>\n",
       "      <td>NaN</td>\n",
       "      <td>NaN</td>\n",
       "    </tr>\n",
       "  </tbody>\n",
       "</table>\n",
       "<p>1 rows × 81 columns</p>\n",
       "</div>"
      ],
      "text/plain": [
       "   year artist                    track  time date.entered  wk1   wk2   wk3  \\\n",
       "0  2000  2 Pac  Baby Don't Cry (Keep...  4:22   2000-02-26   87  82.0  72.0   \n",
       "\n",
       "    wk4   wk5  ...  wk67  wk68  wk69  wk70  wk71  wk72  wk73  wk74  wk75  wk76  \n",
       "0  77.0  87.0  ...   NaN   NaN   NaN   NaN   NaN   NaN   NaN   NaN   NaN   NaN  \n",
       "\n",
       "[1 rows x 81 columns]"
      ]
     },
     "execution_count": 65,
     "metadata": {},
     "output_type": "execute_result"
    }
   ],
   "source": [
    "billboard = pd.read_csv('data/billboard.csv')\n",
    "billboard.head(1)"
   ]
  },
  {
   "cell_type": "code",
   "execution_count": 66,
   "id": "b1fb1afd-8f43-460a-a482-db2b7e6e4a8c",
   "metadata": {},
   "outputs": [
    {
     "data": {
      "text/plain": [
       "Index(['year', 'artist', 'track', 'time', 'date.entered', 'wk1', 'wk2', 'wk3',\n",
       "       'wk4', 'wk5', 'wk6', 'wk7', 'wk8', 'wk9', 'wk10', 'wk11', 'wk12',\n",
       "       'wk13', 'wk14', 'wk15', 'wk16', 'wk17', 'wk18', 'wk19', 'wk20', 'wk21',\n",
       "       'wk22', 'wk23', 'wk24', 'wk25', 'wk26', 'wk27', 'wk28', 'wk29', 'wk30',\n",
       "       'wk31', 'wk32', 'wk33', 'wk34', 'wk35', 'wk36', 'wk37', 'wk38', 'wk39',\n",
       "       'wk40', 'wk41', 'wk42', 'wk43', 'wk44', 'wk45', 'wk46', 'wk47', 'wk48',\n",
       "       'wk49', 'wk50', 'wk51', 'wk52', 'wk53', 'wk54', 'wk55', 'wk56', 'wk57',\n",
       "       'wk58', 'wk59', 'wk60', 'wk61', 'wk62', 'wk63', 'wk64', 'wk65', 'wk66',\n",
       "       'wk67', 'wk68', 'wk69', 'wk70', 'wk71', 'wk72', 'wk73', 'wk74', 'wk75',\n",
       "       'wk76'],\n",
       "      dtype='object')"
      ]
     },
     "execution_count": 66,
     "metadata": {},
     "output_type": "execute_result"
    }
   ],
   "source": [
    "billboard.columns"
   ]
  },
  {
   "cell_type": "code",
   "execution_count": 71,
   "id": "9dadb1f2-ef1d-4890-9766-323f66008e90",
   "metadata": {},
   "outputs": [],
   "source": [
    "billboard_melt = billboard.melt(\n",
    "                id_vars=['year', 'artist', 'track', 'time', 'date.entered'],\n",
    "                var_name = 'week',\n",
    "                value_name = 'rating')"
   ]
  },
  {
   "cell_type": "code",
   "execution_count": 72,
   "id": "5fbd1aaf-24c6-4508-96dc-64735b8507bd",
   "metadata": {},
   "outputs": [
    {
     "data": {
      "text/plain": [
       "((317, 81), (24092, 7))"
      ]
     },
     "execution_count": 72,
     "metadata": {},
     "output_type": "execute_result"
    }
   ],
   "source": [
    "billboard.shape,billboard_melt.shape"
   ]
  },
  {
   "cell_type": "code",
   "execution_count": 75,
   "id": "1d63f576-ec02-47df-8b89-af7060de5867",
   "metadata": {
    "collapsed": true,
    "jupyter": {
     "outputs_hidden": true
    },
    "tags": []
   },
   "outputs": [
    {
     "data": {
      "text/html": [
       "<div>\n",
       "<style scoped>\n",
       "    .dataframe tbody tr th:only-of-type {\n",
       "        vertical-align: middle;\n",
       "    }\n",
       "\n",
       "    .dataframe tbody tr th {\n",
       "        vertical-align: top;\n",
       "    }\n",
       "\n",
       "    .dataframe thead th {\n",
       "        text-align: right;\n",
       "    }\n",
       "</style>\n",
       "<table border=\"1\" class=\"dataframe\">\n",
       "  <thead>\n",
       "    <tr style=\"text-align: right;\">\n",
       "      <th></th>\n",
       "      <th>year</th>\n",
       "      <th>artist</th>\n",
       "      <th>track</th>\n",
       "      <th>time</th>\n",
       "      <th>date.entered</th>\n",
       "      <th>week</th>\n",
       "      <th>rating</th>\n",
       "    </tr>\n",
       "  </thead>\n",
       "  <tbody>\n",
       "    <tr>\n",
       "      <th>2124</th>\n",
       "      <td>2000</td>\n",
       "      <td>Nelly</td>\n",
       "      <td>(Hot S**t) Country G...</td>\n",
       "      <td>4:17</td>\n",
       "      <td>2000-04-29</td>\n",
       "      <td>wk7</td>\n",
       "      <td>24.0</td>\n",
       "    </tr>\n",
       "    <tr>\n",
       "      <th>10366</th>\n",
       "      <td>2000</td>\n",
       "      <td>Nelly</td>\n",
       "      <td>(Hot S**t) Country G...</td>\n",
       "      <td>4:17</td>\n",
       "      <td>2000-04-29</td>\n",
       "      <td>wk33</td>\n",
       "      <td>36.0</td>\n",
       "    </tr>\n",
       "    <tr>\n",
       "      <th>23363</th>\n",
       "      <td>2000</td>\n",
       "      <td>Nelly</td>\n",
       "      <td>(Hot S**t) Country G...</td>\n",
       "      <td>4:17</td>\n",
       "      <td>2000-04-29</td>\n",
       "      <td>wk74</td>\n",
       "      <td>NaN</td>\n",
       "    </tr>\n",
       "    <tr>\n",
       "      <th>19242</th>\n",
       "      <td>2000</td>\n",
       "      <td>Nelly</td>\n",
       "      <td>(Hot S**t) Country G...</td>\n",
       "      <td>4:17</td>\n",
       "      <td>2000-04-29</td>\n",
       "      <td>wk61</td>\n",
       "      <td>NaN</td>\n",
       "    </tr>\n",
       "    <tr>\n",
       "      <th>7196</th>\n",
       "      <td>2000</td>\n",
       "      <td>Nelly</td>\n",
       "      <td>(Hot S**t) Country G...</td>\n",
       "      <td>4:17</td>\n",
       "      <td>2000-04-29</td>\n",
       "      <td>wk23</td>\n",
       "      <td>8.0</td>\n",
       "    </tr>\n",
       "  </tbody>\n",
       "</table>\n",
       "</div>"
      ],
      "text/plain": [
       "       year artist                    track  time date.entered  week  rating\n",
       "2124   2000  Nelly  (Hot S**t) Country G...  4:17   2000-04-29   wk7    24.0\n",
       "10366  2000  Nelly  (Hot S**t) Country G...  4:17   2000-04-29  wk33    36.0\n",
       "23363  2000  Nelly  (Hot S**t) Country G...  4:17   2000-04-29  wk74     NaN\n",
       "19242  2000  Nelly  (Hot S**t) Country G...  4:17   2000-04-29  wk61     NaN\n",
       "7196   2000  Nelly  (Hot S**t) Country G...  4:17   2000-04-29  wk23     8.0"
      ]
     },
     "execution_count": 75,
     "metadata": {},
     "output_type": "execute_result"
    }
   ],
   "source": [
    "billboard_melt.sort_values(by='track').head()"
   ]
  },
  {
   "cell_type": "code",
   "execution_count": 76,
   "id": "5cfe39e6-50d8-4d16-9f25-b847e7917d8a",
   "metadata": {},
   "outputs": [
    {
     "data": {
      "text/plain": [
       "Index(['year', 'artist', 'track', 'time', 'date.entered', 'week', 'rating'], dtype='object')"
      ]
     },
     "execution_count": 76,
     "metadata": {},
     "output_type": "execute_result"
    }
   ],
   "source": [
    "billboard_melt.columns"
   ]
  },
  {
   "cell_type": "code",
   "execution_count": 78,
   "id": "04201f13-e41c-481d-aa01-4cb35ee5326c",
   "metadata": {},
   "outputs": [],
   "source": [
    "billboard_songs = billboard_melt[['year', 'artist', 'track', 'time']]"
   ]
  },
  {
   "cell_type": "code",
   "execution_count": 79,
   "id": "978df807-dbd4-4acd-bd02-641f337ba950",
   "metadata": {},
   "outputs": [
    {
     "name": "stderr",
     "output_type": "stream",
     "text": [
      "C:\\Users\\admin\\AppData\\Local\\Temp\\ipykernel_11944\\2354257803.py:1: SettingWithCopyWarning: \n",
      "A value is trying to be set on a copy of a slice from a DataFrame\n",
      "\n",
      "See the caveats in the documentation: https://pandas.pydata.org/pandas-docs/stable/user_guide/indexing.html#returning-a-view-versus-a-copy\n",
      "  billboard_songs.drop_duplicates(inplace=True)\n"
     ]
    }
   ],
   "source": [
    "billboard_songs.drop_duplicates(inplace=True)"
   ]
  },
  {
   "cell_type": "code",
   "execution_count": 81,
   "id": "35fa4b29-c40b-4385-8768-6382769b4bcb",
   "metadata": {},
   "outputs": [
    {
     "data": {
      "text/plain": [
       "(317, 4)"
      ]
     },
     "execution_count": 81,
     "metadata": {},
     "output_type": "execute_result"
    }
   ],
   "source": [
    "billboard_songs.shape"
   ]
  },
  {
   "cell_type": "code",
   "execution_count": 84,
   "id": "e7d76bde-8589-4c1d-b3c1-7b0aaa7635a5",
   "metadata": {},
   "outputs": [
    {
     "name": "stderr",
     "output_type": "stream",
     "text": [
      "C:\\Users\\admin\\AppData\\Local\\Temp\\ipykernel_11944\\3785364861.py:1: SettingWithCopyWarning: \n",
      "A value is trying to be set on a copy of a slice from a DataFrame.\n",
      "Try using .loc[row_indexer,col_indexer] = value instead\n",
      "\n",
      "See the caveats in the documentation: https://pandas.pydata.org/pandas-docs/stable/user_guide/indexing.html#returning-a-view-versus-a-copy\n",
      "  billboard_songs['id'] = range(len(billboard_songs))\n"
     ]
    }
   ],
   "source": [
    "billboard_songs['id'] = range(len(billboard_songs))"
   ]
  },
  {
   "cell_type": "code",
   "execution_count": 85,
   "id": "42baacdd-40b9-4081-a6f1-c5efdaeb51bf",
   "metadata": {
    "collapsed": true,
    "jupyter": {
     "outputs_hidden": true
    },
    "tags": []
   },
   "outputs": [
    {
     "data": {
      "text/html": [
       "<div>\n",
       "<style scoped>\n",
       "    .dataframe tbody tr th:only-of-type {\n",
       "        vertical-align: middle;\n",
       "    }\n",
       "\n",
       "    .dataframe tbody tr th {\n",
       "        vertical-align: top;\n",
       "    }\n",
       "\n",
       "    .dataframe thead th {\n",
       "        text-align: right;\n",
       "    }\n",
       "</style>\n",
       "<table border=\"1\" class=\"dataframe\">\n",
       "  <thead>\n",
       "    <tr style=\"text-align: right;\">\n",
       "      <th></th>\n",
       "      <th>year</th>\n",
       "      <th>artist</th>\n",
       "      <th>track</th>\n",
       "      <th>time</th>\n",
       "      <th>id</th>\n",
       "    </tr>\n",
       "  </thead>\n",
       "  <tbody>\n",
       "    <tr>\n",
       "      <th>0</th>\n",
       "      <td>2000</td>\n",
       "      <td>2 Pac</td>\n",
       "      <td>Baby Don't Cry (Keep...</td>\n",
       "      <td>4:22</td>\n",
       "      <td>0</td>\n",
       "    </tr>\n",
       "    <tr>\n",
       "      <th>1</th>\n",
       "      <td>2000</td>\n",
       "      <td>2Ge+her</td>\n",
       "      <td>The Hardest Part Of ...</td>\n",
       "      <td>3:15</td>\n",
       "      <td>1</td>\n",
       "    </tr>\n",
       "    <tr>\n",
       "      <th>2</th>\n",
       "      <td>2000</td>\n",
       "      <td>3 Doors Down</td>\n",
       "      <td>Kryptonite</td>\n",
       "      <td>3:53</td>\n",
       "      <td>2</td>\n",
       "    </tr>\n",
       "    <tr>\n",
       "      <th>3</th>\n",
       "      <td>2000</td>\n",
       "      <td>3 Doors Down</td>\n",
       "      <td>Loser</td>\n",
       "      <td>4:24</td>\n",
       "      <td>3</td>\n",
       "    </tr>\n",
       "    <tr>\n",
       "      <th>4</th>\n",
       "      <td>2000</td>\n",
       "      <td>504 Boyz</td>\n",
       "      <td>Wobble Wobble</td>\n",
       "      <td>3:35</td>\n",
       "      <td>4</td>\n",
       "    </tr>\n",
       "    <tr>\n",
       "      <th>...</th>\n",
       "      <td>...</td>\n",
       "      <td>...</td>\n",
       "      <td>...</td>\n",
       "      <td>...</td>\n",
       "      <td>...</td>\n",
       "    </tr>\n",
       "    <tr>\n",
       "      <th>312</th>\n",
       "      <td>2000</td>\n",
       "      <td>Yankee Grey</td>\n",
       "      <td>Another Nine Minutes</td>\n",
       "      <td>3:10</td>\n",
       "      <td>312</td>\n",
       "    </tr>\n",
       "    <tr>\n",
       "      <th>313</th>\n",
       "      <td>2000</td>\n",
       "      <td>Yearwood, Trisha</td>\n",
       "      <td>Real Live Woman</td>\n",
       "      <td>3:55</td>\n",
       "      <td>313</td>\n",
       "    </tr>\n",
       "    <tr>\n",
       "      <th>314</th>\n",
       "      <td>2000</td>\n",
       "      <td>Ying Yang Twins</td>\n",
       "      <td>Whistle While You Tw...</td>\n",
       "      <td>4:19</td>\n",
       "      <td>314</td>\n",
       "    </tr>\n",
       "    <tr>\n",
       "      <th>315</th>\n",
       "      <td>2000</td>\n",
       "      <td>Zombie Nation</td>\n",
       "      <td>Kernkraft 400</td>\n",
       "      <td>3:30</td>\n",
       "      <td>315</td>\n",
       "    </tr>\n",
       "    <tr>\n",
       "      <th>316</th>\n",
       "      <td>2000</td>\n",
       "      <td>matchbox twenty</td>\n",
       "      <td>Bent</td>\n",
       "      <td>4:12</td>\n",
       "      <td>316</td>\n",
       "    </tr>\n",
       "  </tbody>\n",
       "</table>\n",
       "<p>317 rows × 5 columns</p>\n",
       "</div>"
      ],
      "text/plain": [
       "     year            artist                    track  time   id\n",
       "0    2000             2 Pac  Baby Don't Cry (Keep...  4:22    0\n",
       "1    2000           2Ge+her  The Hardest Part Of ...  3:15    1\n",
       "2    2000      3 Doors Down               Kryptonite  3:53    2\n",
       "3    2000      3 Doors Down                    Loser  4:24    3\n",
       "4    2000          504 Boyz            Wobble Wobble  3:35    4\n",
       "..    ...               ...                      ...   ...  ...\n",
       "312  2000       Yankee Grey     Another Nine Minutes  3:10  312\n",
       "313  2000  Yearwood, Trisha          Real Live Woman  3:55  313\n",
       "314  2000   Ying Yang Twins  Whistle While You Tw...  4:19  314\n",
       "315  2000     Zombie Nation            Kernkraft 400  3:30  315\n",
       "316  2000   matchbox twenty                     Bent  4:12  316\n",
       "\n",
       "[317 rows x 5 columns]"
      ]
     },
     "execution_count": 85,
     "metadata": {},
     "output_type": "execute_result"
    }
   ],
   "source": [
    "billboard_songs"
   ]
  },
  {
   "cell_type": "code",
   "execution_count": 94,
   "id": "8e8e51af-1b36-46ba-9083-51846f8a467e",
   "metadata": {
    "tags": []
   },
   "outputs": [],
   "source": [
    "billboard_ratings = billboard_melt.merge(billboard_songs,\n",
    "                            on=['year', 'artist', 'track', 'time'])"
   ]
  },
  {
   "cell_type": "code",
   "execution_count": 95,
   "id": "b8d04f7a-814a-416a-8c8d-d55e54b33913",
   "metadata": {},
   "outputs": [],
   "source": [
    "billboard_ratings.drop(columns=['year', 'artist', 'track', 'time'],\n",
    "                                        inplace=True)"
   ]
  },
  {
   "cell_type": "code",
   "execution_count": 96,
   "id": "071e0477-3cc3-4415-b39a-a3f5a6641f23",
   "metadata": {},
   "outputs": [
    {
     "data": {
      "text/html": [
       "<div>\n",
       "<style scoped>\n",
       "    .dataframe tbody tr th:only-of-type {\n",
       "        vertical-align: middle;\n",
       "    }\n",
       "\n",
       "    .dataframe tbody tr th {\n",
       "        vertical-align: top;\n",
       "    }\n",
       "\n",
       "    .dataframe thead th {\n",
       "        text-align: right;\n",
       "    }\n",
       "</style>\n",
       "<table border=\"1\" class=\"dataframe\">\n",
       "  <thead>\n",
       "    <tr style=\"text-align: right;\">\n",
       "      <th></th>\n",
       "      <th>year</th>\n",
       "      <th>artist</th>\n",
       "      <th>track</th>\n",
       "      <th>time</th>\n",
       "      <th>id</th>\n",
       "    </tr>\n",
       "  </thead>\n",
       "  <tbody>\n",
       "    <tr>\n",
       "      <th>0</th>\n",
       "      <td>2000</td>\n",
       "      <td>2 Pac</td>\n",
       "      <td>Baby Don't Cry (Keep...</td>\n",
       "      <td>4:22</td>\n",
       "      <td>0</td>\n",
       "    </tr>\n",
       "    <tr>\n",
       "      <th>1</th>\n",
       "      <td>2000</td>\n",
       "      <td>2Ge+her</td>\n",
       "      <td>The Hardest Part Of ...</td>\n",
       "      <td>3:15</td>\n",
       "      <td>1</td>\n",
       "    </tr>\n",
       "  </tbody>\n",
       "</table>\n",
       "</div>"
      ],
      "text/plain": [
       "   year   artist                    track  time  id\n",
       "0  2000    2 Pac  Baby Don't Cry (Keep...  4:22   0\n",
       "1  2000  2Ge+her  The Hardest Part Of ...  3:15   1"
      ]
     },
     "execution_count": 96,
     "metadata": {},
     "output_type": "execute_result"
    }
   ],
   "source": [
    "billboard_songs.head(2)"
   ]
  },
  {
   "cell_type": "code",
   "execution_count": 97,
   "id": "d58ffdda-c000-4a6e-8194-d35ccbd75e6a",
   "metadata": {
    "collapsed": true,
    "jupyter": {
     "outputs_hidden": true
    },
    "tags": []
   },
   "outputs": [
    {
     "data": {
      "text/html": [
       "<div>\n",
       "<style scoped>\n",
       "    .dataframe tbody tr th:only-of-type {\n",
       "        vertical-align: middle;\n",
       "    }\n",
       "\n",
       "    .dataframe tbody tr th {\n",
       "        vertical-align: top;\n",
       "    }\n",
       "\n",
       "    .dataframe thead th {\n",
       "        text-align: right;\n",
       "    }\n",
       "</style>\n",
       "<table border=\"1\" class=\"dataframe\">\n",
       "  <thead>\n",
       "    <tr style=\"text-align: right;\">\n",
       "      <th></th>\n",
       "      <th>date.entered</th>\n",
       "      <th>week</th>\n",
       "      <th>rating</th>\n",
       "      <th>id</th>\n",
       "    </tr>\n",
       "  </thead>\n",
       "  <tbody>\n",
       "    <tr>\n",
       "      <th>0</th>\n",
       "      <td>2000-02-26</td>\n",
       "      <td>wk1</td>\n",
       "      <td>87.0</td>\n",
       "      <td>0</td>\n",
       "    </tr>\n",
       "    <tr>\n",
       "      <th>1</th>\n",
       "      <td>2000-02-26</td>\n",
       "      <td>wk2</td>\n",
       "      <td>82.0</td>\n",
       "      <td>0</td>\n",
       "    </tr>\n",
       "  </tbody>\n",
       "</table>\n",
       "</div>"
      ],
      "text/plain": [
       "  date.entered week  rating  id\n",
       "0   2000-02-26  wk1    87.0   0\n",
       "1   2000-02-26  wk2    82.0   0"
      ]
     },
     "execution_count": 97,
     "metadata": {},
     "output_type": "execute_result"
    }
   ],
   "source": [
    "billboard_ratings.head(2)"
   ]
  },
  {
   "cell_type": "code",
   "execution_count": null,
   "id": "dd8ae414-29a6-4674-93f7-705e7b36de0c",
   "metadata": {},
   "outputs": [],
   "source": []
  }
 ],
 "metadata": {
  "kernelspec": {
   "display_name": "Python 3 (ipykernel)",
   "language": "python",
   "name": "python3"
  },
  "language_info": {
   "codemirror_mode": {
    "name": "ipython",
    "version": 3
   },
   "file_extension": ".py",
   "mimetype": "text/x-python",
   "name": "python",
   "nbconvert_exporter": "python",
   "pygments_lexer": "ipython3",
   "version": "3.9.13"
  }
 },
 "nbformat": 4,
 "nbformat_minor": 5
}
