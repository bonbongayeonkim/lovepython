{
 "cells": [
  {
   "cell_type": "code",
   "execution_count": 36,
   "id": "ed4354ef-464e-4c45-9267-64133bcb21a4",
   "metadata": {},
   "outputs": [],
   "source": [
    "REST_API_KEY = 'key'"
   ]
  },
  {
   "cell_type": "raw",
   "id": "834e2054-574e-406b-a28e-28f611dfb5c0",
   "metadata": {},
   "source": [
    "curl -v -X GET \"https://dapi.kakao.com/v2/local/search/address.json\" \\\n",
    "  -H \"Authorization: KakaoAK ${REST_API_KEY}\" \\\n",
    "  --data-urlencode \"query=전북 삼성동 100\" "
   ]
  },
  {
   "cell_type": "code",
   "execution_count": 37,
   "id": "b36152dc-d6a2-48b9-abf7-c4ddcbe4a1a7",
   "metadata": {},
   "outputs": [],
   "source": [
    "import requests"
   ]
  },
  {
   "cell_type": "code",
   "execution_count": 56,
   "id": "e921c341-6fd3-4a77-8a51-320bd5002283",
   "metadata": {},
   "outputs": [],
   "source": [
    "url = \"https://dapi.kakao.com/v2/local/search/address.json?query={}\".format('제주특별자치도 제주시 고마로 28')\n",
    "headers = {'Authorization':f'KakaoAK {REST_API_KEY}'}\n",
    "res = requests.get(url,headers=headers)\n",
    "jsondata = res.json()"
   ]
  },
  {
   "cell_type": "code",
   "execution_count": 57,
   "id": "5957a913-af6c-4345-a98b-21c8eed90c95",
   "metadata": {},
   "outputs": [
    {
     "ename": "IndexError",
     "evalue": "list index out of range",
     "output_type": "error",
     "traceback": [
      "\u001b[1;31m---------------------------------------------------------------------------\u001b[0m",
      "\u001b[1;31mIndexError\u001b[0m                                Traceback (most recent call last)",
      "\u001b[1;32m~\\AppData\\Local\\Temp\\ipykernel_13100\\2277022240.py\u001b[0m in \u001b[0;36m<module>\u001b[1;34m\u001b[0m\n\u001b[1;32m----> 1\u001b[1;33m \u001b[0mjsondata\u001b[0m\u001b[1;33m[\u001b[0m\u001b[1;34m'documents'\u001b[0m\u001b[1;33m]\u001b[0m\u001b[1;33m[\u001b[0m\u001b[1;36m0\u001b[0m\u001b[1;33m]\u001b[0m\u001b[1;33m[\u001b[0m\u001b[1;34m'address'\u001b[0m\u001b[1;33m]\u001b[0m\u001b[1;33m[\u001b[0m\u001b[1;34m'y'\u001b[0m\u001b[1;33m]\u001b[0m\u001b[1;33m,\u001b[0m\u001b[0mjsondata\u001b[0m\u001b[1;33m[\u001b[0m\u001b[1;34m'documents'\u001b[0m\u001b[1;33m]\u001b[0m\u001b[1;33m[\u001b[0m\u001b[1;36m0\u001b[0m\u001b[1;33m]\u001b[0m\u001b[1;33m[\u001b[0m\u001b[1;34m'address'\u001b[0m\u001b[1;33m]\u001b[0m\u001b[1;33m[\u001b[0m\u001b[1;34m'x'\u001b[0m\u001b[1;33m]\u001b[0m\u001b[1;33m\u001b[0m\u001b[1;33m\u001b[0m\u001b[0m\n\u001b[0m",
      "\u001b[1;31mIndexError\u001b[0m: list index out of range"
     ]
    }
   ],
   "source": [
    "jsondata['documents'][0]['address']['y'],jsondata['documents'][0]['address']['x']"
   ]
  },
  {
   "cell_type": "code",
   "execution_count": 58,
   "id": "a8ab169e-3086-4b6e-bf0e-f6832f68c89a",
   "metadata": {},
   "outputs": [
    {
     "data": {
      "text/plain": [
       "{'documents': [],\n",
       " 'meta': {'is_end': True, 'pageable_count': 0, 'total_count': 0}}"
      ]
     },
     "execution_count": 58,
     "metadata": {},
     "output_type": "execute_result"
    }
   ],
   "source": [
    "jsondata"
   ]
  },
  {
   "cell_type": "raw",
   "id": "f4a78e95-9aa5-45fd-84ac-d31528f0737a",
   "metadata": {},
   "source": [
    "curl -v -X GET \"https://dapi.kakao.com/v2/local/search/keyword.json?y=37.514322572335935&x=127.06283102249932&radius=20000\" \\\n",
    "  -H \"Authorization: KakaoAK ${REST_API_KEY}\" \\\n",
    "  --data-urlencode \"query=카카오프렌즈\" "
   ]
  },
  {
   "cell_type": "code",
   "execution_count": 51,
   "id": "6c791a47-03f5-4922-b69e-e75d43466977",
   "metadata": {},
   "outputs": [],
   "source": [
    "query='카카오프렌즈'\n",
    "y=37.514322572335935\n",
    "x=127.06283102249932\n",
    "radius=2000\n",
    "url = f\"https://dapi.kakao.com/v2/local/search/keyword.json?y={y}&x={x}&radius={radius}&query={query}\"\n",
    "headers = {'Authorization':f'KakaoAK {REST_API_KEY}'}\n",
    "res = requests.get(url,headers=headers)\n",
    "jsondata = res.json()"
   ]
  },
  {
   "cell_type": "code",
   "execution_count": 67,
   "id": "9d50bc91-d4df-4243-8cb2-a9ec046b7926",
   "metadata": {},
   "outputs": [],
   "source": [
    "query='제주특별자치도 제주시 중앙로25길 17'\n",
    "url = f\"https://dapi.kakao.com/v2/local/search/keyword.json?category_group_code=PO3&query={query}\"\n",
    "headers = {'Authorization':f'KakaoAK {REST_API_KEY}'}\n",
    "res = requests.get(url,headers=headers)\n",
    "jsondata = res.json()"
   ]
  },
  {
   "cell_type": "code",
   "execution_count": 68,
   "id": "fd7ee5f6-efd3-4370-9413-bbfbd014cffb",
   "metadata": {
    "collapsed": true,
    "jupyter": {
     "outputs_hidden": true
    },
    "tags": []
   },
   "outputs": [
    {
     "data": {
      "text/plain": [
       "{'documents': [{'address_name': '제주특별자치도 제주시 이도1동 1695-10',\n",
       "   'category_group_code': 'PO3',\n",
       "   'category_group_name': '공공기관',\n",
       "   'category_name': '사회,공공기관 > 지방행정기관 > 행정복지센터 > 주민센터',\n",
       "   'distance': '',\n",
       "   'id': '8544450',\n",
       "   'phone': '064-728-1530',\n",
       "   'place_name': '이도1동 주민자치센터',\n",
       "   'place_url': 'http://place.map.kakao.com/8544450',\n",
       "   'road_address_name': '제주특별자치도 제주시 중앙로25길 17',\n",
       "   'x': '126.526976882749',\n",
       "   'y': '33.5069402044009'}],\n",
       " 'meta': {'is_end': True,\n",
       "  'pageable_count': 1,\n",
       "  'same_name': {'keyword': '',\n",
       "   'region': [],\n",
       "   'selected_region': '제주 제주시 중앙로25길'},\n",
       "  'total_count': 1}}"
      ]
     },
     "execution_count": 68,
     "metadata": {},
     "output_type": "execute_result"
    }
   ],
   "source": [
    "jsondata"
   ]
  },
  {
   "cell_type": "code",
   "execution_count": 69,
   "id": "1dbd8177-e832-4907-a609-278b0514d9f4",
   "metadata": {},
   "outputs": [
    {
     "name": "stdout",
     "output_type": "stream",
     "text": [
      "Requirement already satisfied: geopy in c:\\users\\admin\\anaconda3\\lib\\site-packages (2.3.0)\n",
      "Requirement already satisfied: geographiclib<3,>=1.52 in c:\\users\\admin\\anaconda3\\lib\\site-packages (from geopy) (2.0)\n"
     ]
    }
   ],
   "source": [
    "!pip install geopy"
   ]
  },
  {
   "cell_type": "code",
   "execution_count": 44,
   "id": "3a4406ae-c121-4f01-8635-a9088c04de3b",
   "metadata": {},
   "outputs": [],
   "source": [
    "from geopy.geocoders import Nominatim"
   ]
  },
  {
   "cell_type": "code",
   "execution_count": 45,
   "id": "2358b0ed-2bab-40c1-837f-9d59ee3c5a0a",
   "metadata": {},
   "outputs": [],
   "source": [
    "geolocator = Nominatim(user_agent='chiricuto')"
   ]
  },
  {
   "cell_type": "code",
   "execution_count": 64,
   "id": "eb9a1796-72e0-4bd7-8d4f-0deac8b04f93",
   "metadata": {},
   "outputs": [],
   "source": [
    "result = geolocator.geocode('제주특별자치도 제주시 중앙로25길 17')"
   ]
  },
  {
   "cell_type": "code",
   "execution_count": 65,
   "id": "100b3f0e-a765-4347-b9ad-f4375e7f7b7b",
   "metadata": {},
   "outputs": [
    {
     "data": {
      "text/plain": [
       "33.506908"
      ]
     },
     "execution_count": 65,
     "metadata": {},
     "output_type": "execute_result"
    }
   ],
   "source": [
    "result.latitude"
   ]
  },
  {
   "cell_type": "code",
   "execution_count": 66,
   "id": "f0992efc-6df1-4d8b-a84f-4bdaaa425052",
   "metadata": {},
   "outputs": [
    {
     "data": {
      "text/plain": [
       "126.5269967"
      ]
     },
     "execution_count": 66,
     "metadata": {},
     "output_type": "execute_result"
    }
   ],
   "source": [
    "result.longitude"
   ]
  },
  {
   "cell_type": "code",
   "execution_count": null,
   "id": "114fa7f8-7578-4ece-9228-e7af8bacb3dd",
   "metadata": {},
   "outputs": [],
   "source": []
  }
 ],
 "metadata": {
  "kernelspec": {
   "display_name": "Python 3 (ipykernel)",
   "language": "python",
   "name": "python3"
  },
  "language_info": {
   "codemirror_mode": {
    "name": "ipython",
    "version": 3
   },
   "file_extension": ".py",
   "mimetype": "text/x-python",
   "name": "python",
   "nbconvert_exporter": "python",
   "pygments_lexer": "ipython3",
   "version": "3.9.13"
  }
 },
 "nbformat": 4,
 "nbformat_minor": 5
}
