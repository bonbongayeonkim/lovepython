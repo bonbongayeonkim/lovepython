{
 "cells": [
  {
   "cell_type": "code",
   "execution_count": 1,
   "id": "6f378680-8086-42a4-b80e-959190aeb8dc",
   "metadata": {},
   "outputs": [],
   "source": [
    "import numpy as np\n",
    "import pandas as pd"
   ]
  },
  {
   "cell_type": "code",
   "execution_count": 3,
   "id": "18377fef-75d8-454d-a5f6-3ab897590478",
   "metadata": {},
   "outputs": [],
   "source": [
    "df = pd.read_csv('data/ch2_scores_em.csv',\n",
    "             index_col='student number')"
   ]
  },
  {
   "cell_type": "code",
   "execution_count": 10,
   "id": "18e42e4a-a498-4903-8a6e-193d5304b9fd",
   "metadata": {},
   "outputs": [],
   "source": [
    "en_scores = df['english'].values[:10]\n",
    "ma_scores = df['mathematics'].values[:10]"
   ]
  },
  {
   "cell_type": "code",
   "execution_count": 11,
   "id": "7425f9ca-65ee-4a8b-b35a-148af20234d3",
   "metadata": {
    "collapsed": true,
    "jupyter": {
     "outputs_hidden": true
    },
    "tags": []
   },
   "outputs": [
    {
     "data": {
      "text/html": [
       "<div>\n",
       "<style scoped>\n",
       "    .dataframe tbody tr th:only-of-type {\n",
       "        vertical-align: middle;\n",
       "    }\n",
       "\n",
       "    .dataframe tbody tr th {\n",
       "        vertical-align: top;\n",
       "    }\n",
       "\n",
       "    .dataframe thead th {\n",
       "        text-align: right;\n",
       "    }\n",
       "</style>\n",
       "<table border=\"1\" class=\"dataframe\">\n",
       "  <thead>\n",
       "    <tr style=\"text-align: right;\">\n",
       "      <th></th>\n",
       "      <th>english</th>\n",
       "      <th>mathematics</th>\n",
       "    </tr>\n",
       "    <tr>\n",
       "      <th>student</th>\n",
       "      <th></th>\n",
       "      <th></th>\n",
       "    </tr>\n",
       "  </thead>\n",
       "  <tbody>\n",
       "    <tr>\n",
       "      <th>A</th>\n",
       "      <td>42</td>\n",
       "      <td>65</td>\n",
       "    </tr>\n",
       "    <tr>\n",
       "      <th>B</th>\n",
       "      <td>69</td>\n",
       "      <td>80</td>\n",
       "    </tr>\n",
       "    <tr>\n",
       "      <th>C</th>\n",
       "      <td>56</td>\n",
       "      <td>63</td>\n",
       "    </tr>\n",
       "    <tr>\n",
       "      <th>D</th>\n",
       "      <td>41</td>\n",
       "      <td>63</td>\n",
       "    </tr>\n",
       "    <tr>\n",
       "      <th>E</th>\n",
       "      <td>57</td>\n",
       "      <td>76</td>\n",
       "    </tr>\n",
       "    <tr>\n",
       "      <th>F</th>\n",
       "      <td>48</td>\n",
       "      <td>60</td>\n",
       "    </tr>\n",
       "    <tr>\n",
       "      <th>G</th>\n",
       "      <td>65</td>\n",
       "      <td>81</td>\n",
       "    </tr>\n",
       "    <tr>\n",
       "      <th>H</th>\n",
       "      <td>49</td>\n",
       "      <td>66</td>\n",
       "    </tr>\n",
       "    <tr>\n",
       "      <th>I</th>\n",
       "      <td>65</td>\n",
       "      <td>78</td>\n",
       "    </tr>\n",
       "    <tr>\n",
       "      <th>J</th>\n",
       "      <td>58</td>\n",
       "      <td>82</td>\n",
       "    </tr>\n",
       "  </tbody>\n",
       "</table>\n",
       "</div>"
      ],
      "text/plain": [
       "         english  mathematics\n",
       "student                      \n",
       "A             42           65\n",
       "B             69           80\n",
       "C             56           63\n",
       "D             41           63\n",
       "E             57           76\n",
       "F             48           60\n",
       "G             65           81\n",
       "H             49           66\n",
       "I             65           78\n",
       "J             58           82"
      ]
     },
     "execution_count": 11,
     "metadata": {},
     "output_type": "execute_result"
    }
   ],
   "source": [
    "scores_df = pd.DataFrame({'english':en_scores,\n",
    "                          'mathematics':ma_scores},\n",
    "                           index=pd.Index(['A','B','C','D','E','F','G','H','I','J'],\n",
    "                                           name='student'))\n",
    "scores_df"
   ]
  },
  {
   "cell_type": "code",
   "execution_count": 12,
   "id": "45bc1502-c9c4-42b3-8d42-16a9d055dd64",
   "metadata": {},
   "outputs": [],
   "source": [
    "summary_df = scores_df.copy()\n",
    "summary_df['english_deviation'] = summary_df['english'] - summary_df['english'].mean()\n",
    "summary_df['mathematics_deviation'] = summary_df['mathematics'] - summary_df['mathematics'].mean()\n",
    "summary_df['product of deviations'] = summary_df['english_deviation']*summary_df['mathematics_deviation']"
   ]
  },
  {
   "cell_type": "code",
   "execution_count": 13,
   "id": "adf28547-dca0-4940-b494-4bb81b5e925c",
   "metadata": {
    "collapsed": true,
    "jupyter": {
     "outputs_hidden": true
    },
    "tags": []
   },
   "outputs": [
    {
     "data": {
      "text/html": [
       "<div>\n",
       "<style scoped>\n",
       "    .dataframe tbody tr th:only-of-type {\n",
       "        vertical-align: middle;\n",
       "    }\n",
       "\n",
       "    .dataframe tbody tr th {\n",
       "        vertical-align: top;\n",
       "    }\n",
       "\n",
       "    .dataframe thead th {\n",
       "        text-align: right;\n",
       "    }\n",
       "</style>\n",
       "<table border=\"1\" class=\"dataframe\">\n",
       "  <thead>\n",
       "    <tr style=\"text-align: right;\">\n",
       "      <th></th>\n",
       "      <th>english</th>\n",
       "      <th>mathematics</th>\n",
       "      <th>english_deviation</th>\n",
       "      <th>mathematics_deviation</th>\n",
       "      <th>product of deviations</th>\n",
       "    </tr>\n",
       "    <tr>\n",
       "      <th>student</th>\n",
       "      <th></th>\n",
       "      <th></th>\n",
       "      <th></th>\n",
       "      <th></th>\n",
       "      <th></th>\n",
       "    </tr>\n",
       "  </thead>\n",
       "  <tbody>\n",
       "    <tr>\n",
       "      <th>A</th>\n",
       "      <td>42</td>\n",
       "      <td>65</td>\n",
       "      <td>-13.0</td>\n",
       "      <td>-6.4</td>\n",
       "      <td>83.2</td>\n",
       "    </tr>\n",
       "    <tr>\n",
       "      <th>B</th>\n",
       "      <td>69</td>\n",
       "      <td>80</td>\n",
       "      <td>14.0</td>\n",
       "      <td>8.6</td>\n",
       "      <td>120.4</td>\n",
       "    </tr>\n",
       "    <tr>\n",
       "      <th>C</th>\n",
       "      <td>56</td>\n",
       "      <td>63</td>\n",
       "      <td>1.0</td>\n",
       "      <td>-8.4</td>\n",
       "      <td>-8.4</td>\n",
       "    </tr>\n",
       "    <tr>\n",
       "      <th>D</th>\n",
       "      <td>41</td>\n",
       "      <td>63</td>\n",
       "      <td>-14.0</td>\n",
       "      <td>-8.4</td>\n",
       "      <td>117.6</td>\n",
       "    </tr>\n",
       "    <tr>\n",
       "      <th>E</th>\n",
       "      <td>57</td>\n",
       "      <td>76</td>\n",
       "      <td>2.0</td>\n",
       "      <td>4.6</td>\n",
       "      <td>9.2</td>\n",
       "    </tr>\n",
       "    <tr>\n",
       "      <th>F</th>\n",
       "      <td>48</td>\n",
       "      <td>60</td>\n",
       "      <td>-7.0</td>\n",
       "      <td>-11.4</td>\n",
       "      <td>79.8</td>\n",
       "    </tr>\n",
       "    <tr>\n",
       "      <th>G</th>\n",
       "      <td>65</td>\n",
       "      <td>81</td>\n",
       "      <td>10.0</td>\n",
       "      <td>9.6</td>\n",
       "      <td>96.0</td>\n",
       "    </tr>\n",
       "    <tr>\n",
       "      <th>H</th>\n",
       "      <td>49</td>\n",
       "      <td>66</td>\n",
       "      <td>-6.0</td>\n",
       "      <td>-5.4</td>\n",
       "      <td>32.4</td>\n",
       "    </tr>\n",
       "    <tr>\n",
       "      <th>I</th>\n",
       "      <td>65</td>\n",
       "      <td>78</td>\n",
       "      <td>10.0</td>\n",
       "      <td>6.6</td>\n",
       "      <td>66.0</td>\n",
       "    </tr>\n",
       "    <tr>\n",
       "      <th>J</th>\n",
       "      <td>58</td>\n",
       "      <td>82</td>\n",
       "      <td>3.0</td>\n",
       "      <td>10.6</td>\n",
       "      <td>31.8</td>\n",
       "    </tr>\n",
       "  </tbody>\n",
       "</table>\n",
       "</div>"
      ],
      "text/plain": [
       "         english  mathematics  english_deviation  mathematics_deviation  \\\n",
       "student                                                                   \n",
       "A             42           65              -13.0                   -6.4   \n",
       "B             69           80               14.0                    8.6   \n",
       "C             56           63                1.0                   -8.4   \n",
       "D             41           63              -14.0                   -8.4   \n",
       "E             57           76                2.0                    4.6   \n",
       "F             48           60               -7.0                  -11.4   \n",
       "G             65           81               10.0                    9.6   \n",
       "H             49           66               -6.0                   -5.4   \n",
       "I             65           78               10.0                    6.6   \n",
       "J             58           82                3.0                   10.6   \n",
       "\n",
       "         product of deviations  \n",
       "student                         \n",
       "A                         83.2  \n",
       "B                        120.4  \n",
       "C                         -8.4  \n",
       "D                        117.6  \n",
       "E                          9.2  \n",
       "F                         79.8  \n",
       "G                         96.0  \n",
       "H                         32.4  \n",
       "I                         66.0  \n",
       "J                         31.8  "
      ]
     },
     "execution_count": 13,
     "metadata": {},
     "output_type": "execute_result"
    }
   ],
   "source": [
    "summary_df"
   ]
  },
  {
   "cell_type": "code",
   "execution_count": 14,
   "id": "2eceeccb-d8b1-44cc-8d6c-84b6f4c273a9",
   "metadata": {},
   "outputs": [
    {
     "data": {
      "text/plain": [
       "62.8"
      ]
     },
     "execution_count": 14,
     "metadata": {},
     "output_type": "execute_result"
    }
   ],
   "source": [
    "summary_df['product of deviations'].mean()"
   ]
  },
  {
   "cell_type": "code",
   "execution_count": 16,
   "id": "99b3e4b6-e10f-4547-97b5-76b88fbbf2a5",
   "metadata": {},
   "outputs": [],
   "source": [
    "cov_mat = np.cov(en_scores,ma_scores,ddof=0)"
   ]
  },
  {
   "cell_type": "code",
   "execution_count": 18,
   "id": "d125a3df-a745-4fd4-90c2-6cc40cb920bf",
   "metadata": {},
   "outputs": [
    {
     "data": {
      "text/plain": [
       "62.800000000000004"
      ]
     },
     "execution_count": 18,
     "metadata": {},
     "output_type": "execute_result"
    }
   ],
   "source": [
    "cov_mat[0,1]"
   ]
  },
  {
   "cell_type": "code",
   "execution_count": 19,
   "id": "2bbf2098-416b-4de2-9ecc-8f835f5f8317",
   "metadata": {},
   "outputs": [
    {
     "data": {
      "text/plain": [
       "86.0"
      ]
     },
     "execution_count": 19,
     "metadata": {},
     "output_type": "execute_result"
    }
   ],
   "source": [
    "#영어의 분산\n",
    "cov_mat[0,0]"
   ]
  },
  {
   "cell_type": "code",
   "execution_count": 20,
   "id": "0d90e64c-6bf8-4f92-bc95-18f734f95ce6",
   "metadata": {},
   "outputs": [
    {
     "data": {
      "text/plain": [
       "86.0"
      ]
     },
     "execution_count": 20,
     "metadata": {},
     "output_type": "execute_result"
    }
   ],
   "source": [
    "np.var(en_scores)"
   ]
  },
  {
   "cell_type": "code",
   "execution_count": 21,
   "id": "da5beecf-fd26-4c31-95ef-621838d3837b",
   "metadata": {},
   "outputs": [
    {
     "data": {
      "text/plain": [
       "68.44000000000001"
      ]
     },
     "execution_count": 21,
     "metadata": {},
     "output_type": "execute_result"
    }
   ],
   "source": [
    "#수학의 분산\n",
    "cov_mat[1,1]"
   ]
  },
  {
   "cell_type": "code",
   "execution_count": 22,
   "id": "963915fc-3c12-4caa-a65e-ef8bd7fb04c0",
   "metadata": {},
   "outputs": [
    {
     "data": {
      "text/plain": [
       "68.44000000000001"
      ]
     },
     "execution_count": 22,
     "metadata": {},
     "output_type": "execute_result"
    }
   ],
   "source": [
    "np.var(ma_scores)"
   ]
  },
  {
   "cell_type": "code",
   "execution_count": 24,
   "id": "c5168c58-2eb9-4098-ad5b-943269468705",
   "metadata": {},
   "outputs": [
    {
     "data": {
      "text/plain": [
       "0.8185692341186713"
      ]
     },
     "execution_count": 24,
     "metadata": {},
     "output_type": "execute_result"
    }
   ],
   "source": [
    "np.cov(en_scores,ma_scores,ddof=0)[0,1] / (np.std(en_scores)*np.std(ma_scores))"
   ]
  },
  {
   "cell_type": "code",
   "execution_count": 25,
   "id": "ec4513d4-d284-42ea-bb1c-01c9f9527290",
   "metadata": {},
   "outputs": [
    {
     "data": {
      "text/plain": [
       "array([[1.        , 0.81856923],\n",
       "       [0.81856923, 1.        ]])"
      ]
     },
     "execution_count": 25,
     "metadata": {},
     "output_type": "execute_result"
    }
   ],
   "source": [
    "np.corrcoef(en_scores,ma_scores)"
   ]
  },
  {
   "cell_type": "code",
   "execution_count": 26,
   "id": "d86f2b64-c6c1-4cf5-8cb1-711c2247a343",
   "metadata": {},
   "outputs": [
    {
     "data": {
      "text/html": [
       "<div>\n",
       "<style scoped>\n",
       "    .dataframe tbody tr th:only-of-type {\n",
       "        vertical-align: middle;\n",
       "    }\n",
       "\n",
       "    .dataframe tbody tr th {\n",
       "        vertical-align: top;\n",
       "    }\n",
       "\n",
       "    .dataframe thead th {\n",
       "        text-align: right;\n",
       "    }\n",
       "</style>\n",
       "<table border=\"1\" class=\"dataframe\">\n",
       "  <thead>\n",
       "    <tr style=\"text-align: right;\">\n",
       "      <th></th>\n",
       "      <th>english</th>\n",
       "      <th>mathematics</th>\n",
       "    </tr>\n",
       "  </thead>\n",
       "  <tbody>\n",
       "    <tr>\n",
       "      <th>english</th>\n",
       "      <td>1.000000</td>\n",
       "      <td>0.818569</td>\n",
       "    </tr>\n",
       "    <tr>\n",
       "      <th>mathematics</th>\n",
       "      <td>0.818569</td>\n",
       "      <td>1.000000</td>\n",
       "    </tr>\n",
       "  </tbody>\n",
       "</table>\n",
       "</div>"
      ],
      "text/plain": [
       "              english  mathematics\n",
       "english      1.000000     0.818569\n",
       "mathematics  0.818569     1.000000"
      ]
     },
     "execution_count": 26,
     "metadata": {},
     "output_type": "execute_result"
    }
   ],
   "source": [
    "scores_df.corr()"
   ]
  },
  {
   "cell_type": "code",
   "execution_count": 27,
   "id": "2592f002-9239-461f-929c-dfb647b209a9",
   "metadata": {},
   "outputs": [],
   "source": [
    "import matplotlib.pyplot as plt"
   ]
  },
  {
   "cell_type": "code",
   "execution_count": 28,
   "id": "9d029b20-70a7-4721-a692-63b99d81ad45",
   "metadata": {},
   "outputs": [
    {
     "data": {
      "image/png": "[encoded data removed]",
      "text/plain": [
       "<Figure size 800x800 with 1 Axes>"
      ]
     },
     "metadata": {},
     "output_type": "display_data"
    }
   ],
   "source": [
    "fig = plt.figure(figsize=(8,8))\n",
    "ax = fig.add_subplot(111)\n",
    "ax.scatter(df['english'],df['mathematics'])\n",
    "ax.set_xlabel('영어')\n",
    "ax.set_ylabel('수학')\n",
    "plt.show()"
   ]
  },
  {
   "cell_type": "code",
   "execution_count": 46,
   "id": "5c2f7669-992a-42a8-a485-d485b5db2b2d",
   "metadata": {},
   "outputs": [
    {
     "data": {
      "text/plain": [
       "array([ 0.62142302, 42.60132433])"
      ]
     },
     "execution_count": 46,
     "metadata": {},
     "output_type": "execute_result"
    }
   ],
   "source": [
    "poly_fit = np.polyfit(df['english'],df['mathematics'],1)\n",
    "poly_fit"
   ]
  },
  {
   "cell_type": "code",
   "execution_count": 47,
   "id": "3bca10a9-af96-44a7-aeeb-a901ad449c7c",
   "metadata": {},
   "outputs": [],
   "source": [
    "poly_1d = np.poly1d(poly_fit)"
   ]
  },
  {
   "cell_type": "code",
   "execution_count": 48,
   "id": "1952b4ad-9328-4381-8d81-ace8d0bf4e20",
   "metadata": {},
   "outputs": [
    {
     "data": {
      "text/plain": [
       "poly1d([ 0.73023256, 31.2372093 ])"
      ]
     },
     "execution_count": 48,
     "metadata": {},
     "output_type": "execute_result"
    }
   ],
   "source": [
    "ploy_1d"
   ]
  },
  {
   "cell_type": "code",
   "execution_count": 56,
   "id": "b8e448df-9b12-414b-9336-f71dbdb48302",
   "metadata": {},
   "outputs": [],
   "source": [
    "xs = np.linspace(en_scores.min(),ma_scores.max())"
   ]
  },
  {
   "cell_type": "code",
   "execution_count": 57,
   "id": "72a0643d-93e8-46c8-93fd-238ed31b78df",
   "metadata": {
    "tags": []
   },
   "outputs": [
    {
     "data": {
      "text/plain": [
       "array([41.        , 41.83673469, 42.67346939, 43.51020408, 44.34693878,\n",
       "       45.18367347, 46.02040816, 46.85714286, 47.69387755, 48.53061224,\n",
       "       49.36734694, 50.20408163, 51.04081633, 51.87755102, 52.71428571,\n",
       "       53.55102041, 54.3877551 , 55.2244898 , 56.06122449, 56.89795918,\n",
       "       57.73469388, 58.57142857, 59.40816327, 60.24489796, 61.08163265,\n",
       "       61.91836735, 62.75510204, 63.59183673, 64.42857143, 65.26530612,\n",
       "       66.10204082, 66.93877551, 67.7755102 , 68.6122449 , 69.44897959,\n",
       "       70.28571429, 71.12244898, 71.95918367, 72.79591837, 73.63265306,\n",
       "       74.46938776, 75.30612245, 76.14285714, 76.97959184, 77.81632653,\n",
       "       78.65306122, 79.48979592, 80.32653061, 81.16326531, 82.        ])"
      ]
     },
     "execution_count": 57,
     "metadata": {},
     "output_type": "execute_result"
    }
   ],
   "source": [
    "xs"
   ]
  },
  {
   "cell_type": "code",
   "execution_count": 58,
   "id": "d56b19d8-5ccb-4ebc-b5e7-d16031ed8e89",
   "metadata": {},
   "outputs": [],
   "source": [
    "ys = poly_1d(xs)"
   ]
  },
  {
   "cell_type": "code",
   "execution_count": 59,
   "id": "982fe659-3f3b-45fe-b3e5-64df4936d1f0",
   "metadata": {
    "tags": []
   },
   "outputs": [
    {
     "data": {
      "text/plain": [
       "array([68.07966798, 68.59963418, 69.11960038, 69.63956657, 70.15953277,\n",
       "       70.67949897, 71.19946516, 71.71943136, 72.23939756, 72.75936376,\n",
       "       73.27932995, 73.79929615, 74.31926235, 74.83922854, 75.35919474,\n",
       "       75.87916094, 76.39912714, 76.91909333, 77.43905953, 77.95902573,\n",
       "       78.47899192, 78.99895812, 79.51892432, 80.03889051, 80.55885671,\n",
       "       81.07882291, 81.59878911, 82.1187553 , 82.6387215 , 83.1586877 ,\n",
       "       83.67865389, 84.19862009, 84.71858629, 85.23855248, 85.75851868,\n",
       "       86.27848488, 86.79845108, 87.31841727, 87.83838347, 88.35834967,\n",
       "       88.87831586, 89.39828206, 89.91824826, 90.43821445, 90.95818065,\n",
       "       91.47814685, 91.99811305, 92.51807924, 93.03804544, 93.55801164])"
      ]
     },
     "execution_count": 59,
     "metadata": {},
     "output_type": "execute_result"
    }
   ],
   "source": [
    "ys"
   ]
  },
  {
   "cell_type": "code",
   "execution_count": 60,
   "id": "01be9712-c2b1-4557-845a-9c1fa46dca2a",
   "metadata": {},
   "outputs": [
    {
     "data": {
      "text/plain": [
       "61.17674426"
      ]
     },
     "execution_count": 60,
     "metadata": {},
     "output_type": "execute_result"
    }
   ],
   "source": [
    "41*0.73023256+31.2372093 #61.17674419"
   ]
  },
  {
   "cell_type": "code",
   "execution_count": 61,
   "id": "4d99aac3-1add-4142-bdea-c27a62a5b070",
   "metadata": {},
   "outputs": [
    {
     "data": {
      "image/png": "[encoded data removed]",
      "text/plain": [
       "<Figure size 800x800 with 1 Axes>"
      ]
     },
     "metadata": {},
     "output_type": "display_data"
    }
   ],
   "source": [
    "fig = plt.figure(figsize=(8,8))\n",
    "ax = fig.add_subplot(111)\n",
    "ax.scatter(df['english'],df['mathematics'])\n",
    "ax.plot(xs,ys,color='gray',\n",
    "        label=f'{poly_fit[1]:.2f} + {poly_fit[0]:.2f} x')\n",
    "ax.set_xlabel('영어')\n",
    "ax.set_ylabel('수학')\n",
    "ax.legend(loc='upper left')\n",
    "plt.show()"
   ]
  },
  {
   "cell_type": "code",
   "execution_count": 62,
   "id": "b3416479-ee61-4d08-a09d-b212ac2188f4",
   "metadata": {},
   "outputs": [
    {
     "data": {
      "image/png": "[encoded data removed]",
      "text/plain": [
       "<Figure size 1000x800 with 2 Axes>"
      ]
     },
     "metadata": {},
     "output_type": "display_data"
    }
   ],
   "source": [
    "fig = plt.figure(figsize=(10,8))\n",
    "ax = fig.add_subplot(111)\n",
    "c = ax.hist2d(df['english'],\n",
    "              df['mathematics'],\n",
    "              bins=[9,8],\n",
    "              range=[(35,80),(55,95)])\n",
    "ax.set_xlabel('영어')\n",
    "ax.set_ylabel('수학')\n",
    "ax.set_xticks(c[1])\n",
    "ax.set_yticks(c[2])\n",
    "fig.colorbar(c[3],ax=ax)\n",
    "plt.show()"
   ]
  },
  {
   "cell_type": "code",
   "execution_count": null,
   "id": "17ebf2fa-ab60-4dbb-b86c-abee58415ef3",
   "metadata": {},
   "outputs": [],
   "source": []
  }
 ],
 "metadata": {
  "kernelspec": {
   "display_name": "Python 3 (ipykernel)",
   "language": "python",
   "name": "python3"
  },
  "language_info": {
   "codemirror_mode": {
    "name": "ipython",
    "version": 3
   },
   "file_extension": ".py",
   "mimetype": "text/x-python",
   "name": "python",
   "nbconvert_exporter": "python",
   "pygments_lexer": "ipython3",
   "version": "3.9.13"
  }
 },
 "nbformat": 4,
 "nbformat_minor": 5
}
