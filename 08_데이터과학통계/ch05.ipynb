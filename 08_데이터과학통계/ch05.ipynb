{
 "cells": [
  {
   "cell_type": "code",
   "execution_count": 1,
   "id": "3ff34811-11cd-4b56-91a9-8caa10c0e01c",
   "metadata": {},
   "outputs": [],
   "source": [
    "import numpy as np\n",
    "import matplotlib.pyplot as plt"
   ]
  },
  {
   "cell_type": "code",
   "execution_count": 2,
   "id": "25e767aa-5ed0-4adb-953f-0b41e5695cae",
   "metadata": {},
   "outputs": [],
   "source": [
    "x_set = np.array([1,2,3,4,5,6])"
   ]
  },
  {
   "cell_type": "code",
   "execution_count": 3,
   "id": "bb3ecd92-c27f-4f4e-9285-622b02ad366d",
   "metadata": {},
   "outputs": [],
   "source": [
    "def f(x):\n",
    "    if x in x_set:\n",
    "        return x/21\n",
    "    else:\n",
    "        return 0"
   ]
  },
  {
   "cell_type": "code",
   "execution_count": 4,
   "id": "08fe6ea2-c472-4764-8d8c-5efddd97007d",
   "metadata": {},
   "outputs": [],
   "source": [
    "X = [x_set,f]"
   ]
  },
  {
   "cell_type": "code",
   "execution_count": 5,
   "id": "cbae7860-eb0d-44bc-92e2-058426b90a0a",
   "metadata": {},
   "outputs": [
    {
     "data": {
      "text/plain": [
       "array([0.04761905, 0.0952381 , 0.14285714, 0.19047619, 0.23809524,\n",
       "       0.28571429])"
      ]
     },
     "execution_count": 5,
     "metadata": {},
     "output_type": "execute_result"
    }
   ],
   "source": [
    "prob = np.array([ f(x_k)  for x_k in x_set])\n",
    "prob"
   ]
  },
  {
   "cell_type": "code",
   "execution_count": 6,
   "id": "fda236f8-3411-411b-b586-a5d7d95b37fa",
   "metadata": {},
   "outputs": [
    {
     "data": {
      "text/plain": [
       "{1: 0.047619047619047616,\n",
       " 2: 0.09523809523809523,\n",
       " 3: 0.14285714285714285,\n",
       " 4: 0.19047619047619047,\n",
       " 5: 0.23809523809523808,\n",
       " 6: 0.2857142857142857}"
      ]
     },
     "execution_count": 6,
     "metadata": {},
     "output_type": "execute_result"
    }
   ],
   "source": [
    "dict(zip(x_set,prob))"
   ]
  },
  {
   "cell_type": "code",
   "execution_count": 7,
   "id": "53269ecb-7323-45c2-a9ca-f0021baf14d9",
   "metadata": {
    "tags": []
   },
   "outputs": [
    {
     "data": {
      "image/png": "[encoded data removed]",
      "text/plain": [
       "<Figure size 1000x600 with 1 Axes>"
      ]
     },
     "metadata": {},
     "output_type": "display_data"
    }
   ],
   "source": [
    "fig = plt.figure(figsize=(10,6))\n",
    "ax = fig.add_subplot(111)\n",
    "ax.bar(x_set,prob)\n",
    "ax.set_xlabel('value')\n",
    "ax.set_ylabel('probability')\n",
    "plt.show()"
   ]
  },
  {
   "cell_type": "code",
   "execution_count": 8,
   "id": "00d386db-6fed-4f44-9919-590e4ff2e0b6",
   "metadata": {},
   "outputs": [
    {
     "data": {
      "text/plain": [
       "True"
      ]
     },
     "execution_count": 8,
     "metadata": {},
     "output_type": "execute_result"
    }
   ],
   "source": [
    "np.all(prob >= 0)"
   ]
  },
  {
   "cell_type": "code",
   "execution_count": 9,
   "id": "c642964c-93f3-4f77-86b3-6620bfc14112",
   "metadata": {},
   "outputs": [
    {
     "data": {
      "text/plain": [
       "0.9999999999999999"
      ]
     },
     "execution_count": 9,
     "metadata": {},
     "output_type": "execute_result"
    }
   ],
   "source": [
    "np.sum(prob)"
   ]
  },
  {
   "cell_type": "code",
   "execution_count": 10,
   "id": "38767acc-6666-4826-9c83-ad13d3afcd1a",
   "metadata": {},
   "outputs": [],
   "source": [
    "def F(x):\n",
    "    return np.sum([ f(x_k) for x_k in x_set if x_k <= x])"
   ]
  },
  {
   "cell_type": "code",
   "execution_count": 11,
   "id": "52420368-ae76-4c73-bc9d-b3fc9cc19b36",
   "metadata": {},
   "outputs": [
    {
     "data": {
      "text/plain": [
       "0.2857142857142857"
      ]
     },
     "execution_count": 11,
     "metadata": {},
     "output_type": "execute_result"
    }
   ],
   "source": [
    "F(3)"
   ]
  },
  {
   "cell_type": "code",
   "execution_count": 12,
   "id": "10691393-3ddd-466a-8871-8427b65d1408",
   "metadata": {},
   "outputs": [
    {
     "data": {
      "text/plain": [
       "array([ 5,  7,  9, 11, 13, 15])"
      ]
     },
     "execution_count": 12,
     "metadata": {},
     "output_type": "execute_result"
    }
   ],
   "source": [
    "y_set = np.array([ 2*x_k+3  for x_k in x_set])\n",
    "y_set"
   ]
  },
  {
   "cell_type": "code",
   "execution_count": 13,
   "id": "8c021643-c19d-4d13-b0f5-1d23896ace2f",
   "metadata": {},
   "outputs": [
    {
     "data": {
      "text/plain": [
       "{5: 0.047619047619047616,\n",
       " 7: 0.09523809523809523,\n",
       " 9: 0.14285714285714285,\n",
       " 11: 0.19047619047619047,\n",
       " 13: 0.23809523809523808,\n",
       " 15: 0.2857142857142857}"
      ]
     },
     "execution_count": 13,
     "metadata": {},
     "output_type": "execute_result"
    }
   ],
   "source": [
    "prob = np.array([ f(x_k)  for x_k in x_set])\n",
    "dict(zip(y_set,prob))"
   ]
  },
  {
   "cell_type": "code",
   "execution_count": 14,
   "id": "e32c0b81-77f4-4fae-b1a8-a9bc2ea2c668",
   "metadata": {},
   "outputs": [
    {
     "data": {
      "text/plain": [
       "4.333333333333333"
      ]
     },
     "execution_count": 14,
     "metadata": {},
     "output_type": "execute_result"
    }
   ],
   "source": [
    "np.sum([ x_k * f(x_k)  for x_k in x_set])"
   ]
  },
  {
   "cell_type": "code",
   "execution_count": 15,
   "id": "27e34d84-9aaf-40a7-b25f-596e5f123915",
   "metadata": {},
   "outputs": [
    {
     "data": {
      "text/plain": [
       "4.332859"
      ]
     },
     "execution_count": 15,
     "metadata": {},
     "output_type": "execute_result"
    }
   ],
   "source": [
    "sample = np.random.choice(x_set,1000000,p=prob)\n",
    "np.mean(sample)"
   ]
  },
  {
   "cell_type": "code",
   "execution_count": 16,
   "id": "3a696fce-457f-47c1-a9f5-787d97c342c6",
   "metadata": {},
   "outputs": [],
   "source": [
    "def E(X,g=lambda x : x):\n",
    "    x_set,f = X\n",
    "    return np.sum([ g(x_k) * f(x_k)  for x_k in x_set])"
   ]
  },
  {
   "cell_type": "code",
   "execution_count": 17,
   "id": "5fb91441-6611-43cf-aeba-ef21b3664f34",
   "metadata": {},
   "outputs": [
    {
     "data": {
      "text/plain": [
       "[array([1, 2, 3, 4, 5, 6]), <function __main__.f(x)>]"
      ]
     },
     "execution_count": 17,
     "metadata": {},
     "output_type": "execute_result"
    }
   ],
   "source": [
    "X"
   ]
  },
  {
   "cell_type": "code",
   "execution_count": 18,
   "id": "7ca0960f-4e5c-423c-8a1a-37a2c2ca6aa8",
   "metadata": {},
   "outputs": [
    {
     "data": {
      "text/plain": [
       "4.333333333333333"
      ]
     },
     "execution_count": 18,
     "metadata": {},
     "output_type": "execute_result"
    }
   ],
   "source": [
    "E(X)"
   ]
  },
  {
   "cell_type": "code",
   "execution_count": 19,
   "id": "55a413e8-70c4-4c4f-9881-144360a2fd29",
   "metadata": {},
   "outputs": [
    {
     "data": {
      "text/plain": [
       "11.666666666666664"
      ]
     },
     "execution_count": 19,
     "metadata": {},
     "output_type": "execute_result"
    }
   ],
   "source": [
    "E(X,g=lambda x: 2*x+3)"
   ]
  },
  {
   "cell_type": "code",
   "execution_count": 20,
   "id": "62f9411d-744c-44e0-9950-f993e031c333",
   "metadata": {},
   "outputs": [
    {
     "data": {
      "text/plain": [
       "11.666666666666666"
      ]
     },
     "execution_count": 20,
     "metadata": {},
     "output_type": "execute_result"
    }
   ],
   "source": [
    "2*E(X)+3"
   ]
  },
  {
   "cell_type": "code",
   "execution_count": 21,
   "id": "c3dca5b3-d41c-40f8-9104-ebc395a0bb4f",
   "metadata": {},
   "outputs": [
    {
     "data": {
      "text/plain": [
       "2.2222222222222223"
      ]
     },
     "execution_count": 21,
     "metadata": {},
     "output_type": "execute_result"
    }
   ],
   "source": [
    "mean = E(X)\n",
    "np.sum([ (x_k - mean)**2 * f(x_k) for x_k in x_set])"
   ]
  },
  {
   "cell_type": "code",
   "execution_count": 22,
   "id": "883bd235-d1c8-45c9-8c4c-896baa5bcc28",
   "metadata": {},
   "outputs": [],
   "source": [
    "def V(X,g=lambda x: x):\n",
    "    x_set,f = X\n",
    "    mean = E(X,g)\n",
    "    return np.sum([ (g(x_k)-mean)**2 * f(x_k)  for x_k in x_set])"
   ]
  },
  {
   "cell_type": "code",
   "execution_count": 23,
   "id": "cc11912c-b4c4-4098-810c-29b94fd3bfc2",
   "metadata": {},
   "outputs": [
    {
     "data": {
      "text/plain": [
       "2.2222222222222223"
      ]
     },
     "execution_count": 23,
     "metadata": {},
     "output_type": "execute_result"
    }
   ],
   "source": [
    "V(X)"
   ]
  },
  {
   "cell_type": "code",
   "execution_count": 24,
   "id": "8b69e04c-e3c7-4216-b3c3-67f08dde9c11",
   "metadata": {},
   "outputs": [
    {
     "data": {
      "text/plain": [
       "8.88888888888889"
      ]
     },
     "execution_count": 24,
     "metadata": {},
     "output_type": "execute_result"
    }
   ],
   "source": [
    "V(X,lambda x: 2*x+3)"
   ]
  },
  {
   "cell_type": "code",
   "execution_count": 25,
   "id": "e399d2aa-a404-4712-9250-fc025e2619bf",
   "metadata": {},
   "outputs": [
    {
     "data": {
      "text/plain": [
       "8.88888888888889"
      ]
     },
     "execution_count": 25,
     "metadata": {},
     "output_type": "execute_result"
    }
   ],
   "source": [
    "2**2*V(X)"
   ]
  },
  {
   "cell_type": "code",
   "execution_count": 26,
   "id": "beb19a3f-6a57-4212-8b18-b6b7bfe9d50a",
   "metadata": {
    "tags": []
   },
   "outputs": [
    {
     "data": {
      "text/plain": [
       "(array([ 2,  3,  4,  5,  6,  7,  8,  9, 10, 11, 12]),\n",
       " array([1, 2, 3, 4, 5, 6]))"
      ]
     },
     "execution_count": 26,
     "metadata": {},
     "output_type": "execute_result"
    }
   ],
   "source": [
    "x_set = np.arange(2,13)\n",
    "y_set = np.arange(1,7)\n",
    "x_set,y_set"
   ]
  },
  {
   "cell_type": "code",
   "execution_count": 27,
   "id": "4092a27f-5df1-4559-95f8-39aac2980b12",
   "metadata": {},
   "outputs": [],
   "source": [
    "def f_XY(x,y):\n",
    "    if 1 <= y <= 6 and 1 <= x-y <= 6:\n",
    "        return y*(x-y)/441\n",
    "    else:\n",
    "        return 0"
   ]
  },
  {
   "cell_type": "code",
   "execution_count": 28,
   "id": "9137a22a-608b-4fd7-b699-b67e17ed0dab",
   "metadata": {},
   "outputs": [],
   "source": [
    "XY = [x_set,y_set,f_XY]"
   ]
  },
  {
   "cell_type": "code",
   "execution_count": 29,
   "id": "04f58832-8a46-4e35-928b-06ea18f7dc54",
   "metadata": {},
   "outputs": [],
   "source": [
    "prob = np.array([[ f_XY(x_i,y_j) for y_j in y_set ] for x_i in x_set ])"
   ]
  },
  {
   "cell_type": "code",
   "execution_count": 30,
   "id": "a5f09d5a-0288-42d3-a8ec-e75c0617997a",
   "metadata": {},
   "outputs": [
    {
     "data": {
      "text/plain": [
       "0.0022675736961451248"
      ]
     },
     "execution_count": 30,
     "metadata": {},
     "output_type": "execute_result"
    }
   ],
   "source": [
    "1/441"
   ]
  },
  {
   "cell_type": "code",
   "execution_count": 31,
   "id": "dad9b053-d7d8-48ca-b90f-6307dbcc1998",
   "metadata": {
    "tags": []
   },
   "outputs": [
    {
     "data": {
      "text/plain": [
       "array([[0.00226757, 0.        , 0.        , 0.        , 0.        ,\n",
       "        0.        ],\n",
       "       [0.00453515, 0.00453515, 0.        , 0.        , 0.        ,\n",
       "        0.        ],\n",
       "       [0.00680272, 0.00907029, 0.00680272, 0.        , 0.        ,\n",
       "        0.        ],\n",
       "       [0.00907029, 0.01360544, 0.01360544, 0.00907029, 0.        ,\n",
       "        0.        ],\n",
       "       [0.01133787, 0.01814059, 0.02040816, 0.01814059, 0.01133787,\n",
       "        0.        ],\n",
       "       [0.01360544, 0.02267574, 0.02721088, 0.02721088, 0.02267574,\n",
       "        0.01360544],\n",
       "       [0.        , 0.02721088, 0.03401361, 0.03628118, 0.03401361,\n",
       "        0.02721088],\n",
       "       [0.        , 0.        , 0.04081633, 0.04535147, 0.04535147,\n",
       "        0.04081633],\n",
       "       [0.        , 0.        , 0.        , 0.05442177, 0.05668934,\n",
       "        0.05442177],\n",
       "       [0.        , 0.        , 0.        , 0.        , 0.06802721,\n",
       "        0.06802721],\n",
       "       [0.        , 0.        , 0.        , 0.        , 0.        ,\n",
       "        0.08163265]])"
      ]
     },
     "execution_count": 31,
     "metadata": {},
     "output_type": "execute_result"
    }
   ],
   "source": [
    "prob"
   ]
  },
  {
   "cell_type": "code",
   "execution_count": 32,
   "id": "828d15fe-eddb-4d37-b82a-317e44ffa046",
   "metadata": {},
   "outputs": [
    {
     "data": {
      "text/plain": [
       "(11, 6)"
      ]
     },
     "execution_count": 32,
     "metadata": {},
     "output_type": "execute_result"
    }
   ],
   "source": [
    "prob.shape"
   ]
  },
  {
   "cell_type": "code",
   "execution_count": 33,
   "id": "846ce708-2798-405a-85ee-e81fe96f3464",
   "metadata": {
    "tags": []
   },
   "outputs": [
    {
     "data": {
      "image/png": "[encoded data removed]",
      "text/plain": [
       "<Figure size 1000x800 with 2 Axes>"
      ]
     },
     "metadata": {},
     "output_type": "display_data"
    }
   ],
   "source": [
    "fig = plt.figure(figsize=(10,8))\n",
    "ax = fig.add_subplot(111)\n",
    "\n",
    "c = ax.pcolor(prob)\n",
    "ax.set_xticks(np.arange(prob.shape[1]) + 0.5 , minor=False)\n",
    "ax.set_yticks(np.arange(prob.shape[0]) + 0.5 , minor=False)\n",
    "ax.set_xticklabels(np.arange(1,7), minor=False)\n",
    "ax.set_yticklabels(np.arange(2,13), minor=False)\n",
    "ax.invert_yaxis()\n",
    "ax.xaxis.tick_top()\n",
    "fig.colorbar(c,ax=ax)\n",
    "plt.show()"
   ]
  },
  {
   "cell_type": "code",
   "execution_count": 34,
   "id": "de990776-02ff-4fa0-b8c0-ed667e1829da",
   "metadata": {},
   "outputs": [
    {
     "data": {
      "text/plain": [
       "True"
      ]
     },
     "execution_count": 34,
     "metadata": {},
     "output_type": "execute_result"
    }
   ],
   "source": [
    "np.all(prob >= 0)"
   ]
  },
  {
   "cell_type": "code",
   "execution_count": 35,
   "id": "3969b934-c02c-4432-961c-8e5b99ddd7bb",
   "metadata": {},
   "outputs": [
    {
     "data": {
      "text/plain": [
       "1.0"
      ]
     },
     "execution_count": 35,
     "metadata": {},
     "output_type": "execute_result"
    }
   ],
   "source": [
    "np.sum(prob)"
   ]
  },
  {
   "cell_type": "code",
   "execution_count": 36,
   "id": "0239276c-73f4-4e34-9a10-772ab54514eb",
   "metadata": {},
   "outputs": [],
   "source": [
    "def f_X(x):\n",
    "    return np.sum([ f_XY(x,y_k) for y_k in y_set])\n",
    "\n",
    "def f_Y(y):\n",
    "    return np.sum([ f_XY(x_k,y) for x_k in x_set])"
   ]
  },
  {
   "cell_type": "code",
   "execution_count": 37,
   "id": "7a29d069-796c-43f3-b5f7-7bf9c9c7dbd4",
   "metadata": {},
   "outputs": [],
   "source": [
    "X = [x_set, f_X]\n",
    "y = [y_set, f_Y]"
   ]
  },
  {
   "cell_type": "code",
   "execution_count": 38,
   "id": "06945231-40a3-4f7b-b8b9-92c8f1a3800e",
   "metadata": {},
   "outputs": [],
   "source": [
    "prob_x = np.array([ f_X(x_k)  for x_k in x_set])\n",
    "prob_y = np.array([ f_Y(y_k)  for y_k in y_set])"
   ]
  },
  {
   "cell_type": "code",
   "execution_count": 39,
   "id": "ba96cc7d-0176-41ca-a2da-12965daa766c",
   "metadata": {},
   "outputs": [
    {
     "data": {
      "text/plain": [
       "array([0.00226757, 0.00907029, 0.02267574, 0.04535147, 0.07936508,\n",
       "       0.12698413, 0.15873016, 0.1723356 , 0.16553288, 0.13605442,\n",
       "       0.08163265])"
      ]
     },
     "execution_count": 39,
     "metadata": {},
     "output_type": "execute_result"
    }
   ],
   "source": [
    "prob_x"
   ]
  },
  {
   "cell_type": "code",
   "execution_count": 40,
   "id": "da96fcfc-54c6-469c-a86b-a4c8b9dcab34",
   "metadata": {},
   "outputs": [
    {
     "data": {
      "text/plain": [
       "array([0.04761905, 0.0952381 , 0.14285714, 0.19047619, 0.23809524,\n",
       "       0.28571429])"
      ]
     },
     "execution_count": 40,
     "metadata": {},
     "output_type": "execute_result"
    }
   ],
   "source": [
    "prob_y"
   ]
  },
  {
   "cell_type": "code",
   "execution_count": 41,
   "id": "abcfd64b-eb36-4a0c-9741-c18883f8a863",
   "metadata": {},
   "outputs": [
    {
     "data": {
      "image/png": "[encoded data removed]",
      "text/plain": [
       "<Figure size 1200x400 with 2 Axes>"
      ]
     },
     "metadata": {},
     "output_type": "display_data"
    }
   ],
   "source": [
    "fig = plt.figure(figsize=(12,4))\n",
    "ax1 = fig.add_subplot(121)\n",
    "ax2 = fig.add_subplot(122)\n",
    "ax1.bar(x_set,prob_x)\n",
    "ax1.set_title('X_marginal probability distribution')\n",
    "ax1.set_xlabel('X_values')\n",
    "ax1.set_ylabel('probability')\n",
    "ax1.set_xticks(x_set)\n",
    "\n",
    "ax2.bar(y_set,prob_y)\n",
    "ax2.set_title('Y_marginal probability distribution')\n",
    "ax2.set_xlabel('Y_values')\n",
    "ax2.set_ylabel('probability')\n",
    "ax2.set_xticks(y_set)\n",
    "plt.show()"
   ]
  },
  {
   "cell_type": "code",
   "execution_count": 42,
   "id": "2009d1b4-ad38-42e5-a963-9d418d0c1f3c",
   "metadata": {},
   "outputs": [
    {
     "data": {
      "text/plain": [
       "8.666666666666666"
      ]
     },
     "execution_count": 42,
     "metadata": {},
     "output_type": "execute_result"
    }
   ],
   "source": [
    "np.sum([ x_i * f_XY(x_i,y_j) for x_i in x_set for y_j in y_set])"
   ]
  },
  {
   "cell_type": "code",
   "execution_count": 43,
   "id": "b93771b8-9501-4141-8b7f-c0ad8c685ddd",
   "metadata": {},
   "outputs": [],
   "source": [
    "def E(XY,g):\n",
    "    x_set,y_set,f_XY = XY\n",
    "    return np.sum([ g(x_i,y_j) * f_XY(x_i,y_j) for x_i in x_set for y_j in y_set])"
   ]
  },
  {
   "cell_type": "code",
   "execution_count": 44,
   "id": "dbd76c1a-a53f-4dd8-8f38-3b449d80d563",
   "metadata": {},
   "outputs": [],
   "source": [
    "mean_X = E(XY,lambda x,y:x)"
   ]
  },
  {
   "cell_type": "code",
   "execution_count": 45,
   "id": "437a9263-a59b-4509-9722-10d74a7940f8",
   "metadata": {},
   "outputs": [],
   "source": [
    "mean_Y = E(XY,lambda x,y:y)"
   ]
  },
  {
   "cell_type": "code",
   "execution_count": 46,
   "id": "84cc49a7-478e-462c-852e-27bfb4a5a662",
   "metadata": {},
   "outputs": [
    {
     "data": {
      "text/plain": [
       "(8.666666666666666, 4.333333333333333)"
      ]
     },
     "execution_count": 46,
     "metadata": {},
     "output_type": "execute_result"
    }
   ],
   "source": [
    "mean_X,mean_Y"
   ]
  },
  {
   "cell_type": "code",
   "execution_count": 47,
   "id": "b48517d9-1b58-459c-86fd-f9e5083084bd",
   "metadata": {},
   "outputs": [
    {
     "data": {
      "text/plain": [
       "30.333333333333332"
      ]
     },
     "execution_count": 47,
     "metadata": {},
     "output_type": "execute_result"
    }
   ],
   "source": [
    "a,b=2,3\n",
    "E(XY,lambda x,y: a*x+b*y)"
   ]
  },
  {
   "cell_type": "code",
   "execution_count": 48,
   "id": "0cbd682f-66ca-474d-ad0f-2aac15756b35",
   "metadata": {},
   "outputs": [
    {
     "data": {
      "text/plain": [
       "30.333333333333332"
      ]
     },
     "execution_count": 48,
     "metadata": {},
     "output_type": "execute_result"
    }
   ],
   "source": [
    "a*mean_X+b*mean_Y"
   ]
  },
  {
   "cell_type": "code",
   "execution_count": 49,
   "id": "b08513f2-d68e-4cf9-8825-1a99aa0d7645",
   "metadata": {},
   "outputs": [
    {
     "data": {
      "text/plain": [
       "4.444444444444444"
      ]
     },
     "execution_count": 49,
     "metadata": {},
     "output_type": "execute_result"
    }
   ],
   "source": [
    "np.sum([(x_i-mean_X)**2 * f_XY(x_i,y_j)   for x_i in x_set for y_j in y_set])"
   ]
  },
  {
   "cell_type": "code",
   "execution_count": 50,
   "id": "7ddb704c-f598-400a-8add-819edb1eda39",
   "metadata": {},
   "outputs": [],
   "source": [
    "def V(XY,g):\n",
    "    x_set,y_set,f_XY = XY\n",
    "    mean = E(XY,g)\n",
    "    return np.sum([(g(x_i,y_j)- mean)**2 * f_XY(x_i,y_j)   for x_i in x_set for y_j in y_set])"
   ]
  },
  {
   "cell_type": "code",
   "execution_count": 51,
   "id": "c77040d5-7eb3-4110-ab2a-9b2b590ad983",
   "metadata": {},
   "outputs": [
    {
     "data": {
      "text/plain": [
       "4.444444444444444"
      ]
     },
     "execution_count": 51,
     "metadata": {},
     "output_type": "execute_result"
    }
   ],
   "source": [
    "var_X = V(XY,g=lambda x,y:x)\n",
    "var_X"
   ]
  },
  {
   "cell_type": "code",
   "execution_count": 52,
   "id": "da734807-be44-4611-9ede-63dfbdf03def",
   "metadata": {},
   "outputs": [
    {
     "data": {
      "text/plain": [
       "2.2222222222222223"
      ]
     },
     "execution_count": 52,
     "metadata": {},
     "output_type": "execute_result"
    }
   ],
   "source": [
    "var_Y = V(XY,g=lambda x,y:y)\n",
    "var_Y"
   ]
  },
  {
   "cell_type": "code",
   "execution_count": 53,
   "id": "10d6809f-f8e9-4d14-8044-4bc019b2c57c",
   "metadata": {},
   "outputs": [],
   "source": [
    "def Cov(XY):\n",
    "    x_set,y_set,f_XY = XY\n",
    "    mean_X = E(XY,lambda x,y:x)\n",
    "    mean_Y = E(XY,lambda x,y:y)\n",
    "    return np.sum([(x_i-mean_X)*(y_j-mean_Y)*f_XY(x_i,y_j) for x_i in x_set for y_j in y_set])"
   ]
  },
  {
   "cell_type": "code",
   "execution_count": 54,
   "id": "395550d8-20f3-4ca2-b24d-7b334c1deada",
   "metadata": {},
   "outputs": [],
   "source": [
    "cov_xy = Cov(XY)"
   ]
  },
  {
   "cell_type": "code",
   "execution_count": 55,
   "id": "218f243f-2e83-440d-ab9e-652106cd6568",
   "metadata": {},
   "outputs": [
    {
     "data": {
      "text/plain": [
       "2.222222222222222"
      ]
     },
     "execution_count": 55,
     "metadata": {},
     "output_type": "execute_result"
    }
   ],
   "source": [
    "cov_xy"
   ]
  },
  {
   "cell_type": "code",
   "execution_count": 56,
   "id": "fd51ddd0-8ae6-4ae5-a012-cdb145bbf842",
   "metadata": {},
   "outputs": [
    {
     "data": {
      "text/plain": [
       "64.44444444444444"
      ]
     },
     "execution_count": 56,
     "metadata": {},
     "output_type": "execute_result"
    }
   ],
   "source": [
    "a,b=2,3\n",
    "V(XY,lambda x,y:a*x+b*y)"
   ]
  },
  {
   "cell_type": "code",
   "execution_count": 57,
   "id": "eba9f824-5f14-4005-8c67-71b81e4b7c97",
   "metadata": {},
   "outputs": [
    {
     "data": {
      "text/plain": [
       "64.44444444444443"
      ]
     },
     "execution_count": 57,
     "metadata": {},
     "output_type": "execute_result"
    }
   ],
   "source": [
    "a**2 * var_X + b**2 * var_Y + 2*a*b*cov_xy"
   ]
  },
  {
   "cell_type": "code",
   "execution_count": 58,
   "id": "f8fd818b-8e40-4c14-af58-96cb7c5c653a",
   "metadata": {},
   "outputs": [
    {
     "data": {
      "text/plain": [
       "0.7071067811865474"
      ]
     },
     "execution_count": 58,
     "metadata": {},
     "output_type": "execute_result"
    }
   ],
   "source": [
    "cov_xy/np.sqrt(var_X*var_Y)"
   ]
  },
  {
   "cell_type": "code",
   "execution_count": null,
   "id": "33657ba4-6a60-462d-8cce-1b6df188af2b",
   "metadata": {},
   "outputs": [],
   "source": []
  }
 ],
 "metadata": {
  "kernelspec": {
   "display_name": "Python 3 (ipykernel)",
   "language": "python",
   "name": "python3"
  },
  "language_info": {
   "codemirror_mode": {
    "name": "ipython",
    "version": 3
   },
   "file_extension": ".py",
   "mimetype": "text/x-python",
   "name": "python",
   "nbconvert_exporter": "python",
   "pygments_lexer": "ipython3",
   "version": "3.9.13"
  }
 },
 "nbformat": 4,
 "nbformat_minor": 5
}
